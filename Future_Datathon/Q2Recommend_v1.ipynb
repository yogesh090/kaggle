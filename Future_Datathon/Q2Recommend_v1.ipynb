{
 "cells": [
  {
   "cell_type": "code",
   "execution_count": 2,
   "metadata": {
    "collapsed": true
   },
   "outputs": [],
   "source": [
    "import pandas as pd\n",
    "import numpy as np\n",
    "from sklearn.cluster import KMeans\n",
    "from sklearn.metrics import silhouette_score\n",
    "from sklearn.preprocessing import LabelEncoder, RobustScaler"
   ]
  },
  {
   "cell_type": "code",
   "execution_count": 3,
   "metadata": {},
   "outputs": [
    {
     "data": {
      "text/plain": [
       "'C:\\\\Users\\\\635718\\\\Desktop\\\\DataScience\\\\HackerEarth\\\\FutureDatathon'"
      ]
     },
     "execution_count": 3,
     "metadata": {},
     "output_type": "execute_result"
    }
   ],
   "source": [
    "pwd"
   ]
  },
  {
   "cell_type": "code",
   "execution_count": 10,
   "metadata": {
    "collapsed": true
   },
   "outputs": [],
   "source": [
    "sample = pd.read_csv('./Q2RecData/sampleSubmission.csv')"
   ]
  },
  {
   "cell_type": "code",
   "execution_count": null,
   "metadata": {
    "collapsed": true
   },
   "outputs": [],
   "source": [
    "sample.head(2)"
   ]
  },
  {
   "cell_type": "code",
   "execution_count": 5,
   "metadata": {
    "collapsed": true
   },
   "outputs": [],
   "source": [
    "requiredCustomer = sample['customerID']"
   ]
  },
  {
   "cell_type": "code",
   "execution_count": 6,
   "metadata": {},
   "outputs": [
    {
     "data": {
      "text/plain": [
       "(39205,)"
      ]
     },
     "execution_count": 6,
     "metadata": {},
     "output_type": "execute_result"
    }
   ],
   "source": [
    "requiredCustomer.shape"
   ]
  },
  {
   "cell_type": "code",
   "execution_count": 17,
   "metadata": {
    "collapsed": true
   },
   "outputs": [],
   "source": [
    "# load product and sample file\n",
    "products = pd.read_csv('./Q2RecData/products.csv', nrows=500)"
   ]
  },
  {
   "cell_type": "code",
   "execution_count": 18,
   "metadata": {},
   "outputs": [
    {
     "data": {
      "text/plain": [
       "(500, 16)"
      ]
     },
     "execution_count": 18,
     "metadata": {},
     "output_type": "execute_result"
    }
   ],
   "source": [
    "products.shape"
   ]
  },
  {
   "cell_type": "code",
   "execution_count": 19,
   "metadata": {},
   "outputs": [
    {
     "data": {
      "text/plain": [
       "customerID                     25\n",
       "DOB                            25\n",
       "Gender                          2\n",
       "State                           2\n",
       "PinCode                        17\n",
       "transactionDate                58\n",
       "store_code                      4\n",
       "store_description               4\n",
       "till_no                        17\n",
       "transaction_number_by_till     69\n",
       "promo_code                     77\n",
       "promotion_description          76\n",
       "product_code                  376\n",
       "product_description           376\n",
       "sale_price_after_promo        279\n",
       "discountUsed                    1\n",
       "dtype: int64"
      ]
     },
     "execution_count": 19,
     "metadata": {},
     "output_type": "execute_result"
    }
   ],
   "source": [
    "products.nunique()"
   ]
  },
  {
   "cell_type": "code",
   "execution_count": 20,
   "metadata": {},
   "outputs": [
    {
     "data": {
      "text/html": [
       "<div>\n",
       "<style>\n",
       "    .dataframe thead tr:only-child th {\n",
       "        text-align: right;\n",
       "    }\n",
       "\n",
       "    .dataframe thead th {\n",
       "        text-align: left;\n",
       "    }\n",
       "\n",
       "    .dataframe tbody tr th {\n",
       "        vertical-align: top;\n",
       "    }\n",
       "</style>\n",
       "<table border=\"1\" class=\"dataframe\">\n",
       "  <thead>\n",
       "    <tr style=\"text-align: right;\">\n",
       "      <th></th>\n",
       "      <th>customerID</th>\n",
       "      <th>DOB</th>\n",
       "      <th>Gender</th>\n",
       "      <th>State</th>\n",
       "      <th>PinCode</th>\n",
       "      <th>transactionDate</th>\n",
       "      <th>store_code</th>\n",
       "      <th>store_description</th>\n",
       "      <th>till_no</th>\n",
       "      <th>transaction_number_by_till</th>\n",
       "      <th>promo_code</th>\n",
       "      <th>promotion_description</th>\n",
       "      <th>product_code</th>\n",
       "      <th>product_description</th>\n",
       "      <th>sale_price_after_promo</th>\n",
       "      <th>discountUsed</th>\n",
       "    </tr>\n",
       "  </thead>\n",
       "  <tbody>\n",
       "    <tr>\n",
       "      <th>0</th>\n",
       "      <td>BBID_2041</td>\n",
       "      <td>1981-10-18</td>\n",
       "      <td>male</td>\n",
       "      <td>NaN</td>\n",
       "      <td>452001</td>\n",
       "      <td>2016-01-19</td>\n",
       "      <td>2655</td>\n",
       "      <td>BB-INDORE-MALHAR MEGA MALL</td>\n",
       "      <td>2</td>\n",
       "      <td>51535</td>\n",
       "      <td>NONPROMO</td>\n",
       "      <td>NaN</td>\n",
       "      <td>300785147</td>\n",
       "      <td>BB-CB-16X20X168SWG-Suitable for ROI New</td>\n",
       "      <td>2.0</td>\n",
       "      <td>Payback</td>\n",
       "    </tr>\n",
       "    <tr>\n",
       "      <th>1</th>\n",
       "      <td>BBID_2041</td>\n",
       "      <td>1981-10-18</td>\n",
       "      <td>male</td>\n",
       "      <td>NaN</td>\n",
       "      <td>452001</td>\n",
       "      <td>2016-06-21</td>\n",
       "      <td>2655</td>\n",
       "      <td>BB-INDORE-MALHAR MEGA MALL</td>\n",
       "      <td>21</td>\n",
       "      <td>57836</td>\n",
       "      <td>NONPROMO</td>\n",
       "      <td>NaN</td>\n",
       "      <td>1000315939</td>\n",
       "      <td>SOO FRESH ROLL PIZZA 1PLT</td>\n",
       "      <td>40.0</td>\n",
       "      <td>Payback</td>\n",
       "    </tr>\n",
       "  </tbody>\n",
       "</table>\n",
       "</div>"
      ],
      "text/plain": [
       "  customerID         DOB Gender State  PinCode transactionDate  store_code  \\\n",
       "0  BBID_2041  1981-10-18   male   NaN   452001      2016-01-19        2655   \n",
       "1  BBID_2041  1981-10-18   male   NaN   452001      2016-06-21        2655   \n",
       "\n",
       "            store_description  till_no  transaction_number_by_till promo_code  \\\n",
       "0  BB-INDORE-MALHAR MEGA MALL        2                       51535   NONPROMO   \n",
       "1  BB-INDORE-MALHAR MEGA MALL       21                       57836   NONPROMO   \n",
       "\n",
       "  promotion_description  product_code  \\\n",
       "0                   NaN     300785147   \n",
       "1                   NaN    1000315939   \n",
       "\n",
       "                       product_description  sale_price_after_promo  \\\n",
       "0  BB-CB-16X20X168SWG-Suitable for ROI New                     2.0   \n",
       "1                SOO FRESH ROLL PIZZA 1PLT                    40.0   \n",
       "\n",
       "  discountUsed  \n",
       "0      Payback  \n",
       "1      Payback  "
      ]
     },
     "execution_count": 20,
     "metadata": {},
     "output_type": "execute_result"
    }
   ],
   "source": [
    "products.head(2)"
   ]
  },
  {
   "cell_type": "code",
   "execution_count": 60,
   "metadata": {},
   "outputs": [
    {
     "data": {
      "text/html": [
       "<div>\n",
       "<style>\n",
       "    .dataframe thead tr:only-child th {\n",
       "        text-align: right;\n",
       "    }\n",
       "\n",
       "    .dataframe thead th {\n",
       "        text-align: left;\n",
       "    }\n",
       "\n",
       "    .dataframe tbody tr th {\n",
       "        vertical-align: top;\n",
       "    }\n",
       "</style>\n",
       "<table border=\"1\" class=\"dataframe\">\n",
       "  <thead>\n",
       "    <tr style=\"text-align: right;\">\n",
       "      <th></th>\n",
       "      <th>customerID</th>\n",
       "      <th>DOB</th>\n",
       "      <th>Gender</th>\n",
       "      <th>State</th>\n",
       "      <th>PinCode</th>\n",
       "      <th>transactionDate</th>\n",
       "      <th>store_code</th>\n",
       "      <th>store_description</th>\n",
       "      <th>till_no</th>\n",
       "      <th>transaction_number_by_till</th>\n",
       "      <th>promo_code</th>\n",
       "      <th>promotion_description</th>\n",
       "      <th>product_code</th>\n",
       "      <th>product_description</th>\n",
       "      <th>sale_price_after_promo</th>\n",
       "      <th>discountUsed</th>\n",
       "    </tr>\n",
       "  </thead>\n",
       "  <tbody>\n",
       "    <tr>\n",
       "      <th>283</th>\n",
       "      <td>BBID_20415</td>\n",
       "      <td>1986-07-19</td>\n",
       "      <td>male</td>\n",
       "      <td>MADHYA PRADESH</td>\n",
       "      <td>462016</td>\n",
       "      <td>2016-04-28</td>\n",
       "      <td>2906</td>\n",
       "      <td>BB-INDORE-TREASURE ISLAND</td>\n",
       "      <td>11</td>\n",
       "      <td>632</td>\n",
       "      <td>NONPROMO</td>\n",
       "      <td>NaN</td>\n",
       "      <td>1000328475001</td>\n",
       "      <td>SCF-3151-LG112-PR-RY-SE, 50x180, NAVY</td>\n",
       "      <td>199.0</td>\n",
       "      <td>Payback</td>\n",
       "    </tr>\n",
       "    <tr>\n",
       "      <th>284</th>\n",
       "      <td>BBID_20415</td>\n",
       "      <td>1986-07-19</td>\n",
       "      <td>male</td>\n",
       "      <td>MADHYA PRADESH</td>\n",
       "      <td>462016</td>\n",
       "      <td>2016-04-28</td>\n",
       "      <td>2906</td>\n",
       "      <td>BB-INDORE-TREASURE ISLAND</td>\n",
       "      <td>11</td>\n",
       "      <td>632</td>\n",
       "      <td>NONPROMO</td>\n",
       "      <td>NaN</td>\n",
       "      <td>1000254413006</td>\n",
       "      <td>DJWV-4161-RU-554-SO-LC, S, TAUPE</td>\n",
       "      <td>799.0</td>\n",
       "      <td>Payback</td>\n",
       "    </tr>\n",
       "    <tr>\n",
       "      <th>291</th>\n",
       "      <td>BBID_20415</td>\n",
       "      <td>1986-07-19</td>\n",
       "      <td>male</td>\n",
       "      <td>MADHYA PRADESH</td>\n",
       "      <td>462016</td>\n",
       "      <td>2016-04-28</td>\n",
       "      <td>2906</td>\n",
       "      <td>BB-INDORE-TREASURE ISLAND</td>\n",
       "      <td>11</td>\n",
       "      <td>632</td>\n",
       "      <td>NONPROMO</td>\n",
       "      <td>NaN</td>\n",
       "      <td>1000531410</td>\n",
       "      <td>SOFRSH VD COOKIES ALMOND PST TB 200G</td>\n",
       "      <td>80.0</td>\n",
       "      <td>Payback</td>\n",
       "    </tr>\n",
       "    <tr>\n",
       "      <th>294</th>\n",
       "      <td>BBID_20415</td>\n",
       "      <td>1986-07-19</td>\n",
       "      <td>male</td>\n",
       "      <td>MADHYA PRADESH</td>\n",
       "      <td>462016</td>\n",
       "      <td>2016-04-28</td>\n",
       "      <td>2906</td>\n",
       "      <td>BB-INDORE-TREASURE ISLAND</td>\n",
       "      <td>11</td>\n",
       "      <td>632</td>\n",
       "      <td>NONPROMO</td>\n",
       "      <td>NaN</td>\n",
       "      <td>1000531236</td>\n",
       "      <td>SOFRSH VD COOKIES PISTA TB 200G</td>\n",
       "      <td>70.0</td>\n",
       "      <td>Payback</td>\n",
       "    </tr>\n",
       "    <tr>\n",
       "      <th>319</th>\n",
       "      <td>BBID_20415</td>\n",
       "      <td>1986-07-19</td>\n",
       "      <td>male</td>\n",
       "      <td>MADHYA PRADESH</td>\n",
       "      <td>462016</td>\n",
       "      <td>2016-04-28</td>\n",
       "      <td>2906</td>\n",
       "      <td>BB-INDORE-TREASURE ISLAND</td>\n",
       "      <td>11</td>\n",
       "      <td>632</td>\n",
       "      <td>NONPROMO</td>\n",
       "      <td>NaN</td>\n",
       "      <td>1000435159002</td>\n",
       "      <td>BFTS-4161-BF03-C-HS-RF-, M, SEA BLUE MEL</td>\n",
       "      <td>599.0</td>\n",
       "      <td>Payback</td>\n",
       "    </tr>\n",
       "    <tr>\n",
       "      <th>368</th>\n",
       "      <td>BBID_20415</td>\n",
       "      <td>1986-07-19</td>\n",
       "      <td>male</td>\n",
       "      <td>MADHYA PRADESH</td>\n",
       "      <td>462016</td>\n",
       "      <td>2016-04-28</td>\n",
       "      <td>2906</td>\n",
       "      <td>BB-INDORE-TREASURE ISLAND</td>\n",
       "      <td>11</td>\n",
       "      <td>632</td>\n",
       "      <td>NONPROMO</td>\n",
       "      <td>NaN</td>\n",
       "      <td>1000460036006</td>\n",
       "      <td>SPTP-0010-1673-A-FL-SF, S, NAVY HEATHER</td>\n",
       "      <td>699.0</td>\n",
       "      <td>Payback</td>\n",
       "    </tr>\n",
       "  </tbody>\n",
       "</table>\n",
       "</div>"
      ],
      "text/plain": [
       "     customerID         DOB Gender           State  PinCode transactionDate  \\\n",
       "283  BBID_20415  1986-07-19   male  MADHYA PRADESH   462016      2016-04-28   \n",
       "284  BBID_20415  1986-07-19   male  MADHYA PRADESH   462016      2016-04-28   \n",
       "291  BBID_20415  1986-07-19   male  MADHYA PRADESH   462016      2016-04-28   \n",
       "294  BBID_20415  1986-07-19   male  MADHYA PRADESH   462016      2016-04-28   \n",
       "319  BBID_20415  1986-07-19   male  MADHYA PRADESH   462016      2016-04-28   \n",
       "368  BBID_20415  1986-07-19   male  MADHYA PRADESH   462016      2016-04-28   \n",
       "\n",
       "     store_code          store_description  till_no  \\\n",
       "283        2906  BB-INDORE-TREASURE ISLAND       11   \n",
       "284        2906  BB-INDORE-TREASURE ISLAND       11   \n",
       "291        2906  BB-INDORE-TREASURE ISLAND       11   \n",
       "294        2906  BB-INDORE-TREASURE ISLAND       11   \n",
       "319        2906  BB-INDORE-TREASURE ISLAND       11   \n",
       "368        2906  BB-INDORE-TREASURE ISLAND       11   \n",
       "\n",
       "     transaction_number_by_till promo_code promotion_description  \\\n",
       "283                         632   NONPROMO                   NaN   \n",
       "284                         632   NONPROMO                   NaN   \n",
       "291                         632   NONPROMO                   NaN   \n",
       "294                         632   NONPROMO                   NaN   \n",
       "319                         632   NONPROMO                   NaN   \n",
       "368                         632   NONPROMO                   NaN   \n",
       "\n",
       "      product_code                       product_description  \\\n",
       "283  1000328475001     SCF-3151-LG112-PR-RY-SE, 50x180, NAVY   \n",
       "284  1000254413006          DJWV-4161-RU-554-SO-LC, S, TAUPE   \n",
       "291     1000531410      SOFRSH VD COOKIES ALMOND PST TB 200G   \n",
       "294     1000531236           SOFRSH VD COOKIES PISTA TB 200G   \n",
       "319  1000435159002  BFTS-4161-BF03-C-HS-RF-, M, SEA BLUE MEL   \n",
       "368  1000460036006   SPTP-0010-1673-A-FL-SF, S, NAVY HEATHER   \n",
       "\n",
       "     sale_price_after_promo discountUsed  \n",
       "283                   199.0      Payback  \n",
       "284                   799.0      Payback  \n",
       "291                    80.0      Payback  \n",
       "294                    70.0      Payback  \n",
       "319                   599.0      Payback  \n",
       "368                   699.0      Payback  "
      ]
     },
     "execution_count": 60,
     "metadata": {},
     "output_type": "execute_result"
    }
   ],
   "source": [
    "#products[(products['customerID'] == 'BBID_2049382') | (products['customerID'] == 'BBID_2049678')]\n",
    "products[(products['transaction_number_by_till'] == 632)]"
   ]
  },
  {
   "cell_type": "code",
   "execution_count": 132,
   "metadata": {},
   "outputs": [
    {
     "data": {
      "text/plain": [
       "customerID\n",
       "BBID_20415    137\n",
       "BBID_20413     67\n",
       "Name: product_code, dtype: int64"
      ]
     },
     "execution_count": 132,
     "metadata": {},
     "output_type": "execute_result"
    }
   ],
   "source": [
    "products.groupby(by='customerID')['product_code'].count().sort_values(ascending=False).head(2)\n",
    "#count().sort_values(ascending=False).head() #BBID_20445646    "
   ]
  },
  {
   "cell_type": "code",
   "execution_count": 23,
   "metadata": {
    "collapsed": true
   },
   "outputs": [],
   "source": [
    "misfit_customers = list(set(sample['customerID']) - set(products['customerID']))"
   ]
  },
  {
   "cell_type": "code",
   "execution_count": 24,
   "metadata": {},
   "outputs": [
    {
     "data": {
      "text/plain": [
       "39203"
      ]
     },
     "execution_count": 24,
     "metadata": {},
     "output_type": "execute_result"
    }
   ],
   "source": [
    "len(misfit_customers)"
   ]
  },
  {
   "cell_type": "code",
   "execution_count": 25,
   "metadata": {},
   "outputs": [
    {
     "name": "stderr",
     "output_type": "stream",
     "text": [
      "C:\\ProgramData\\Anaconda3\\lib\\site-packages\\IPython\\core\\interactiveshell.py:2698: DtypeWarning: Columns (4) have mixed types. Specify dtype option on import or set low_memory=False.\n",
      "  interactivity=interactivity, compiler=compiler, result=result)\n"
     ]
    }
   ],
   "source": [
    "payment = pd.read_csv('./Q2RecData/tenderModes.csv')"
   ]
  },
  {
   "cell_type": "code",
   "execution_count": 57,
   "metadata": {},
   "outputs": [
    {
     "name": "stdout",
     "output_type": "stream",
     "text": [
      "<class 'pandas.core.frame.DataFrame'>\n",
      "RangeIndex: 866277 entries, 0 to 866276\n",
      "Data columns (total 13 columns):\n",
      "customerID                    866277 non-null object\n",
      "DOB                           837289 non-null object\n",
      "Gender                        774742 non-null object\n",
      "State                         755746 non-null object\n",
      "PinCode                       797283 non-null object\n",
      "transactionDate               866277 non-null object\n",
      "store_code                    866277 non-null int64\n",
      "store_description             866277 non-null object\n",
      "till_no                       866277 non-null int64\n",
      "tender_type                   866277 non-null object\n",
      "transaction_number_by_till    866277 non-null int64\n",
      "payment_amount_by_tender      866277 non-null float64\n",
      "PaymentUsed                   859212 non-null object\n",
      "dtypes: float64(1), int64(3), object(9)\n",
      "memory usage: 56.2+ MB\n"
     ]
    }
   ],
   "source": [
    "payment.info()"
   ]
  },
  {
   "cell_type": "code",
   "execution_count": 58,
   "metadata": {},
   "outputs": [
    {
     "data": {
      "text/html": [
       "<div>\n",
       "<style>\n",
       "    .dataframe thead tr:only-child th {\n",
       "        text-align: right;\n",
       "    }\n",
       "\n",
       "    .dataframe thead th {\n",
       "        text-align: left;\n",
       "    }\n",
       "\n",
       "    .dataframe tbody tr th {\n",
       "        vertical-align: top;\n",
       "    }\n",
       "</style>\n",
       "<table border=\"1\" class=\"dataframe\">\n",
       "  <thead>\n",
       "    <tr style=\"text-align: right;\">\n",
       "      <th></th>\n",
       "      <th>customerID</th>\n",
       "      <th>DOB</th>\n",
       "      <th>Gender</th>\n",
       "      <th>State</th>\n",
       "      <th>PinCode</th>\n",
       "      <th>transactionDate</th>\n",
       "      <th>store_code</th>\n",
       "      <th>store_description</th>\n",
       "      <th>till_no</th>\n",
       "      <th>tender_type</th>\n",
       "      <th>transaction_number_by_till</th>\n",
       "      <th>payment_amount_by_tender</th>\n",
       "      <th>PaymentUsed</th>\n",
       "    </tr>\n",
       "  </thead>\n",
       "  <tbody>\n",
       "    <tr>\n",
       "      <th>0</th>\n",
       "      <td>BBID_2041</td>\n",
       "      <td>1981-10-18</td>\n",
       "      <td>male</td>\n",
       "      <td>NaN</td>\n",
       "      <td>452001</td>\n",
       "      <td>2016-01-19</td>\n",
       "      <td>2655</td>\n",
       "      <td>BB-INDORE-MALHAR MEGA MALL</td>\n",
       "      <td>2</td>\n",
       "      <td>EDCHDFC</td>\n",
       "      <td>51535</td>\n",
       "      <td>672.0</td>\n",
       "      <td>HDFC CREDIT CARD</td>\n",
       "    </tr>\n",
       "    <tr>\n",
       "      <th>1</th>\n",
       "      <td>BBID_2041</td>\n",
       "      <td>1981-10-18</td>\n",
       "      <td>male</td>\n",
       "      <td>NaN</td>\n",
       "      <td>452001</td>\n",
       "      <td>2016-04-07</td>\n",
       "      <td>2655</td>\n",
       "      <td>BB-INDORE-MALHAR MEGA MALL</td>\n",
       "      <td>21</td>\n",
       "      <td>PYOC</td>\n",
       "      <td>43394</td>\n",
       "      <td>35.0</td>\n",
       "      <td>Payback</td>\n",
       "    </tr>\n",
       "  </tbody>\n",
       "</table>\n",
       "</div>"
      ],
      "text/plain": [
       "  customerID         DOB Gender State PinCode transactionDate  store_code  \\\n",
       "0  BBID_2041  1981-10-18   male   NaN  452001      2016-01-19        2655   \n",
       "1  BBID_2041  1981-10-18   male   NaN  452001      2016-04-07        2655   \n",
       "\n",
       "            store_description  till_no tender_type  \\\n",
       "0  BB-INDORE-MALHAR MEGA MALL        2     EDCHDFC   \n",
       "1  BB-INDORE-MALHAR MEGA MALL       21        PYOC   \n",
       "\n",
       "   transaction_number_by_till  payment_amount_by_tender       PaymentUsed  \n",
       "0                       51535                     672.0  HDFC CREDIT CARD  \n",
       "1                       43394                      35.0           Payback  "
      ]
     },
     "execution_count": 58,
     "metadata": {},
     "output_type": "execute_result"
    }
   ],
   "source": [
    "payment.head(2)"
   ]
  },
  {
   "cell_type": "code",
   "execution_count": 20,
   "metadata": {
    "collapsed": true
   },
   "outputs": [],
   "source": [
    "#Change the data to form clusters as we did in first part\n",
    "#Then we predict the values for each cluster seperately"
   ]
  },
  {
   "cell_type": "code",
   "execution_count": 27,
   "metadata": {},
   "outputs": [
    {
     "data": {
      "text/html": [
       "<div>\n",
       "<style>\n",
       "    .dataframe thead tr:only-child th {\n",
       "        text-align: right;\n",
       "    }\n",
       "\n",
       "    .dataframe thead th {\n",
       "        text-align: left;\n",
       "    }\n",
       "\n",
       "    .dataframe tbody tr th {\n",
       "        vertical-align: top;\n",
       "    }\n",
       "</style>\n",
       "<table border=\"1\" class=\"dataframe\">\n",
       "  <thead>\n",
       "    <tr style=\"text-align: right;\">\n",
       "      <th></th>\n",
       "      <th>Total</th>\n",
       "      <th>Percent</th>\n",
       "    </tr>\n",
       "  </thead>\n",
       "  <tbody>\n",
       "    <tr>\n",
       "      <th>promotion_description</th>\n",
       "      <td>390</td>\n",
       "      <td>0.78</td>\n",
       "    </tr>\n",
       "    <tr>\n",
       "      <th>State</th>\n",
       "      <td>225</td>\n",
       "      <td>0.45</td>\n",
       "    </tr>\n",
       "    <tr>\n",
       "      <th>Gender</th>\n",
       "      <td>75</td>\n",
       "      <td>0.15</td>\n",
       "    </tr>\n",
       "    <tr>\n",
       "      <th>discountUsed</th>\n",
       "      <td>0</td>\n",
       "      <td>0.00</td>\n",
       "    </tr>\n",
       "    <tr>\n",
       "      <th>sale_price_after_promo</th>\n",
       "      <td>0</td>\n",
       "      <td>0.00</td>\n",
       "    </tr>\n",
       "    <tr>\n",
       "      <th>product_description</th>\n",
       "      <td>0</td>\n",
       "      <td>0.00</td>\n",
       "    </tr>\n",
       "  </tbody>\n",
       "</table>\n",
       "</div>"
      ],
      "text/plain": [
       "                        Total  Percent\n",
       "promotion_description     390     0.78\n",
       "State                     225     0.45\n",
       "Gender                     75     0.15\n",
       "discountUsed                0     0.00\n",
       "sale_price_after_promo      0     0.00\n",
       "product_description         0     0.00"
      ]
     },
     "execution_count": 27,
     "metadata": {},
     "output_type": "execute_result"
    }
   ],
   "source": [
    "#Missing Data\n",
    "total = products.isnull().sum().sort_values(ascending=False)\n",
    "percent = (products.isnull().sum()/products.isnull().count()).sort_values(ascending=False)\n",
    "missing_data = pd.concat([total, percent], axis=1, keys=['Total', 'Percent'])\n",
    "missing_data.head(6)"
   ]
  },
  {
   "cell_type": "code",
   "execution_count": 28,
   "metadata": {
    "collapsed": true
   },
   "outputs": [],
   "source": [
    "drop_columns_products = ['State','PinCode','store_description','till_no','promo_code','promotion_description',\n",
    "                         'product_description','discountUsed','sale_price_after_promo']\n",
    "products_cleaned = products.drop(drop_columns_products, axis=1)"
   ]
  },
  {
   "cell_type": "code",
   "execution_count": 29,
   "metadata": {},
   "outputs": [
    {
     "data": {
      "text/html": [
       "<div>\n",
       "<style>\n",
       "    .dataframe thead tr:only-child th {\n",
       "        text-align: right;\n",
       "    }\n",
       "\n",
       "    .dataframe thead th {\n",
       "        text-align: left;\n",
       "    }\n",
       "\n",
       "    .dataframe tbody tr th {\n",
       "        vertical-align: top;\n",
       "    }\n",
       "</style>\n",
       "<table border=\"1\" class=\"dataframe\">\n",
       "  <thead>\n",
       "    <tr style=\"text-align: right;\">\n",
       "      <th></th>\n",
       "      <th>Total</th>\n",
       "      <th>Percent</th>\n",
       "    </tr>\n",
       "  </thead>\n",
       "  <tbody>\n",
       "    <tr>\n",
       "      <th>State</th>\n",
       "      <td>110531</td>\n",
       "      <td>0.127593</td>\n",
       "    </tr>\n",
       "    <tr>\n",
       "      <th>Gender</th>\n",
       "      <td>91535</td>\n",
       "      <td>0.105665</td>\n",
       "    </tr>\n",
       "    <tr>\n",
       "      <th>PinCode</th>\n",
       "      <td>68994</td>\n",
       "      <td>0.079644</td>\n",
       "    </tr>\n",
       "    <tr>\n",
       "      <th>DOB</th>\n",
       "      <td>28988</td>\n",
       "      <td>0.033463</td>\n",
       "    </tr>\n",
       "    <tr>\n",
       "      <th>PaymentUsed</th>\n",
       "      <td>7065</td>\n",
       "      <td>0.008156</td>\n",
       "    </tr>\n",
       "    <tr>\n",
       "      <th>payment_amount_by_tender</th>\n",
       "      <td>0</td>\n",
       "      <td>0.000000</td>\n",
       "    </tr>\n",
       "  </tbody>\n",
       "</table>\n",
       "</div>"
      ],
      "text/plain": [
       "                           Total   Percent\n",
       "State                     110531  0.127593\n",
       "Gender                     91535  0.105665\n",
       "PinCode                    68994  0.079644\n",
       "DOB                        28988  0.033463\n",
       "PaymentUsed                 7065  0.008156\n",
       "payment_amount_by_tender       0  0.000000"
      ]
     },
     "execution_count": 29,
     "metadata": {},
     "output_type": "execute_result"
    }
   ],
   "source": [
    "#Payment Missing Data\n",
    "total = payment.isnull().sum().sort_values(ascending=False)\n",
    "percent = (payment.isnull().sum()/payment.isnull().count()).sort_values(ascending=False)\n",
    "missing_data = pd.concat([total, percent], axis=1, keys=['Total', 'Percent'])\n",
    "missing_data.head(6)"
   ]
  },
  {
   "cell_type": "code",
   "execution_count": 30,
   "metadata": {
    "collapsed": true
   },
   "outputs": [],
   "source": [
    "drop_columns_payment = ['DOB','Gender','State','PinCode','store_description','till_no','tender_type','PaymentUsed']\n",
    "payment_cleaned = payment.drop(drop_columns_payment, axis=1)"
   ]
  },
  {
   "cell_type": "code",
   "execution_count": 31,
   "metadata": {},
   "outputs": [
    {
     "data": {
      "text/plain": [
       "Index(['customerID', 'transactionDate', 'store_code',\n",
       "       'transaction_number_by_till', 'payment_amount_by_tender'],\n",
       "      dtype='object')"
      ]
     },
     "execution_count": 31,
     "metadata": {},
     "output_type": "execute_result"
    }
   ],
   "source": [
    "payment_cleaned.columns"
   ]
  },
  {
   "cell_type": "code",
   "execution_count": 32,
   "metadata": {},
   "outputs": [
    {
     "data": {
      "text/html": [
       "<div>\n",
       "<style>\n",
       "    .dataframe thead tr:only-child th {\n",
       "        text-align: right;\n",
       "    }\n",
       "\n",
       "    .dataframe thead th {\n",
       "        text-align: left;\n",
       "    }\n",
       "\n",
       "    .dataframe tbody tr th {\n",
       "        vertical-align: top;\n",
       "    }\n",
       "</style>\n",
       "<table border=\"1\" class=\"dataframe\">\n",
       "  <thead>\n",
       "    <tr style=\"text-align: right;\">\n",
       "      <th></th>\n",
       "      <th>customerID</th>\n",
       "      <th>DOB</th>\n",
       "      <th>Gender</th>\n",
       "      <th>transactionDate</th>\n",
       "      <th>store_code</th>\n",
       "      <th>transaction_number_by_till</th>\n",
       "      <th>product_code</th>\n",
       "    </tr>\n",
       "  </thead>\n",
       "  <tbody>\n",
       "    <tr>\n",
       "      <th>0</th>\n",
       "      <td>BBID_2041</td>\n",
       "      <td>1981-10-18</td>\n",
       "      <td>male</td>\n",
       "      <td>2016-01-19</td>\n",
       "      <td>2655</td>\n",
       "      <td>51535</td>\n",
       "      <td>300785147</td>\n",
       "    </tr>\n",
       "    <tr>\n",
       "      <th>1</th>\n",
       "      <td>BBID_2041</td>\n",
       "      <td>1981-10-18</td>\n",
       "      <td>male</td>\n",
       "      <td>2016-06-21</td>\n",
       "      <td>2655</td>\n",
       "      <td>57836</td>\n",
       "      <td>1000315939</td>\n",
       "    </tr>\n",
       "  </tbody>\n",
       "</table>\n",
       "</div>"
      ],
      "text/plain": [
       "  customerID         DOB Gender transactionDate  store_code  \\\n",
       "0  BBID_2041  1981-10-18   male      2016-01-19        2655   \n",
       "1  BBID_2041  1981-10-18   male      2016-06-21        2655   \n",
       "\n",
       "   transaction_number_by_till  product_code  \n",
       "0                       51535     300785147  \n",
       "1                       57836    1000315939  "
      ]
     },
     "execution_count": 32,
     "metadata": {},
     "output_type": "execute_result"
    }
   ],
   "source": [
    "products_cleaned.head(2)"
   ]
  },
  {
   "cell_type": "code",
   "execution_count": 33,
   "metadata": {},
   "outputs": [
    {
     "data": {
      "text/html": [
       "<div>\n",
       "<style>\n",
       "    .dataframe thead tr:only-child th {\n",
       "        text-align: right;\n",
       "    }\n",
       "\n",
       "    .dataframe thead th {\n",
       "        text-align: left;\n",
       "    }\n",
       "\n",
       "    .dataframe tbody tr th {\n",
       "        vertical-align: top;\n",
       "    }\n",
       "</style>\n",
       "<table border=\"1\" class=\"dataframe\">\n",
       "  <thead>\n",
       "    <tr style=\"text-align: right;\">\n",
       "      <th></th>\n",
       "      <th>customerID</th>\n",
       "      <th>transactionDate</th>\n",
       "      <th>store_code</th>\n",
       "      <th>transaction_number_by_till</th>\n",
       "      <th>payment_amount_by_tender</th>\n",
       "    </tr>\n",
       "  </thead>\n",
       "  <tbody>\n",
       "    <tr>\n",
       "      <th>0</th>\n",
       "      <td>BBID_2041</td>\n",
       "      <td>2016-01-19</td>\n",
       "      <td>2655</td>\n",
       "      <td>51535</td>\n",
       "      <td>672.0</td>\n",
       "    </tr>\n",
       "    <tr>\n",
       "      <th>1</th>\n",
       "      <td>BBID_2041</td>\n",
       "      <td>2016-04-07</td>\n",
       "      <td>2655</td>\n",
       "      <td>43394</td>\n",
       "      <td>35.0</td>\n",
       "    </tr>\n",
       "  </tbody>\n",
       "</table>\n",
       "</div>"
      ],
      "text/plain": [
       "  customerID transactionDate  store_code  transaction_number_by_till  \\\n",
       "0  BBID_2041      2016-01-19        2655                       51535   \n",
       "1  BBID_2041      2016-04-07        2655                       43394   \n",
       "\n",
       "   payment_amount_by_tender  \n",
       "0                     672.0  \n",
       "1                      35.0  "
      ]
     },
     "execution_count": 33,
     "metadata": {},
     "output_type": "execute_result"
    }
   ],
   "source": [
    "payment_cleaned.head(2)"
   ]
  },
  {
   "cell_type": "code",
   "execution_count": 34,
   "metadata": {
    "collapsed": true
   },
   "outputs": [],
   "source": [
    "#grouping the data in the payment to combine the amount per transaction\n",
    "payment_cleaned['totalSpend'] = payment_cleaned.groupby(['customerID','transactionDate','store_code',\n",
    "                                                         'transaction_number_by_till']).transform('sum')"
   ]
  },
  {
   "cell_type": "code",
   "execution_count": 70,
   "metadata": {},
   "outputs": [
    {
     "data": {
      "text/html": [
       "<div>\n",
       "<style>\n",
       "    .dataframe thead tr:only-child th {\n",
       "        text-align: right;\n",
       "    }\n",
       "\n",
       "    .dataframe thead th {\n",
       "        text-align: left;\n",
       "    }\n",
       "\n",
       "    .dataframe tbody tr th {\n",
       "        vertical-align: top;\n",
       "    }\n",
       "</style>\n",
       "<table border=\"1\" class=\"dataframe\">\n",
       "  <thead>\n",
       "    <tr style=\"text-align: right;\">\n",
       "      <th></th>\n",
       "      <th>customerID</th>\n",
       "      <th>transactionDate</th>\n",
       "      <th>store_code</th>\n",
       "      <th>transaction_number_by_till</th>\n",
       "      <th>totalSpend</th>\n",
       "    </tr>\n",
       "  </thead>\n",
       "  <tbody>\n",
       "    <tr>\n",
       "      <th>0</th>\n",
       "      <td>BBID_2041</td>\n",
       "      <td>2016-01-19</td>\n",
       "      <td>2655</td>\n",
       "      <td>51535</td>\n",
       "      <td>672.0</td>\n",
       "    </tr>\n",
       "    <tr>\n",
       "      <th>1</th>\n",
       "      <td>BBID_2041</td>\n",
       "      <td>2016-04-07</td>\n",
       "      <td>2655</td>\n",
       "      <td>43394</td>\n",
       "      <td>35.0</td>\n",
       "    </tr>\n",
       "  </tbody>\n",
       "</table>\n",
       "</div>"
      ],
      "text/plain": [
       "  customerID transactionDate  store_code  transaction_number_by_till  \\\n",
       "0  BBID_2041      2016-01-19        2655                       51535   \n",
       "1  BBID_2041      2016-04-07        2655                       43394   \n",
       "\n",
       "   totalSpend  \n",
       "0       672.0  \n",
       "1        35.0  "
      ]
     },
     "execution_count": 70,
     "metadata": {},
     "output_type": "execute_result"
    }
   ],
   "source": [
    "payment_cleaned.head(2)"
   ]
  },
  {
   "cell_type": "code",
   "execution_count": 133,
   "metadata": {},
   "outputs": [
    {
     "data": {
      "text/html": [
       "<div>\n",
       "<style>\n",
       "    .dataframe thead tr:only-child th {\n",
       "        text-align: right;\n",
       "    }\n",
       "\n",
       "    .dataframe thead th {\n",
       "        text-align: left;\n",
       "    }\n",
       "\n",
       "    .dataframe tbody tr th {\n",
       "        vertical-align: top;\n",
       "    }\n",
       "</style>\n",
       "<table border=\"1\" class=\"dataframe\">\n",
       "  <thead>\n",
       "    <tr style=\"text-align: right;\">\n",
       "      <th></th>\n",
       "      <th>customerID</th>\n",
       "      <th>DOB</th>\n",
       "      <th>Gender</th>\n",
       "      <th>State</th>\n",
       "      <th>PinCode</th>\n",
       "      <th>transactionDate</th>\n",
       "      <th>store_code</th>\n",
       "      <th>store_description</th>\n",
       "      <th>till_no</th>\n",
       "      <th>tender_type</th>\n",
       "      <th>transaction_number_by_till</th>\n",
       "      <th>payment_amount_by_tender</th>\n",
       "      <th>PaymentUsed</th>\n",
       "    </tr>\n",
       "  </thead>\n",
       "  <tbody>\n",
       "    <tr>\n",
       "      <th>13</th>\n",
       "      <td>BBID_2043</td>\n",
       "      <td>1978-05-03</td>\n",
       "      <td>male</td>\n",
       "      <td>NaN</td>\n",
       "      <td>625016</td>\n",
       "      <td>2016-06-08</td>\n",
       "      <td>4986</td>\n",
       "      <td>BB-MADURAI-KOCHADAI VILLAGE</td>\n",
       "      <td>4</td>\n",
       "      <td>CR-NOTE(I)</td>\n",
       "      <td>23523</td>\n",
       "      <td>-215.0</td>\n",
       "      <td>CREDIT NOTE (ISSUES)</td>\n",
       "    </tr>\n",
       "    <tr>\n",
       "      <th>42</th>\n",
       "      <td>BBID_2046</td>\n",
       "      <td>1959-11-01</td>\n",
       "      <td>male</td>\n",
       "      <td>NaN</td>\n",
       "      <td>452009</td>\n",
       "      <td>2016-05-02</td>\n",
       "      <td>2906</td>\n",
       "      <td>BB-INDORE-TREASURE ISLAND</td>\n",
       "      <td>21</td>\n",
       "      <td>CR-NOTE(I)</td>\n",
       "      <td>978</td>\n",
       "      <td>-808.0</td>\n",
       "      <td>CREDIT NOTE (ISSUES)</td>\n",
       "    </tr>\n",
       "  </tbody>\n",
       "</table>\n",
       "</div>"
      ],
      "text/plain": [
       "   customerID         DOB Gender State PinCode transactionDate  store_code  \\\n",
       "13  BBID_2043  1978-05-03   male   NaN  625016      2016-06-08        4986   \n",
       "42  BBID_2046  1959-11-01   male   NaN  452009      2016-05-02        2906   \n",
       "\n",
       "              store_description  till_no tender_type  \\\n",
       "13  BB-MADURAI-KOCHADAI VILLAGE        4  CR-NOTE(I)   \n",
       "42    BB-INDORE-TREASURE ISLAND       21  CR-NOTE(I)   \n",
       "\n",
       "    transaction_number_by_till  payment_amount_by_tender           PaymentUsed  \n",
       "13                       23523                    -215.0  CREDIT NOTE (ISSUES)  \n",
       "42                         978                    -808.0  CREDIT NOTE (ISSUES)  "
      ]
     },
     "execution_count": 133,
     "metadata": {},
     "output_type": "execute_result"
    }
   ],
   "source": [
    "payment[payment['payment_amount_by_tender'] < 0].head(2)"
   ]
  },
  {
   "cell_type": "code",
   "execution_count": 36,
   "metadata": {
    "collapsed": true
   },
   "outputs": [],
   "source": [
    "payment_cleaned.drop('payment_amount_by_tender', axis=1, inplace=True)"
   ]
  },
  {
   "cell_type": "code",
   "execution_count": 134,
   "metadata": {
    "collapsed": true
   },
   "outputs": [],
   "source": [
    "payment_cleaned.drop_duplicates(keep='first', inplace=True)"
   ]
  },
  {
   "cell_type": "code",
   "execution_count": 135,
   "metadata": {},
   "outputs": [
    {
     "data": {
      "text/plain": [
       "(866277, 13)"
      ]
     },
     "execution_count": 135,
     "metadata": {},
     "output_type": "execute_result"
    }
   ],
   "source": [
    "payment.shape"
   ]
  },
  {
   "cell_type": "code",
   "execution_count": 136,
   "metadata": {},
   "outputs": [
    {
     "data": {
      "text/plain": [
       "(683778, 5)"
      ]
     },
     "execution_count": 136,
     "metadata": {},
     "output_type": "execute_result"
    }
   ],
   "source": [
    "payment_cleaned.shape"
   ]
  },
  {
   "cell_type": "code",
   "execution_count": 41,
   "metadata": {},
   "outputs": [
    {
     "data": {
      "text/plain": [
       "(500, 7)"
      ]
     },
     "execution_count": 41,
     "metadata": {},
     "output_type": "execute_result"
    }
   ],
   "source": [
    "products_cleaned.shape"
   ]
  },
  {
   "cell_type": "code",
   "execution_count": 42,
   "metadata": {
    "collapsed": true
   },
   "outputs": [],
   "source": [
    "#Merge the product and payment data\n",
    "merge_on = ['customerID','transactionDate','store_code','transaction_number_by_till']\n",
    "merged_data = pd.merge(products_cleaned,payment_cleaned,how='left',on=merge_on)"
   ]
  },
  {
   "cell_type": "code",
   "execution_count": 43,
   "metadata": {},
   "outputs": [
    {
     "data": {
      "text/plain": [
       "(500, 8)"
      ]
     },
     "execution_count": 43,
     "metadata": {},
     "output_type": "execute_result"
    }
   ],
   "source": [
    "merged_data.shape"
   ]
  },
  {
   "cell_type": "code",
   "execution_count": 44,
   "metadata": {},
   "outputs": [
    {
     "data": {
      "text/html": [
       "<div>\n",
       "<style>\n",
       "    .dataframe thead tr:only-child th {\n",
       "        text-align: right;\n",
       "    }\n",
       "\n",
       "    .dataframe thead th {\n",
       "        text-align: left;\n",
       "    }\n",
       "\n",
       "    .dataframe tbody tr th {\n",
       "        vertical-align: top;\n",
       "    }\n",
       "</style>\n",
       "<table border=\"1\" class=\"dataframe\">\n",
       "  <thead>\n",
       "    <tr style=\"text-align: right;\">\n",
       "      <th></th>\n",
       "      <th>customerID</th>\n",
       "      <th>DOB</th>\n",
       "      <th>Gender</th>\n",
       "      <th>transactionDate</th>\n",
       "      <th>store_code</th>\n",
       "      <th>transaction_number_by_till</th>\n",
       "      <th>product_code</th>\n",
       "      <th>totalSpend</th>\n",
       "    </tr>\n",
       "  </thead>\n",
       "  <tbody>\n",
       "    <tr>\n",
       "      <th>0</th>\n",
       "      <td>BBID_2041</td>\n",
       "      <td>1981-10-18</td>\n",
       "      <td>male</td>\n",
       "      <td>2016-01-19</td>\n",
       "      <td>2655</td>\n",
       "      <td>51535</td>\n",
       "      <td>300785147</td>\n",
       "      <td>672.0</td>\n",
       "    </tr>\n",
       "    <tr>\n",
       "      <th>1</th>\n",
       "      <td>BBID_2041</td>\n",
       "      <td>1981-10-18</td>\n",
       "      <td>male</td>\n",
       "      <td>2016-06-21</td>\n",
       "      <td>2655</td>\n",
       "      <td>57836</td>\n",
       "      <td>1000315939</td>\n",
       "      <td>40.0</td>\n",
       "    </tr>\n",
       "  </tbody>\n",
       "</table>\n",
       "</div>"
      ],
      "text/plain": [
       "  customerID         DOB Gender transactionDate  store_code  \\\n",
       "0  BBID_2041  1981-10-18   male      2016-01-19        2655   \n",
       "1  BBID_2041  1981-10-18   male      2016-06-21        2655   \n",
       "\n",
       "   transaction_number_by_till  product_code  totalSpend  \n",
       "0                       51535     300785147       672.0  \n",
       "1                       57836    1000315939        40.0  "
      ]
     },
     "execution_count": 44,
     "metadata": {},
     "output_type": "execute_result"
    }
   ],
   "source": [
    "merged_data.head(2)"
   ]
  },
  {
   "cell_type": "code",
   "execution_count": 45,
   "metadata": {},
   "outputs": [
    {
     "data": {
      "text/plain": [
       "BBID_20415    137\n",
       "BBID_20413     67\n",
       "Name: customerID, dtype: int64"
      ]
     },
     "execution_count": 45,
     "metadata": {},
     "output_type": "execute_result"
    }
   ],
   "source": [
    "merged_data['customerID'].value_counts().head(2)"
   ]
  },
  {
   "cell_type": "code",
   "execution_count": 46,
   "metadata": {
    "collapsed": true
   },
   "outputs": [],
   "source": [
    "#add missing data\n",
    "merged_data['totalSpend'].fillna(merged_data['totalSpend'].mean(), inplace=True)\n",
    "merged_data['Gender'].fillna('male', inplace=True)\n",
    "merged_data['DOB'].fillna(pd.to_datetime(\"1991-12-03\"), inplace=True)"
   ]
  },
  {
   "cell_type": "code",
   "execution_count": 47,
   "metadata": {
    "collapsed": true
   },
   "outputs": [],
   "source": [
    "#Change Gender to categorical\n",
    "merged_data['Gender'] = merged_data['Gender'].map( {'female': 0, 'male': 1} ).astype(int)"
   ]
  },
  {
   "cell_type": "code",
   "execution_count": 48,
   "metadata": {
    "collapsed": true
   },
   "outputs": [],
   "source": [
    "merged_data.loc[merged_data['DOB'] == 'NANA','DOB'] = pd.to_datetime(\"1991-12-03\")"
   ]
  },
  {
   "cell_type": "code",
   "execution_count": 49,
   "metadata": {
    "collapsed": true
   },
   "outputs": [],
   "source": [
    "#get Age from DOB\n",
    "merged_data['age'] = pd.to_datetime('today').year - pd.to_datetime(merged_data['DOB']).dt.year"
   ]
  },
  {
   "cell_type": "code",
   "execution_count": 50,
   "metadata": {
    "collapsed": true
   },
   "outputs": [],
   "source": [
    "#get day of purchase from transactionDate\n",
    "merged_data['day_of_transaction'] = pd.to_datetime(merged_data['transactionDate']).dt.weekday"
   ]
  },
  {
   "cell_type": "code",
   "execution_count": 52,
   "metadata": {
    "scrolled": true
   },
   "outputs": [
    {
     "data": {
      "text/html": [
       "<div>\n",
       "<style>\n",
       "    .dataframe thead tr:only-child th {\n",
       "        text-align: right;\n",
       "    }\n",
       "\n",
       "    .dataframe thead th {\n",
       "        text-align: left;\n",
       "    }\n",
       "\n",
       "    .dataframe tbody tr th {\n",
       "        vertical-align: top;\n",
       "    }\n",
       "</style>\n",
       "<table border=\"1\" class=\"dataframe\">\n",
       "  <thead>\n",
       "    <tr style=\"text-align: right;\">\n",
       "      <th></th>\n",
       "      <th>customerID</th>\n",
       "      <th>DOB</th>\n",
       "      <th>Gender</th>\n",
       "      <th>transactionDate</th>\n",
       "      <th>store_code</th>\n",
       "      <th>transaction_number_by_till</th>\n",
       "      <th>product_code</th>\n",
       "      <th>totalSpend</th>\n",
       "      <th>age</th>\n",
       "      <th>day_of_transaction</th>\n",
       "    </tr>\n",
       "  </thead>\n",
       "  <tbody>\n",
       "    <tr>\n",
       "      <th>0</th>\n",
       "      <td>BBID_2041</td>\n",
       "      <td>1981-10-18</td>\n",
       "      <td>1</td>\n",
       "      <td>2016-01-19</td>\n",
       "      <td>2655</td>\n",
       "      <td>51535</td>\n",
       "      <td>300785147</td>\n",
       "      <td>672.0</td>\n",
       "      <td>36</td>\n",
       "      <td>1</td>\n",
       "    </tr>\n",
       "    <tr>\n",
       "      <th>1</th>\n",
       "      <td>BBID_2041</td>\n",
       "      <td>1981-10-18</td>\n",
       "      <td>1</td>\n",
       "      <td>2016-06-21</td>\n",
       "      <td>2655</td>\n",
       "      <td>57836</td>\n",
       "      <td>1000315939</td>\n",
       "      <td>40.0</td>\n",
       "      <td>36</td>\n",
       "      <td>1</td>\n",
       "    </tr>\n",
       "  </tbody>\n",
       "</table>\n",
       "</div>"
      ],
      "text/plain": [
       "  customerID         DOB  Gender transactionDate  store_code  \\\n",
       "0  BBID_2041  1981-10-18       1      2016-01-19        2655   \n",
       "1  BBID_2041  1981-10-18       1      2016-06-21        2655   \n",
       "\n",
       "   transaction_number_by_till  product_code  totalSpend  age  \\\n",
       "0                       51535     300785147       672.0   36   \n",
       "1                       57836    1000315939        40.0   36   \n",
       "\n",
       "   day_of_transaction  \n",
       "0                   1  \n",
       "1                   1  "
      ]
     },
     "execution_count": 52,
     "metadata": {},
     "output_type": "execute_result"
    }
   ],
   "source": [
    "merged_data.head(2)"
   ]
  },
  {
   "cell_type": "code",
   "execution_count": 54,
   "metadata": {},
   "outputs": [
    {
     "name": "stdout",
     "output_type": "stream",
     "text": [
      "<class 'pandas.core.frame.DataFrame'>\n",
      "Int64Index: 500 entries, 0 to 499\n",
      "Data columns (total 10 columns):\n",
      "customerID                    500 non-null object\n",
      "DOB                           500 non-null object\n",
      "Gender                        500 non-null int32\n",
      "transactionDate               500 non-null object\n",
      "store_code                    500 non-null int64\n",
      "transaction_number_by_till    500 non-null int64\n",
      "product_code                  500 non-null int64\n",
      "totalSpend                    500 non-null float64\n",
      "age                           500 non-null int64\n",
      "day_of_transaction            500 non-null int64\n",
      "dtypes: float64(1), int32(1), int64(5), object(3)\n",
      "memory usage: 35.2+ KB\n"
     ]
    }
   ],
   "source": [
    "merged_data.info()"
   ]
  },
  {
   "cell_type": "code",
   "execution_count": 56,
   "metadata": {},
   "outputs": [],
   "source": [
    "merged_data['transactionDate'] = pd.to_datetime(merged_data['transactionDate'])"
   ]
  },
  {
   "cell_type": "code",
   "execution_count": 63,
   "metadata": {},
   "outputs": [
    {
     "data": {
      "text/html": [
       "<div>\n",
       "<style>\n",
       "    .dataframe thead tr:only-child th {\n",
       "        text-align: right;\n",
       "    }\n",
       "\n",
       "    .dataframe thead th {\n",
       "        text-align: left;\n",
       "    }\n",
       "\n",
       "    .dataframe tbody tr th {\n",
       "        vertical-align: top;\n",
       "    }\n",
       "</style>\n",
       "<table border=\"1\" class=\"dataframe\">\n",
       "  <thead>\n",
       "    <tr style=\"text-align: right;\">\n",
       "      <th></th>\n",
       "      <th>customerID</th>\n",
       "      <th>DOB</th>\n",
       "      <th>Gender</th>\n",
       "      <th>transactionDate</th>\n",
       "      <th>store_code</th>\n",
       "      <th>transaction_number_by_till</th>\n",
       "      <th>product_code</th>\n",
       "      <th>totalSpend</th>\n",
       "      <th>age</th>\n",
       "      <th>day_of_transaction</th>\n",
       "    </tr>\n",
       "  </thead>\n",
       "  <tbody>\n",
       "    <tr>\n",
       "      <th>283</th>\n",
       "      <td>BBID_20415</td>\n",
       "      <td>1986-07-19</td>\n",
       "      <td>1</td>\n",
       "      <td>2016-04-28</td>\n",
       "      <td>2906</td>\n",
       "      <td>632</td>\n",
       "      <td>1000328475001</td>\n",
       "      <td>2446.0</td>\n",
       "      <td>31</td>\n",
       "      <td>3</td>\n",
       "    </tr>\n",
       "    <tr>\n",
       "      <th>284</th>\n",
       "      <td>BBID_20415</td>\n",
       "      <td>1986-07-19</td>\n",
       "      <td>1</td>\n",
       "      <td>2016-04-28</td>\n",
       "      <td>2906</td>\n",
       "      <td>632</td>\n",
       "      <td>1000254413006</td>\n",
       "      <td>2446.0</td>\n",
       "      <td>31</td>\n",
       "      <td>3</td>\n",
       "    </tr>\n",
       "    <tr>\n",
       "      <th>291</th>\n",
       "      <td>BBID_20415</td>\n",
       "      <td>1986-07-19</td>\n",
       "      <td>1</td>\n",
       "      <td>2016-04-28</td>\n",
       "      <td>2906</td>\n",
       "      <td>632</td>\n",
       "      <td>1000531410</td>\n",
       "      <td>2446.0</td>\n",
       "      <td>31</td>\n",
       "      <td>3</td>\n",
       "    </tr>\n",
       "    <tr>\n",
       "      <th>294</th>\n",
       "      <td>BBID_20415</td>\n",
       "      <td>1986-07-19</td>\n",
       "      <td>1</td>\n",
       "      <td>2016-04-28</td>\n",
       "      <td>2906</td>\n",
       "      <td>632</td>\n",
       "      <td>1000531236</td>\n",
       "      <td>2446.0</td>\n",
       "      <td>31</td>\n",
       "      <td>3</td>\n",
       "    </tr>\n",
       "    <tr>\n",
       "      <th>319</th>\n",
       "      <td>BBID_20415</td>\n",
       "      <td>1986-07-19</td>\n",
       "      <td>1</td>\n",
       "      <td>2016-04-28</td>\n",
       "      <td>2906</td>\n",
       "      <td>632</td>\n",
       "      <td>1000435159002</td>\n",
       "      <td>2446.0</td>\n",
       "      <td>31</td>\n",
       "      <td>3</td>\n",
       "    </tr>\n",
       "    <tr>\n",
       "      <th>368</th>\n",
       "      <td>BBID_20415</td>\n",
       "      <td>1986-07-19</td>\n",
       "      <td>1</td>\n",
       "      <td>2016-04-28</td>\n",
       "      <td>2906</td>\n",
       "      <td>632</td>\n",
       "      <td>1000460036006</td>\n",
       "      <td>2446.0</td>\n",
       "      <td>31</td>\n",
       "      <td>3</td>\n",
       "    </tr>\n",
       "  </tbody>\n",
       "</table>\n",
       "</div>"
      ],
      "text/plain": [
       "     customerID         DOB  Gender transactionDate  store_code  \\\n",
       "283  BBID_20415  1986-07-19       1      2016-04-28        2906   \n",
       "284  BBID_20415  1986-07-19       1      2016-04-28        2906   \n",
       "291  BBID_20415  1986-07-19       1      2016-04-28        2906   \n",
       "294  BBID_20415  1986-07-19       1      2016-04-28        2906   \n",
       "319  BBID_20415  1986-07-19       1      2016-04-28        2906   \n",
       "368  BBID_20415  1986-07-19       1      2016-04-28        2906   \n",
       "\n",
       "     transaction_number_by_till   product_code  totalSpend  age  \\\n",
       "283                         632  1000328475001      2446.0   31   \n",
       "284                         632  1000254413006      2446.0   31   \n",
       "291                         632     1000531410      2446.0   31   \n",
       "294                         632     1000531236      2446.0   31   \n",
       "319                         632  1000435159002      2446.0   31   \n",
       "368                         632  1000460036006      2446.0   31   \n",
       "\n",
       "     day_of_transaction  \n",
       "283                   3  \n",
       "284                   3  \n",
       "291                   3  \n",
       "294                   3  \n",
       "319                   3  \n",
       "368                   3  "
      ]
     },
     "execution_count": 63,
     "metadata": {},
     "output_type": "execute_result"
    }
   ],
   "source": [
    "merged_data[merged_data['transaction_number_by_till'] == 632]"
   ]
  },
  {
   "cell_type": "code",
   "execution_count": 67,
   "metadata": {},
   "outputs": [
    {
     "data": {
      "text/html": [
       "<div>\n",
       "<style>\n",
       "    .dataframe thead tr:only-child th {\n",
       "        text-align: right;\n",
       "    }\n",
       "\n",
       "    .dataframe thead th {\n",
       "        text-align: left;\n",
       "    }\n",
       "\n",
       "    .dataframe tbody tr th {\n",
       "        vertical-align: top;\n",
       "    }\n",
       "</style>\n",
       "<table border=\"1\" class=\"dataframe\">\n",
       "  <thead>\n",
       "    <tr style=\"text-align: right;\">\n",
       "      <th></th>\n",
       "      <th>customerID</th>\n",
       "      <th>DOB</th>\n",
       "      <th>Gender</th>\n",
       "      <th>transactionDate</th>\n",
       "      <th>store_code</th>\n",
       "      <th>transaction_number_by_till</th>\n",
       "      <th>product_code</th>\n",
       "      <th>totalSpend</th>\n",
       "      <th>age</th>\n",
       "      <th>day_of_transaction</th>\n",
       "    </tr>\n",
       "  </thead>\n",
       "  <tbody>\n",
       "    <tr>\n",
       "      <th>331</th>\n",
       "      <td>BBID_20415</td>\n",
       "      <td>1986-07-19</td>\n",
       "      <td>1</td>\n",
       "      <td>2015-08-11</td>\n",
       "      <td>2655</td>\n",
       "      <td>1351</td>\n",
       "      <td>108100362</td>\n",
       "      <td>1949.58</td>\n",
       "      <td>31</td>\n",
       "      <td>1</td>\n",
       "    </tr>\n",
       "    <tr>\n",
       "      <th>281</th>\n",
       "      <td>BBID_20415</td>\n",
       "      <td>1986-07-19</td>\n",
       "      <td>1</td>\n",
       "      <td>2015-08-11</td>\n",
       "      <td>2655</td>\n",
       "      <td>1351</td>\n",
       "      <td>1000145745011</td>\n",
       "      <td>1949.58</td>\n",
       "      <td>31</td>\n",
       "      <td>1</td>\n",
       "    </tr>\n",
       "  </tbody>\n",
       "</table>\n",
       "</div>"
      ],
      "text/plain": [
       "     customerID         DOB  Gender transactionDate  store_code  \\\n",
       "331  BBID_20415  1986-07-19       1      2015-08-11        2655   \n",
       "281  BBID_20415  1986-07-19       1      2015-08-11        2655   \n",
       "\n",
       "     transaction_number_by_till   product_code  totalSpend  age  \\\n",
       "331                        1351      108100362     1949.58   31   \n",
       "281                        1351  1000145745011     1949.58   31   \n",
       "\n",
       "     day_of_transaction  \n",
       "331                   1  \n",
       "281                   1  "
      ]
     },
     "execution_count": 67,
     "metadata": {},
     "output_type": "execute_result"
    }
   ],
   "source": [
    "merged_data[merged_data['customerID'] == 'BBID_20415'].sort_values(by='transactionDate').head(2)"
   ]
  },
  {
   "cell_type": "code",
   "execution_count": 69,
   "metadata": {},
   "outputs": [
    {
     "data": {
      "text/html": [
       "<div>\n",
       "<style>\n",
       "    .dataframe thead tr:only-child th {\n",
       "        text-align: right;\n",
       "    }\n",
       "\n",
       "    .dataframe thead th {\n",
       "        text-align: left;\n",
       "    }\n",
       "\n",
       "    .dataframe tbody tr th {\n",
       "        vertical-align: top;\n",
       "    }\n",
       "</style>\n",
       "<table border=\"1\" class=\"dataframe\">\n",
       "  <thead>\n",
       "    <tr style=\"text-align: right;\">\n",
       "      <th></th>\n",
       "      <th>customerID</th>\n",
       "      <th>DOB</th>\n",
       "      <th>Gender</th>\n",
       "      <th>transactionDate</th>\n",
       "      <th>store_code</th>\n",
       "      <th>transaction_number_by_till</th>\n",
       "      <th>product_code</th>\n",
       "      <th>totalSpend</th>\n",
       "      <th>age</th>\n",
       "      <th>day_of_transaction</th>\n",
       "    </tr>\n",
       "  </thead>\n",
       "  <tbody>\n",
       "    <tr>\n",
       "      <th>59</th>\n",
       "      <td>BBID_2043</td>\n",
       "      <td>1978-05-03</td>\n",
       "      <td>1</td>\n",
       "      <td>2016-06-08</td>\n",
       "      <td>4986</td>\n",
       "      <td>23523</td>\n",
       "      <td>108037613</td>\n",
       "      <td>-215.0</td>\n",
       "      <td>39</td>\n",
       "      <td>2</td>\n",
       "    </tr>\n",
       "    <tr>\n",
       "      <th>129</th>\n",
       "      <td>BBID_2046</td>\n",
       "      <td>1959-11-01</td>\n",
       "      <td>1</td>\n",
       "      <td>2016-05-02</td>\n",
       "      <td>2906</td>\n",
       "      <td>978</td>\n",
       "      <td>1000455039005</td>\n",
       "      <td>-808.0</td>\n",
       "      <td>58</td>\n",
       "      <td>0</td>\n",
       "    </tr>\n",
       "    <tr>\n",
       "      <th>146</th>\n",
       "      <td>BBID_2046</td>\n",
       "      <td>1959-11-01</td>\n",
       "      <td>1</td>\n",
       "      <td>2016-05-02</td>\n",
       "      <td>2906</td>\n",
       "      <td>978</td>\n",
       "      <td>1000058082</td>\n",
       "      <td>-808.0</td>\n",
       "      <td>58</td>\n",
       "      <td>0</td>\n",
       "    </tr>\n",
       "    <tr>\n",
       "      <th>287</th>\n",
       "      <td>BBID_20415</td>\n",
       "      <td>1986-07-19</td>\n",
       "      <td>1</td>\n",
       "      <td>2016-11-17</td>\n",
       "      <td>2655</td>\n",
       "      <td>65993</td>\n",
       "      <td>1000477316012</td>\n",
       "      <td>-599.0</td>\n",
       "      <td>31</td>\n",
       "      <td>3</td>\n",
       "    </tr>\n",
       "    <tr>\n",
       "      <th>308</th>\n",
       "      <td>BBID_20415</td>\n",
       "      <td>1986-07-19</td>\n",
       "      <td>1</td>\n",
       "      <td>2015-08-13</td>\n",
       "      <td>2655</td>\n",
       "      <td>1433</td>\n",
       "      <td>1000150037001</td>\n",
       "      <td>-599.0</td>\n",
       "      <td>31</td>\n",
       "      <td>3</td>\n",
       "    </tr>\n",
       "  </tbody>\n",
       "</table>\n",
       "</div>"
      ],
      "text/plain": [
       "     customerID         DOB  Gender transactionDate  store_code  \\\n",
       "59    BBID_2043  1978-05-03       1      2016-06-08        4986   \n",
       "129   BBID_2046  1959-11-01       1      2016-05-02        2906   \n",
       "146   BBID_2046  1959-11-01       1      2016-05-02        2906   \n",
       "287  BBID_20415  1986-07-19       1      2016-11-17        2655   \n",
       "308  BBID_20415  1986-07-19       1      2015-08-13        2655   \n",
       "\n",
       "     transaction_number_by_till   product_code  totalSpend  age  \\\n",
       "59                        23523      108037613      -215.0   39   \n",
       "129                         978  1000455039005      -808.0   58   \n",
       "146                         978     1000058082      -808.0   58   \n",
       "287                       65993  1000477316012      -599.0   31   \n",
       "308                        1433  1000150037001      -599.0   31   \n",
       "\n",
       "     day_of_transaction  \n",
       "59                    2  \n",
       "129                   0  \n",
       "146                   0  \n",
       "287                   3  \n",
       "308                   3  "
      ]
     },
     "execution_count": 69,
     "metadata": {},
     "output_type": "execute_result"
    }
   ],
   "source": [
    "merged_data[merged_data['totalSpend'] < 0]"
   ]
  },
  {
   "cell_type": "code",
   "execution_count": 74,
   "metadata": {
    "collapsed": true
   },
   "outputs": [],
   "source": [
    "#Drop the final set of columns\n",
    "merged_data.drop(['DOB','transaction_number_by_till'], axis=1, inplace=True)"
   ]
  },
  {
   "cell_type": "code",
   "execution_count": 77,
   "metadata": {},
   "outputs": [],
   "source": [
    "#merged_data[merged_data['customerID'] == 'BBID_20415'].sort_values(by='transactionDate')"
   ]
  },
  {
   "cell_type": "code",
   "execution_count": 109,
   "metadata": {},
   "outputs": [
    {
     "data": {
      "text/html": [
       "<div>\n",
       "<style>\n",
       "    .dataframe thead tr:only-child th {\n",
       "        text-align: right;\n",
       "    }\n",
       "\n",
       "    .dataframe thead th {\n",
       "        text-align: left;\n",
       "    }\n",
       "\n",
       "    .dataframe tbody tr th {\n",
       "        vertical-align: top;\n",
       "    }\n",
       "</style>\n",
       "<table border=\"1\" class=\"dataframe\">\n",
       "  <thead>\n",
       "    <tr style=\"text-align: right;\">\n",
       "      <th></th>\n",
       "      <th>customerID</th>\n",
       "      <th>Gender</th>\n",
       "      <th>transactionDate</th>\n",
       "      <th>store_code</th>\n",
       "      <th>totalSpend</th>\n",
       "      <th>age</th>\n",
       "      <th>day_of_transaction</th>\n",
       "    </tr>\n",
       "  </thead>\n",
       "  <tbody>\n",
       "    <tr>\n",
       "      <th>0</th>\n",
       "      <td>BBID_2041</td>\n",
       "      <td>1</td>\n",
       "      <td>2016-01-19</td>\n",
       "      <td>2655</td>\n",
       "      <td>672.0</td>\n",
       "      <td>36</td>\n",
       "      <td>1</td>\n",
       "    </tr>\n",
       "    <tr>\n",
       "      <th>1</th>\n",
       "      <td>BBID_2041</td>\n",
       "      <td>1</td>\n",
       "      <td>2016-06-21</td>\n",
       "      <td>2655</td>\n",
       "      <td>40.0</td>\n",
       "      <td>36</td>\n",
       "      <td>1</td>\n",
       "    </tr>\n",
       "  </tbody>\n",
       "</table>\n",
       "</div>"
      ],
      "text/plain": [
       "  customerID  Gender transactionDate  store_code  totalSpend  age  \\\n",
       "0  BBID_2041       1      2016-01-19        2655       672.0   36   \n",
       "1  BBID_2041       1      2016-06-21        2655        40.0   36   \n",
       "\n",
       "   day_of_transaction  \n",
       "0                   1  \n",
       "1                   1  "
      ]
     },
     "execution_count": 109,
     "metadata": {},
     "output_type": "execute_result"
    }
   ],
   "source": [
    "merged_data.head(2)"
   ]
  },
  {
   "cell_type": "code",
   "execution_count": 78,
   "metadata": {},
   "outputs": [
    {
     "data": {
      "text/plain": [
       "customerID             25\n",
       "Gender                  2\n",
       "transactionDate        58\n",
       "store_code              4\n",
       "product_code          376\n",
       "totalSpend             49\n",
       "age                    15\n",
       "day_of_transaction      7\n",
       "dtype: int64"
      ]
     },
     "execution_count": 78,
     "metadata": {},
     "output_type": "execute_result"
    }
   ],
   "source": [
    "merged_data.nunique()"
   ]
  },
  {
   "cell_type": "code",
   "execution_count": 79,
   "metadata": {},
   "outputs": [
    {
     "data": {
      "text/html": [
       "<div>\n",
       "<style>\n",
       "    .dataframe thead tr:only-child th {\n",
       "        text-align: right;\n",
       "    }\n",
       "\n",
       "    .dataframe thead th {\n",
       "        text-align: left;\n",
       "    }\n",
       "\n",
       "    .dataframe tbody tr th {\n",
       "        vertical-align: top;\n",
       "    }\n",
       "</style>\n",
       "<table border=\"1\" class=\"dataframe\">\n",
       "  <thead>\n",
       "    <tr style=\"text-align: right;\">\n",
       "      <th></th>\n",
       "      <th>Total</th>\n",
       "      <th>Percent</th>\n",
       "    </tr>\n",
       "  </thead>\n",
       "  <tbody>\n",
       "    <tr>\n",
       "      <th>day_of_transaction</th>\n",
       "      <td>0</td>\n",
       "      <td>0.0</td>\n",
       "    </tr>\n",
       "    <tr>\n",
       "      <th>age</th>\n",
       "      <td>0</td>\n",
       "      <td>0.0</td>\n",
       "    </tr>\n",
       "    <tr>\n",
       "      <th>totalSpend</th>\n",
       "      <td>0</td>\n",
       "      <td>0.0</td>\n",
       "    </tr>\n",
       "    <tr>\n",
       "      <th>product_code</th>\n",
       "      <td>0</td>\n",
       "      <td>0.0</td>\n",
       "    </tr>\n",
       "    <tr>\n",
       "      <th>store_code</th>\n",
       "      <td>0</td>\n",
       "      <td>0.0</td>\n",
       "    </tr>\n",
       "    <tr>\n",
       "      <th>transactionDate</th>\n",
       "      <td>0</td>\n",
       "      <td>0.0</td>\n",
       "    </tr>\n",
       "  </tbody>\n",
       "</table>\n",
       "</div>"
      ],
      "text/plain": [
       "                    Total  Percent\n",
       "day_of_transaction      0      0.0\n",
       "age                     0      0.0\n",
       "totalSpend              0      0.0\n",
       "product_code            0      0.0\n",
       "store_code              0      0.0\n",
       "transactionDate         0      0.0"
      ]
     },
     "execution_count": 79,
     "metadata": {},
     "output_type": "execute_result"
    }
   ],
   "source": [
    "total = merged_data.isnull().sum().sort_values(ascending=False)\n",
    "percent = (merged_data.isnull().sum()/merged_data.isnull().count()).sort_values(ascending=False)\n",
    "missing_data = pd.concat([total, percent], axis=1, keys=['Total', 'Percent'])\n",
    "missing_data.head(6)"
   ]
  },
  {
   "cell_type": "code",
   "execution_count": 93,
   "metadata": {},
   "outputs": [],
   "source": [
    "#drop rows with product code as null\n",
    "merged_data = merged_data[~pd.isnull(merged_data['product_code'])]"
   ]
  },
  {
   "cell_type": "code",
   "execution_count": 94,
   "metadata": {
    "collapsed": true
   },
   "outputs": [],
   "source": [
    "customer_product_mapping = merged_data.drop(['Gender','store_code','totalSpend','age','day_of_transaction',\n",
    "                                             'transactionDate'], axis=1)"
   ]
  },
  {
   "cell_type": "code",
   "execution_count": 95,
   "metadata": {},
   "outputs": [
    {
     "data": {
      "text/plain": [
       "(500, 8)"
      ]
     },
     "execution_count": 95,
     "metadata": {},
     "output_type": "execute_result"
    }
   ],
   "source": [
    "merged_data.shape"
   ]
  },
  {
   "cell_type": "code",
   "execution_count": 96,
   "metadata": {
    "collapsed": true
   },
   "outputs": [],
   "source": [
    "#remove the product_code from merged data and shrink the merged data to have unique values\n",
    "merged_data.drop(['product_code'], axis=1, inplace=True)"
   ]
  },
  {
   "cell_type": "code",
   "execution_count": 102,
   "metadata": {},
   "outputs": [],
   "source": [
    "#merged_data[merged_data['customerID'] == 'BBID_20415'].sort_values(by='transactionDate')"
   ]
  },
  {
   "cell_type": "code",
   "execution_count": 99,
   "metadata": {
    "collapsed": true
   },
   "outputs": [],
   "source": [
    "merged_data.drop_duplicates(inplace=True)"
   ]
  },
  {
   "cell_type": "code",
   "execution_count": 128,
   "metadata": {},
   "outputs": [
    {
     "data": {
      "text/plain": [
       "(69, 7)"
      ]
     },
     "execution_count": 128,
     "metadata": {},
     "output_type": "execute_result"
    }
   ],
   "source": [
    "#Shape after removal of duplicates\n",
    "merged_data.shape"
   ]
  },
  {
   "cell_type": "code",
   "execution_count": 110,
   "metadata": {},
   "outputs": [
    {
     "data": {
      "text/html": [
       "<div>\n",
       "<style>\n",
       "    .dataframe thead tr:only-child th {\n",
       "        text-align: right;\n",
       "    }\n",
       "\n",
       "    .dataframe thead th {\n",
       "        text-align: left;\n",
       "    }\n",
       "\n",
       "    .dataframe tbody tr th {\n",
       "        vertical-align: top;\n",
       "    }\n",
       "</style>\n",
       "<table border=\"1\" class=\"dataframe\">\n",
       "  <thead>\n",
       "    <tr style=\"text-align: right;\">\n",
       "      <th></th>\n",
       "      <th>customerID</th>\n",
       "      <th>Gender</th>\n",
       "      <th>transactionDate</th>\n",
       "      <th>store_code</th>\n",
       "      <th>totalSpend</th>\n",
       "      <th>age</th>\n",
       "      <th>day_of_transaction</th>\n",
       "    </tr>\n",
       "  </thead>\n",
       "  <tbody>\n",
       "    <tr>\n",
       "      <th>0</th>\n",
       "      <td>BBID_2041</td>\n",
       "      <td>1</td>\n",
       "      <td>2016-01-19</td>\n",
       "      <td>2655</td>\n",
       "      <td>672.0</td>\n",
       "      <td>36</td>\n",
       "      <td>1</td>\n",
       "    </tr>\n",
       "    <tr>\n",
       "      <th>1</th>\n",
       "      <td>BBID_2041</td>\n",
       "      <td>1</td>\n",
       "      <td>2016-06-21</td>\n",
       "      <td>2655</td>\n",
       "      <td>40.0</td>\n",
       "      <td>36</td>\n",
       "      <td>1</td>\n",
       "    </tr>\n",
       "  </tbody>\n",
       "</table>\n",
       "</div>"
      ],
      "text/plain": [
       "  customerID  Gender transactionDate  store_code  totalSpend  age  \\\n",
       "0  BBID_2041       1      2016-01-19        2655       672.0   36   \n",
       "1  BBID_2041       1      2016-06-21        2655        40.0   36   \n",
       "\n",
       "   day_of_transaction  \n",
       "0                   1  \n",
       "1                   1  "
      ]
     },
     "execution_count": 110,
     "metadata": {},
     "output_type": "execute_result"
    }
   ],
   "source": [
    "merged_data.head(2)"
   ]
  },
  {
   "cell_type": "code",
   "execution_count": 85,
   "metadata": {},
   "outputs": [
    {
     "data": {
      "text/plain": [
       "(500, 2)"
      ]
     },
     "execution_count": 85,
     "metadata": {},
     "output_type": "execute_result"
    }
   ],
   "source": [
    "customer_product_mapping.shape"
   ]
  },
  {
   "cell_type": "code",
   "execution_count": 86,
   "metadata": {},
   "outputs": [
    {
     "data": {
      "text/html": [
       "<div>\n",
       "<style>\n",
       "    .dataframe thead tr:only-child th {\n",
       "        text-align: right;\n",
       "    }\n",
       "\n",
       "    .dataframe thead th {\n",
       "        text-align: left;\n",
       "    }\n",
       "\n",
       "    .dataframe tbody tr th {\n",
       "        vertical-align: top;\n",
       "    }\n",
       "</style>\n",
       "<table border=\"1\" class=\"dataframe\">\n",
       "  <thead>\n",
       "    <tr style=\"text-align: right;\">\n",
       "      <th></th>\n",
       "      <th>customerID</th>\n",
       "      <th>product_code</th>\n",
       "    </tr>\n",
       "  </thead>\n",
       "  <tbody>\n",
       "    <tr>\n",
       "      <th>0</th>\n",
       "      <td>BBID_2041</td>\n",
       "      <td>300785147</td>\n",
       "    </tr>\n",
       "    <tr>\n",
       "      <th>1</th>\n",
       "      <td>BBID_2041</td>\n",
       "      <td>1000315939</td>\n",
       "    </tr>\n",
       "    <tr>\n",
       "      <th>2</th>\n",
       "      <td>BBID_2041</td>\n",
       "      <td>1000314595</td>\n",
       "    </tr>\n",
       "    <tr>\n",
       "      <th>3</th>\n",
       "      <td>BBID_2041</td>\n",
       "      <td>300930107</td>\n",
       "    </tr>\n",
       "    <tr>\n",
       "      <th>4</th>\n",
       "      <td>BBID_2041</td>\n",
       "      <td>1000010393</td>\n",
       "    </tr>\n",
       "  </tbody>\n",
       "</table>\n",
       "</div>"
      ],
      "text/plain": [
       "  customerID  product_code\n",
       "0  BBID_2041     300785147\n",
       "1  BBID_2041    1000315939\n",
       "2  BBID_2041    1000314595\n",
       "3  BBID_2041     300930107\n",
       "4  BBID_2041    1000010393"
      ]
     },
     "execution_count": 86,
     "metadata": {},
     "output_type": "execute_result"
    }
   ],
   "source": [
    "customer_product_mapping.head()"
   ]
  },
  {
   "cell_type": "code",
   "execution_count": 89,
   "metadata": {},
   "outputs": [],
   "source": [
    "customerIds = set(customer_product_mapping['customerID'])"
   ]
  },
  {
   "cell_type": "code",
   "execution_count": 90,
   "metadata": {},
   "outputs": [
    {
     "data": {
      "text/plain": [
       "25"
      ]
     },
     "execution_count": 90,
     "metadata": {},
     "output_type": "execute_result"
    }
   ],
   "source": [
    "len(customerIds)"
   ]
  },
  {
   "cell_type": "code",
   "execution_count": 91,
   "metadata": {
    "collapsed": true
   },
   "outputs": [],
   "source": [
    "productCode = set(customer_product_mapping['product_code'])"
   ]
  },
  {
   "cell_type": "code",
   "execution_count": 92,
   "metadata": {},
   "outputs": [
    {
     "data": {
      "text/plain": [
       "376"
      ]
     },
     "execution_count": 92,
     "metadata": {},
     "output_type": "execute_result"
    }
   ],
   "source": [
    "len(productCode)"
   ]
  },
  {
   "cell_type": "code",
   "execution_count": 107,
   "metadata": {},
   "outputs": [
    {
     "data": {
      "text/plain": [
       "dtype('int64')"
      ]
     },
     "execution_count": 107,
     "metadata": {},
     "output_type": "execute_result"
    }
   ],
   "source": [
    "list(productCode)[0].dtype"
   ]
  },
  {
   "cell_type": "code",
   "execution_count": 111,
   "metadata": {
    "collapsed": true
   },
   "outputs": [],
   "source": [
    "customer_product_matrix = np.zeros((merged_data.shape[0], len(productCode)))"
   ]
  },
  {
   "cell_type": "code",
   "execution_count": 123,
   "metadata": {},
   "outputs": [],
   "source": [
    "customer_product_matrix = pd.DataFrame(customer_product_matrix)"
   ]
  },
  {
   "cell_type": "code",
   "execution_count": 130,
   "metadata": {},
   "outputs": [],
   "source": [
    "#customer_product_matrix"
   ]
  },
  {
   "cell_type": "code",
   "execution_count": 137,
   "metadata": {},
   "outputs": [
    {
     "data": {
      "text/plain": [
       "(69, 7)"
      ]
     },
     "execution_count": 137,
     "metadata": {},
     "output_type": "execute_result"
    }
   ],
   "source": [
    "merged_data.shape"
   ]
  },
  {
   "cell_type": "code",
   "execution_count": null,
   "metadata": {
    "collapsed": true
   },
   "outputs": [],
   "source": []
  }
 ],
 "metadata": {
  "kernelspec": {
   "display_name": "Python 3",
   "language": "python",
   "name": "python3"
  },
  "language_info": {
   "codemirror_mode": {
    "name": "ipython",
    "version": 3
   },
   "file_extension": ".py",
   "mimetype": "text/x-python",
   "name": "python",
   "nbconvert_exporter": "python",
   "pygments_lexer": "ipython3",
   "version": "3.6.3"
  }
 },
 "nbformat": 4,
 "nbformat_minor": 2
}
