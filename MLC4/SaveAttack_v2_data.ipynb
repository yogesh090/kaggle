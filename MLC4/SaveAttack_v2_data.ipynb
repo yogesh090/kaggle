{
 "cells": [
  {
   "cell_type": "code",
   "execution_count": 71,
   "metadata": {
    "collapsed": true
   },
   "outputs": [],
   "source": [
    "import numpy as np\n",
    "import pandas as pd\n",
    "import seaborn as sns\n",
    "import matplotlib.pyplot as plt\n",
    "\n",
    "%matplotlib inline\n",
    "\n",
    "from sklearn.model_selection import StratifiedKFold\n",
    "from sklearn.model_selection import cross_val_score\n",
    "\n",
    "from sklearn.tree import DecisionTreeClassifier\n",
    "from sklearn.linear_model import LogisticRegression\n",
    "from sklearn.ensemble import GradientBoostingClassifier, RandomForestClassifier\n",
    "\n",
    "import xgboost as xgb\n",
    "from xgboost import XGBClassifier\n",
    "#from lightgbm import LGBMClassifier"
   ]
  },
  {
   "cell_type": "code",
   "execution_count": 3,
   "metadata": {},
   "outputs": [
    {
     "data": {
      "text/plain": [
       "'C:\\\\Users\\\\635718\\\\Desktop\\\\DataScience\\\\HackerEarth\\\\MLC4'"
      ]
     },
     "execution_count": 3,
     "metadata": {},
     "output_type": "execute_result"
    }
   ],
   "source": [
    "pwd"
   ]
  },
  {
   "cell_type": "code",
   "execution_count": 4,
   "metadata": {},
   "outputs": [
    {
     "ename": "NameError",
     "evalue": "name 'ghdfkghdfkjg' is not defined",
     "output_type": "error",
     "traceback": [
      "\u001b[1;31m---------------------------------------------------------------------------\u001b[0m",
      "\u001b[1;31mNameError\u001b[0m                                 Traceback (most recent call last)",
      "\u001b[1;32m<ipython-input-4-5382e51b72e9>\u001b[0m in \u001b[0;36m<module>\u001b[1;34m()\u001b[0m\n\u001b[1;32m----> 1\u001b[1;33m \u001b[0mghdfkghdfkjg\u001b[0m\u001b[1;33m\u001b[0m\u001b[0m\n\u001b[0m",
      "\u001b[1;31mNameError\u001b[0m: name 'ghdfkghdfkjg' is not defined"
     ]
    }
   ],
   "source": [
    "ghdfkghdfkjg"
   ]
  },
  {
   "cell_type": "code",
   "execution_count": 5,
   "metadata": {
    "collapsed": true
   },
   "outputs": [],
   "source": [
    "train = pd.read_csv('train_data.csv')\n",
    "test = pd.read_csv('test_data.csv')"
   ]
  },
  {
   "cell_type": "code",
   "execution_count": null,
   "metadata": {
    "collapsed": true
   },
   "outputs": [],
   "source": [
    "id_test = test['connection_id'].values"
   ]
  },
  {
   "cell_type": "code",
   "execution_count": null,
   "metadata": {},
   "outputs": [],
   "source": [
    "train.shape"
   ]
  },
  {
   "cell_type": "code",
   "execution_count": null,
   "metadata": {},
   "outputs": [],
   "source": [
    "train.columns"
   ]
  },
  {
   "cell_type": "code",
   "execution_count": null,
   "metadata": {},
   "outputs": [],
   "source": [
    "#train.nunique()"
   ]
  },
  {
   "cell_type": "code",
   "execution_count": null,
   "metadata": {},
   "outputs": [],
   "source": [
    "train.head()"
   ]
  },
  {
   "cell_type": "code",
   "execution_count": null,
   "metadata": {},
   "outputs": [],
   "source": [
    "#train[['cont_11','cont_12','cont_13','cont_17']]"
   ]
  },
  {
   "cell_type": "code",
   "execution_count": 74,
   "metadata": {},
   "outputs": [
    {
     "data": {
      "text/plain": [
       "<matplotlib.axes._subplots.AxesSubplot at 0xc270270>"
      ]
     },
     "execution_count": 74,
     "metadata": {},
     "output_type": "execute_result"
    },
    {
     "data": {
      "image/png": "[encoded data removed]",
      "text/plain": [
       "<matplotlib.figure.Figure at 0xbafe690>"
      ]
     },
     "metadata": {},
     "output_type": "display_data"
    }
   ],
   "source": [
    "sns.distplot(train['cat_20'])"
   ]
  },
  {
   "cell_type": "code",
   "execution_count": null,
   "metadata": {},
   "outputs": [],
   "source": [
    "train['target'].value_counts()"
   ]
  },
  {
   "cell_type": "code",
   "execution_count": null,
   "metadata": {},
   "outputs": [],
   "source": [
    "sns.distplot(train['target'], kde=False)"
   ]
  },
  {
   "cell_type": "code",
   "execution_count": null,
   "metadata": {},
   "outputs": [],
   "source": [
    "test.head()"
   ]
  },
  {
   "cell_type": "code",
   "execution_count": null,
   "metadata": {},
   "outputs": [],
   "source": [
    "#test.nunique()"
   ]
  },
  {
   "cell_type": "code",
   "execution_count": null,
   "metadata": {},
   "outputs": [],
   "source": [
    "sns.jointplot(x='cat_9',y='cat_22',data=train)"
   ]
  },
  {
   "cell_type": "code",
   "execution_count": 32,
   "metadata": {},
   "outputs": [
    {
     "name": "stdout",
     "output_type": "stream",
     "text": [
      "----- Training Done -----\n"
     ]
    }
   ],
   "source": [
    "from sklearn.ensemble import GradientBoostingClassifier\n",
    "gb = RandomForestClassifier(n_estimators=200, max_depth=3, min_samples_leaf=4, max_features=0.2, random_state=0)\n",
    "gb.fit(train.drop(['connection_id', 'target'],axis=1), train.target)\n",
    "features = train.drop(['connection_id', 'target'],axis=1).columns.values\n",
    "print(\"----- Training Done -----\")"
   ]
  },
  {
   "cell_type": "code",
   "execution_count": 33,
   "metadata": {
    "collapsed": true
   },
   "outputs": [],
   "source": [
    "x, y = (list(x) for x in zip(*sorted(zip(gb.feature_importances_, features), \n",
    "                                                            reverse = False)))"
   ]
  },
  {
   "cell_type": "code",
   "execution_count": 34,
   "metadata": {},
   "outputs": [
    {
     "name": "stdout",
     "output_type": "stream",
     "text": [
      "[  2.89876251e-03   2.08228890e-02   1.81363525e-01   1.62736608e-03\n",
      "   1.61785619e-03   4.03847526e-04   2.40545360e-04   1.98921169e-02\n",
      "   1.58037060e-02   8.62628356e-03   6.62532594e-03   1.17691626e-02\n",
      "   2.39422227e-02   6.01080215e-02   1.11604841e-03   2.15133048e-03\n",
      "   5.34309309e-04   3.84006828e-04   2.50879784e-02   1.05279121e-01\n",
      "   1.09180634e-02   0.00000000e+00   1.11049079e-07   0.00000000e+00\n",
      "   6.72690791e-05   1.93966387e-06   1.00069467e-01   2.03316176e-04\n",
      "   0.00000000e+00   0.00000000e+00   0.00000000e+00   8.75666798e-06\n",
      "   0.00000000e+00   0.00000000e+00   0.00000000e+00   0.00000000e+00\n",
      "   0.00000000e+00   2.82984776e-01   4.58295785e-02   5.92477393e-02\n",
      "   1.03745583e-02]\n",
      "['cont_1' 'cont_2' 'cont_3' 'cont_4' 'cont_5' 'cont_6' 'cont_7' 'cont_8'\n",
      " 'cont_9' 'cont_10' 'cont_11' 'cont_12' 'cont_13' 'cont_14' 'cont_15'\n",
      " 'cont_16' 'cont_17' 'cont_18' 'cat_1' 'cat_2' 'cat_3' 'cat_4' 'cat_5'\n",
      " 'cat_6' 'cat_7' 'cat_8' 'cat_9' 'cat_10' 'cat_11' 'cat_12' 'cat_13'\n",
      " 'cat_14' 'cat_15' 'cat_16' 'cat_17' 'cat_18' 'cat_19' 'cat_20' 'cat_21'\n",
      " 'cat_22' 'cat_23']\n"
     ]
    }
   ],
   "source": [
    "print(gb.feature_importances_)\n",
    "print(features)"
   ]
  },
  {
   "cell_type": "code",
   "execution_count": 35,
   "metadata": {
    "collapsed": true
   },
   "outputs": [],
   "source": [
    "feature_imp = pd.DataFrame(features)\n",
    "feature_imp.columns = ['feature']\n",
    "feature_imp['imp'] = gb.feature_importances_"
   ]
  },
  {
   "cell_type": "code",
   "execution_count": 43,
   "metadata": {},
   "outputs": [
    {
     "data": {
      "text/plain": [
       "['cat_20',\n",
       " 'cont_3',\n",
       " 'cat_2',\n",
       " 'cat_9',\n",
       " 'cont_14',\n",
       " 'cat_22',\n",
       " 'cat_21',\n",
       " 'cat_1',\n",
       " 'cont_13',\n",
       " 'cont_2',\n",
       " 'cont_8',\n",
       " 'cont_9',\n",
       " 'cont_12',\n",
       " 'cat_3',\n",
       " 'cat_23',\n",
       " 'cont_10',\n",
       " 'cont_11',\n",
       " 'cont_1',\n",
       " 'cont_16',\n",
       " 'cont_4',\n",
       " 'cont_5',\n",
       " 'cont_15',\n",
       " 'cont_17',\n",
       " 'cont_6',\n",
       " 'cont_18',\n",
       " 'cont_7',\n",
       " 'cat_10',\n",
       " 'cat_7',\n",
       " 'cat_14',\n",
       " 'cat_8']"
      ]
     },
     "execution_count": 43,
     "metadata": {},
     "output_type": "execute_result"
    }
   ],
   "source": [
    "list(feature_imp.sort_values(by='imp',ascending=False).head(30)['feature'])"
   ]
  },
  {
   "cell_type": "code",
   "execution_count": null,
   "metadata": {},
   "outputs": [],
   "source": [
    "import matplotlib.pyplot as plt\n",
    "\n",
    "#correlation matrix\n",
    "corrmat = train.corr()\n",
    "f, ax = plt.subplots(figsize=(12, 9))\n",
    "sns.heatmap(corrmat, vmax=.8, square=True);"
   ]
  },
  {
   "cell_type": "code",
   "execution_count": null,
   "metadata": {
    "collapsed": true
   },
   "outputs": [],
   "source": [
    "#sns.jointplot(x='feature',y='imp',data=feature_imp)"
   ]
  },
  {
   "cell_type": "code",
   "execution_count": 26,
   "metadata": {},
   "outputs": [
    {
     "name": "stdout",
     "output_type": "stream",
     "text": [
      "98868 49434 49434\n"
     ]
    }
   ],
   "source": [
    "count_class_0, count_class_1, count_class_2 = train.target.value_counts()\n",
    "print(max(count_class_0, count_class_1, count_class_2))"
   ]
  },
  {
   "cell_type": "code",
   "execution_count": 27,
   "metadata": {},
   "outputs": [
    {
     "name": "stdout",
     "output_type": "stream",
     "text": [
      "(230692, 43)\n"
     ]
    }
   ],
   "source": [
    "#Resample the data\n",
    "# Class count\n",
    "count_class_0, count_class_1, count_class_2 = train.target.value_counts()\n",
    "\n",
    "# Divide by class\n",
    "df_class_0 = train[train['target'] == 0]\n",
    "df_class_1 = train[train['target'] == 1]\n",
    "df_class_2 = train[train['target'] == 2]\n",
    "\n",
    "df_class_1_over = df_class_1.sample(int((count_class_0*2)/3), replace=True)\n",
    "df_class_2_over = df_class_2.sample(int((count_class_0*2)/3), replace=True)\n",
    "\n",
    "train_over = pd.concat([df_class_0, df_class_1_over, df_class_2_over], axis=0)\n",
    "\n",
    "# Shuffle data\n",
    "idx = np.arange(len(train_over))\n",
    "np.random.shuffle(idx)\n",
    "train_over = train_over.iloc[idx]\n",
    "\n",
    "train = train_over\n",
    "\n",
    "print(train.shape)"
   ]
  },
  {
   "cell_type": "code",
   "execution_count": 44,
   "metadata": {
    "collapsed": true
   },
   "outputs": [],
   "source": [
    "features = ['cat_20', 'cont_3', 'cat_2', 'cat_9', 'cont_14', 'cat_22', 'cat_21', 'cat_1', 'cont_13', 'cont_2', \n",
    "'cont_8', 'cont_9', 'cont_12', 'cat_3', 'cat_23', 'cont_10', 'cont_11', 'cont_1', 'cont_16', 'cont_4', \n",
    "'cont_5', 'cont_15', 'cont_17', 'cont_6', 'cont_18', 'cont_7', 'cat_10', 'cat_7', 'cat_14', 'cat_8']"
   ]
  },
  {
   "cell_type": "code",
   "execution_count": null,
   "metadata": {},
   "outputs": [],
   "source": [
    "train_features = [x for x in features if x not in ['connection_id','target']]\n",
    "\n",
    "X = train[train_features].values\n",
    "y = train.loc[:,'target'].values\n",
    "T = test[train_features].values\n",
    "\n",
    "#create the models\n",
    "# LightGBM params\n",
    "lgb_params_1 = {\n",
    "    'learning_rate': 0.01,\n",
    "    'n_estimators': 1250,\n",
    "    'max_bin': 10,\n",
    "    'subsample': 0.8,\n",
    "    'subsample_freq': 10,\n",
    "    'colsample_bytree': 0.8, \n",
    "    'min_child_samples': 500\n",
    "}\n",
    "\n",
    "lgb_params_2 = {\n",
    "    'learning_rate': 0.005,\n",
    "    'n_estimators': 3700,\n",
    "    'subsample': 0.7,\n",
    "    'subsample_freq': 2,\n",
    "    'colsample_bytree': 0.3,  \n",
    "    'num_leaves': 16\n",
    "}\n",
    "\n",
    "lgb_params_3 = {\n",
    "   'objective':'binary:logistic',\n",
    "   'learning_rate':0.02,\n",
    "    'n_estimators':1000,\n",
    "    'max_depth':4,\n",
    "    'subsample':0.9,\n",
    "    'colsample_bytree':0.9,  \n",
    "    'min_child_weight':10\n",
    "}\n",
    "\n",
    "lgb_model_1 = LGBMClassifier(**lgb_params_1)\n",
    "lgb_model_2 = LGBMClassifier(**lgb_params_2)\n",
    "lgb_model_3 = XGBClassifier(**lgb_params_3)\n",
    "#base_models = (lgb_model_1, lgb_model_2, lgb_model_3)\n",
    "base_models = (lgb_model_1, lgb_model_2)\n",
    "\n",
    "log_model = LogisticRegression()\n",
    "stacker = log_model\n",
    "print(\"models created\")"
   ]
  },
  {
   "cell_type": "code",
   "execution_count": 45,
   "metadata": {},
   "outputs": [
    {
     "name": "stdout",
     "output_type": "stream",
     "text": [
      "models created\n"
     ]
    }
   ],
   "source": [
    "train_features = features\n",
    "#train_features = [x for x in train.columns if x not in ['connection_id','target']]\n",
    "\n",
    "X = train[train_features].values\n",
    "y = train.loc[:,'target'].values\n",
    "T = test[train_features].values\n",
    "\n",
    "param_1 = {\"n_estimators\": 400,\n",
    "            \"max_depth\": 1,\n",
    "            \"min_samples_split\": 0.1,\n",
    "            \"min_samples_leaf\": 1,\n",
    "            \"max_leaf_nodes\": 2,\n",
    "            \"min_weight_fraction_leaf\": 0.2\n",
    "}\n",
    "\n",
    "param_2 = {\"n_estimators\": 800,\n",
    "            \"max_depth\": 5,\n",
    "            \"min_samples_split\": 0.4,\n",
    "            \"min_samples_leaf\": 4,\n",
    "            \"max_leaf_nodes\": 10,\n",
    "            \"min_weight_fraction_leaf\": 0.3\n",
    "}\n",
    "\n",
    "param_3 = {\"n_estimators\": 300,\n",
    "            \"max_depth\": 7,\n",
    "            \"min_samples_split\": 0.5,\n",
    "            \"min_samples_leaf\": 10,\n",
    "            \"max_leaf_nodes\": 7,\n",
    "            \"min_weight_fraction_leaf\": 0.4\n",
    "}\n",
    "\n",
    "#clf1 = RandomForestClassifier(**param_1)\n",
    "#clf2 = RandomForestClassifier(**param_2)\n",
    "#clf3 = RandomForestClassifier(**param_3)\n",
    "\n",
    "lgb_params_3 = {   \n",
    "    'n_estimators':100\n",
    "}\n",
    "\n",
    "lgb_params_4 = {   \n",
    "    'n_estimators':200\n",
    "}\n",
    "\n",
    "lgb_params_5 = {   \n",
    "    'n_estimators':300\n",
    "}\n",
    "\n",
    "clf1 = XGBClassifier(**lgb_params_3)\n",
    "clf2 = XGBClassifier(**lgb_params_4)\n",
    "clf3 = XGBClassifier(**lgb_params_5)\n",
    "\n",
    "base_models = (clf1, clf2, clf3)\n",
    "\n",
    "print(\"models created\")"
   ]
  },
  {
   "cell_type": "code",
   "execution_count": null,
   "metadata": {},
   "outputs": [],
   "source": [
    "#now we have the data with equal set of positives and negatives\n",
    "#lets check cross validation scores\n",
    "from scipy.stats import mode\n",
    "n_splits=5\n",
    "folds = list(StratifiedKFold(n_splits, shuffle=True, random_state=10).split(X, y))\n",
    "S_train = np.zeros((X.shape[0], len(base_models)))\n",
    "S_test = np.zeros((T.shape[0], len(base_models)))\n",
    "\n",
    "for i, clf in enumerate(base_models):\n",
    "    S_test_i = np.zeros((T.shape[0], n_splits))\n",
    "    for j, (train_idx, test_idx) in enumerate(folds):\n",
    "        X_train = X[train_idx]\n",
    "        y_train = y[train_idx]\n",
    "        X_holdout = X[test_idx]\n",
    "        print(X_train.shape)\n",
    "        \n",
    "        # Get positive examples\n",
    "        \"\"\"pos_1 = pd.Series(y_train == 1)\n",
    "        pos_2 = pd.Series(y_train == 2)\n",
    "        # Add positive examples - 1\n",
    "        X_train = pd.concat([pd.DataFrame(X_train), pd.DataFrame(X_train[pos_1])])\n",
    "        y_train = pd.concat([pd.DataFrame(y_train), pd.DataFrame(y_train[pos_1])])\n",
    "        # Add positive examples - 2\n",
    "        X_train = pd.concat([pd.DataFrame(X_train), pd.DataFrame(X_train[pos_2])])\n",
    "        y_train = pd.concat([pd.DataFrame(y_train), pd.DataFrame(y_train[pos_2])])\n",
    "        \n",
    "        # Shuffle data\n",
    "        idx = np.arange(len(X_train))\n",
    "        np.random.shuffle(idx)\n",
    "        X_train = X_train.iloc[idx]\n",
    "        y_train = y_train.iloc[idx]\"\"\"\n",
    "\n",
    "        print (\"Fit %s fold %d\" % (str(clf).split('(')[0], j+1))\n",
    "        clf.fit(X_train, y_train)\n",
    "        y_pred = clf.predict(X_holdout)\n",
    "        #y_pred = clf.predict_proba(X_holdout)[:,1]  \n",
    "        \n",
    "        S_train[test_idx, i] = y_pred\n",
    "        S_test_i[:, j] = clf.predict(T)\n",
    "        #S_test_i[:, j] = clf.predict_proba(T)[:,1]\n",
    "    \n",
    "    print(S_test_i)\n",
    "    #print(mode(S_test_i, axis=1)[0].flatten())\n",
    "    #print(S_test_i.mean(axis=1))\n",
    "    S_test[:, i] = mode(S_test_i, axis=1)[0].flatten()\n",
    "    #S_test[:, i] = S_test_i.mean(axis=1)\n",
    "    #sns.distplot(S_test[:, i],kde=False)"
   ]
  },
  {
   "cell_type": "code",
   "execution_count": 72,
   "metadata": {},
   "outputs": [
    {
     "name": "stdout",
     "output_type": "stream",
     "text": [
      "[0]\ttrain-merror:0.290442\ttest-merror:0.288905\n",
      "Multiple eval metrics have been passed: 'test-merror' will be used for early stopping.\n",
      "\n",
      "Will train until test-merror hasn't improved in 50 rounds.\n",
      "[5]\ttrain-merror:0.289367\ttest-merror:0.287518\n",
      "[10]\ttrain-merror:0.289517\ttest-merror:0.287691\n",
      "[15]\ttrain-merror:0.289598\ttest-merror:0.287778\n",
      "[20]\ttrain-merror:0.289558\ttest-merror:0.287726\n",
      "[25]\ttrain-merror:0.28954\ttest-merror:0.287708\n",
      "[30]\ttrain-merror:0.289477\ttest-merror:0.287708\n",
      "[35]\ttrain-merror:0.289431\ttest-merror:0.287674\n",
      "[40]\ttrain-merror:0.289361\ttest-merror:0.287604\n",
      "[45]\ttrain-merror:0.28913\ttest-merror:0.287362\n",
      "[50]\ttrain-merror:0.288968\ttest-merror:0.287292\n",
      "[55]\ttrain-merror:0.288309\ttest-merror:0.286703\n",
      "[60]\ttrain-merror:0.288119\ttest-merror:0.286477\n",
      "[65]\ttrain-merror:0.287853\ttest-merror:0.286286\n",
      "[70]\ttrain-merror:0.287679\ttest-merror:0.286182\n",
      "[75]\ttrain-merror:0.287471\ttest-merror:0.285905\n",
      "[80]\ttrain-merror:0.287454\ttest-merror:0.285905\n",
      "[85]\ttrain-merror:0.287454\ttest-merror:0.285992\n",
      "[90]\ttrain-merror:0.287408\ttest-merror:0.285853\n",
      "[95]\ttrain-merror:0.287338\ttest-merror:0.286009\n",
      "[99]\ttrain-merror:0.287321\ttest-merror:0.285922\n"
     ]
    },
    {
     "data": {
      "image/png": "[encoded data removed]",
      "text/plain": [
       "<matplotlib.figure.Figure at 0x6b40670>"
      ]
     },
     "metadata": {},
     "output_type": "display_data"
    }
   ],
   "source": [
    "from sklearn.cross_validation import train_test_split\n",
    "#XGB Param evaluation\n",
    "xgb_params = {\n",
    "    'n_estimators':200,\n",
    "    'eta': 0.05,\n",
    "    'max_depth': 4,\n",
    "    'subsample': 0.7,\n",
    "    'colsample_bytree': 0.7,\n",
    "    'objective': 'multi:softmax',\n",
    "    'num_class': 3,\n",
    "    'min_child_weight':1,\n",
    "    'silent': 1,\n",
    "    'seed':0\n",
    "}\n",
    "\n",
    "x_Train, x_Test, y_Train, y_Test = train_test_split(X, y, test_size = 0.25, random_state = 0)\n",
    "\n",
    "xgtrain = xgb.DMatrix(x_Train,y_Train, feature_names=features)\n",
    "xgtest = xgb.DMatrix(x_Test,y_Test, feature_names=features)\n",
    "watchlist = [ (xgtrain,'train'), (xgtest, 'test') ]\n",
    "num_rounds = 100 # Increase the number of rounds while running in local\n",
    "model = xgb.train(xgb_params, xgtrain, num_rounds, watchlist, early_stopping_rounds=50, verbose_eval=5)\n",
    "\n",
    "# plot the important features #\n",
    "fig, ax = plt.subplots(figsize=(12,18))\n",
    "xgb.plot_importance(model, max_num_features=50, height=0.8, ax=ax)\n",
    "plt.show()"
   ]
  },
  {
   "cell_type": "code",
   "execution_count": 61,
   "metadata": {},
   "outputs": [
    {
     "name": "stdout",
     "output_type": "stream",
     "text": [
      "Stacker score: 0.75275\n",
      "[ 0.75416125  0.751127    0.75317526  0.75425364  0.7510458 ]\n",
      "[1 0 0 ..., 0 0 1]\n"
     ]
    }
   ],
   "source": [
    "\"\"\"rf_params = {\n",
    "    'n_estimators':500,\n",
    "    'max_depth':4,\n",
    "    \"min_samples_split\": 6,\n",
    "    \"min_samples_leaf\": 10,\n",
    "    \"max_leaf_nodes\": 10,\n",
    "    \"min_weight_fraction_leaf\": 0.3\n",
    "}\"\"\"\n",
    "from sklearn.model_selection import StratifiedKFold\n",
    "\n",
    "stacker = RandomForestClassifier(n_estimators=200)\n",
    "#stacker = XGBClassifier(objective='multi:softmax',num_class=3, n_estimators=200)\n",
    "\n",
    "kfold = StratifiedKFold(n_splits=5, random_state=7)\n",
    "#results = cross_val_score(stacker, S_train, y, cv=5,)\n",
    "results = cross_val_score(stacker, X, y, cv=kfold)\n",
    "print(\"Stacker score: %.5f\" % (results.mean()))\n",
    "print(results)\n",
    "\n",
    "#print(stacker.best_params_)\n",
    "\n",
    "#print(\"S train size is : \", S_train.shape)\n",
    "stacker.fit(X, y)\n",
    "res = stacker.predict(T)\n",
    "\n",
    "print(res)"
   ]
  },
  {
   "cell_type": "code",
   "execution_count": null,
   "metadata": {
    "collapsed": true
   },
   "outputs": [],
   "source": [
    "Random forest\n",
    "without upsample\n",
    "Stacker score: 0.76283\n",
    "[ 0.76457386  0.76339259  0.76103006  0.76193851  0.76323095]\n",
    "0    69275\n",
    "1    18190\n",
    "2     3701\n",
    "\n",
    "total upsampling\n",
    "Stacker score: 0.71665\n",
    "[ 0.71474327  0.71614241  0.71725498  0.71949965  0.71562231]\n",
    "[1 2 0 ..., 2 0 1]\n",
    "0    51977\n",
    "2    21005\n",
    "1    18184\n",
    "\n",
    "n_estimator = 200\n",
    "0    52059\n",
    "2    20923\n",
    "1    18184\n",
    "\n",
    "proportional upsample\n",
    "Stacker score: 0.76315 -- half upsample\n",
    "[ 0.76385658  0.76170729  0.76416001  0.76410347  0.76194209]\n",
    "[1 0 0 ..., 0 0 1]\n",
    "0    68884\n",
    "1    18184\n",
    "2     4098\n",
    "\n",
    "Stacker score: 0.76333 -- 2/3 upsample\n",
    "[ 0.76438758  0.76137858  0.76393244  0.7646092   0.76234669]\n",
    "[1 0 0 ..., 0 0 1]\n",
    "0    68865\n",
    "1    18181\n",
    "2     4120\n",
    "\n",
    "features = ['cat_20', 'cont_3', 'cat_2', 'cat_9', 'cont_14', 'cat_22', 'cat_21', 'cat_1', 'cont_13', 'cont_2', \n",
    "'cont_8', 'cont_9', 'cont_12', 'cat_3', 'cat_23', 'cont_10', 'cont_11', 'cont_1', 'cont_16', 'cont_4', \n",
    "'cont_5', 'cont_15', 'cont_17', 'cont_6', 'cont_18', 'cont_7', 'cat_10', 'cat_7', 'cat_14', 'cat_8']\n",
    "\n",
    "Stacker score: 0.75308 -- 2/3 upsample -- selected features\n",
    "[ 0.75435631  0.75175553  0.75334865  0.75457875  0.75137092]\n",
    "[1 0 0 ..., 0 0 1]\n",
    "0    68624\n",
    "1    18185\n",
    "2     4357\n",
    "\n",
    "Stratified\n",
    "Stacker score: 0.75275\n",
    "[ 0.75416125  0.751127    0.75317526  0.75425364  0.7510458 ]\n",
    "[1 0 0 ..., 0 0 1]\n",
    "0    68604\n",
    "1    18183\n",
    "2     4379"
   ]
  },
  {
   "cell_type": "code",
   "execution_count": null,
   "metadata": {
    "collapsed": true
   },
   "outputs": [],
   "source": [
    "XGBoost\n",
    "without upsample\n",
    "Stacker score: 0.78073 -- Not predicting 2 at all\n",
    "[ 0.78096391  0.78102298  0.78040281  0.78075072  0.78050797]\n",
    "0    72936\n",
    "1    18214\n",
    "2       16\n",
    "\n",
    "total upsampling\n",
    "Stacker score: 0.66660\n",
    "[ 0.66422238  0.66656552  0.66789724  0.66708812  0.66722298]\n",
    "0    67147\n",
    "1    18319\n",
    "2     5700\n",
    "\n",
    "features = ['cat_20', 'cont_3', 'cat_2', 'cat_9', 'cont_14', 'cat_22', 'cat_21', 'cat_1', 'cont_13', 'cont_2', \n",
    "'cont_8', 'cont_9', 'cont_12', 'cat_3', 'cat_23', 'cont_10', 'cont_11', 'cont_1', 'cont_16', 'cont_4', \n",
    "'cont_5', 'cont_15', 'cont_17', 'cont_6', 'cont_18', 'cont_7', 'cat_10', 'cat_7', 'cat_14', 'cat_8']\n",
    "\n",
    "Stacker score: 0.71374 -- 2/3 upsample -- selected features\n",
    "[ 0.71352406  0.71391417  0.7137934   0.71389557  0.71354878]\n",
    "[1 0 0 ..., 0 0 1]\n",
    "0    72850\n",
    "1    18226\n",
    "2       90\n",
    "\n",
    "objective='multi:softmax', StratifiedKFold\n",
    "Stacker score: 0.71374\n",
    "[ 0.71352406  0.71391417  0.7137934   0.71389557  0.71354878]\n",
    "[1 0 0 ..., 0 0 1]\n",
    "0    72850\n",
    "1    18226\n",
    "2       90\n"
   ]
  },
  {
   "cell_type": "code",
   "execution_count": null,
   "metadata": {
    "collapsed": true
   },
   "outputs": [],
   "source": [
    "print(len(res))\n",
    "print(len(id_test))"
   ]
  },
  {
   "cell_type": "code",
   "execution_count": 62,
   "metadata": {
    "collapsed": true
   },
   "outputs": [],
   "source": [
    "r = pd.DataFrame(res)"
   ]
  },
  {
   "cell_type": "code",
   "execution_count": 63,
   "metadata": {
    "collapsed": true
   },
   "outputs": [],
   "source": [
    "r.columns = ['tar']"
   ]
  },
  {
   "cell_type": "code",
   "execution_count": 64,
   "metadata": {},
   "outputs": [
    {
     "data": {
      "text/plain": [
       "0    68604\n",
       "1    18183\n",
       "2     4379\n",
       "Name: tar, dtype: int64"
      ]
     },
     "execution_count": 64,
     "metadata": {},
     "output_type": "execute_result"
    }
   ],
   "source": [
    "r['tar'].value_counts()"
   ]
  },
  {
   "cell_type": "code",
   "execution_count": null,
   "metadata": {},
   "outputs": [],
   "source": [
    "sns.distplot(res,kde=False)"
   ]
  },
  {
   "cell_type": "code",
   "execution_count": null,
   "metadata": {
    "collapsed": true
   },
   "outputs": [],
   "source": [
    "print(results)\n",
    "print(res)\n",
    "\n",
    "sub = pd.DataFrame()\n",
    "sub['id'] = id_test\n",
    "sub['target'] = res\n",
    "sub.to_csv('stacked_result_strat_upsample.csv', index=False)\n",
    "\n",
    "print('completed')"
   ]
  },
  {
   "cell_type": "code",
   "execution_count": null,
   "metadata": {
    "collapsed": true
   },
   "outputs": [],
   "source": []
  },
  {
   "cell_type": "code",
   "execution_count": null,
   "metadata": {
    "collapsed": true
   },
   "outputs": [],
   "source": []
  },
  {
   "cell_type": "code",
   "execution_count": null,
   "metadata": {
    "collapsed": true
   },
   "outputs": [],
   "source": []
  }
 ],
 "metadata": {
  "celltoolbar": "Raw Cell Format",
  "kernelspec": {
   "display_name": "Python 3",
   "language": "python",
   "name": "python3"
  },
  "language_info": {
   "codemirror_mode": {
    "name": "ipython",
    "version": 3
   },
   "file_extension": ".py",
   "mimetype": "text/x-python",
   "name": "python",
   "nbconvert_exporter": "python",
   "pygments_lexer": "ipython3",
   "version": "3.6.3"
  }
 },
 "nbformat": 4,
 "nbformat_minor": 2
}
