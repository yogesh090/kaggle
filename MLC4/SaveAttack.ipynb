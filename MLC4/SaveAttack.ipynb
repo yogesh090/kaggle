{
 "cells": [
  {
   "cell_type": "code",
   "execution_count": 1,
   "metadata": {
    "collapsed": true
   },
   "outputs": [],
   "source": [
    "import numpy as np\n",
    "import pandas as pd\n",
    "import seaborn as sns\n",
    "\n",
    "%matplotlib inline\n",
    "\n",
    "from sklearn.model_selection import StratifiedKFold\n",
    "from sklearn.model_selection import cross_val_score\n",
    "\n",
    "from sklearn.tree import DecisionTreeClassifier\n",
    "from sklearn.linear_model import LogisticRegression\n",
    "from sklearn.ensemble import GradientBoostingClassifier, RandomForestClassifier\n",
    "\n",
    "#from xgboost import XGBClassifier\n",
    "#from lightgbm import LGBMClassifier"
   ]
  },
  {
   "cell_type": "code",
   "execution_count": 2,
   "metadata": {},
   "outputs": [
    {
     "data": {
      "text/plain": [
       "'C:\\\\Users\\\\635718\\\\Desktop\\\\DataScience\\\\HackerEarth\\\\MLC4'"
      ]
     },
     "execution_count": 2,
     "metadata": {},
     "output_type": "execute_result"
    }
   ],
   "source": [
    "pwd"
   ]
  },
  {
   "cell_type": "code",
   "execution_count": 3,
   "metadata": {
    "collapsed": true
   },
   "outputs": [],
   "source": [
    "train = pd.read_csv('train_data.csv')\n",
    "test = pd.read_csv('test_data.csv')"
   ]
  },
  {
   "cell_type": "code",
   "execution_count": 4,
   "metadata": {
    "collapsed": true
   },
   "outputs": [],
   "source": [
    "id_test = test['connection_id'].values"
   ]
  },
  {
   "cell_type": "code",
   "execution_count": 5,
   "metadata": {},
   "outputs": [
    {
     "data": {
      "text/plain": [
       "(169307, 43)"
      ]
     },
     "execution_count": 5,
     "metadata": {},
     "output_type": "execute_result"
    }
   ],
   "source": [
    "train.shape"
   ]
  },
  {
   "cell_type": "code",
   "execution_count": 6,
   "metadata": {},
   "outputs": [
    {
     "data": {
      "text/html": [
       "<div>\n",
       "<style>\n",
       "    .dataframe thead tr:only-child th {\n",
       "        text-align: right;\n",
       "    }\n",
       "\n",
       "    .dataframe thead th {\n",
       "        text-align: left;\n",
       "    }\n",
       "\n",
       "    .dataframe tbody tr th {\n",
       "        vertical-align: top;\n",
       "    }\n",
       "</style>\n",
       "<table border=\"1\" class=\"dataframe\">\n",
       "  <thead>\n",
       "    <tr style=\"text-align: right;\">\n",
       "      <th></th>\n",
       "      <th>connection_id</th>\n",
       "      <th>cont_1</th>\n",
       "      <th>cont_2</th>\n",
       "      <th>cont_3</th>\n",
       "      <th>cont_4</th>\n",
       "      <th>cont_5</th>\n",
       "      <th>cont_6</th>\n",
       "      <th>cont_7</th>\n",
       "      <th>cont_8</th>\n",
       "      <th>cont_9</th>\n",
       "      <th>...</th>\n",
       "      <th>cat_15</th>\n",
       "      <th>cat_16</th>\n",
       "      <th>cat_17</th>\n",
       "      <th>cat_18</th>\n",
       "      <th>cat_19</th>\n",
       "      <th>cat_20</th>\n",
       "      <th>cat_21</th>\n",
       "      <th>cat_22</th>\n",
       "      <th>cat_23</th>\n",
       "      <th>target</th>\n",
       "    </tr>\n",
       "  </thead>\n",
       "  <tbody>\n",
       "    <tr>\n",
       "      <th>0</th>\n",
       "      <td>cxcon_1</td>\n",
       "      <td>0</td>\n",
       "      <td>1032</td>\n",
       "      <td>0</td>\n",
       "      <td>0.0</td>\n",
       "      <td>0.0</td>\n",
       "      <td>0.0</td>\n",
       "      <td>0.0</td>\n",
       "      <td>1.0</td>\n",
       "      <td>0.0</td>\n",
       "      <td>...</td>\n",
       "      <td>0</td>\n",
       "      <td>0</td>\n",
       "      <td>0</td>\n",
       "      <td>0</td>\n",
       "      <td>0</td>\n",
       "      <td>511</td>\n",
       "      <td>511</td>\n",
       "      <td>255</td>\n",
       "      <td>255</td>\n",
       "      <td>2</td>\n",
       "    </tr>\n",
       "    <tr>\n",
       "      <th>1</th>\n",
       "      <td>cxcon_4</td>\n",
       "      <td>0</td>\n",
       "      <td>520</td>\n",
       "      <td>0</td>\n",
       "      <td>0.0</td>\n",
       "      <td>0.0</td>\n",
       "      <td>0.0</td>\n",
       "      <td>0.0</td>\n",
       "      <td>1.0</td>\n",
       "      <td>0.0</td>\n",
       "      <td>...</td>\n",
       "      <td>0</td>\n",
       "      <td>0</td>\n",
       "      <td>0</td>\n",
       "      <td>0</td>\n",
       "      <td>0</td>\n",
       "      <td>511</td>\n",
       "      <td>511</td>\n",
       "      <td>255</td>\n",
       "      <td>255</td>\n",
       "      <td>0</td>\n",
       "    </tr>\n",
       "  </tbody>\n",
       "</table>\n",
       "<p>2 rows × 43 columns</p>\n",
       "</div>"
      ],
      "text/plain": [
       "  connection_id  cont_1  cont_2  cont_3  cont_4  cont_5  cont_6  cont_7  \\\n",
       "0       cxcon_1       0    1032       0     0.0     0.0     0.0     0.0   \n",
       "1       cxcon_4       0     520       0     0.0     0.0     0.0     0.0   \n",
       "\n",
       "   cont_8  cont_9   ...    cat_15  cat_16  cat_17  cat_18  cat_19  cat_20  \\\n",
       "0     1.0     0.0   ...         0       0       0       0       0     511   \n",
       "1     1.0     0.0   ...         0       0       0       0       0     511   \n",
       "\n",
       "   cat_21  cat_22  cat_23  target  \n",
       "0     511     255     255       2  \n",
       "1     511     255     255       0  \n",
       "\n",
       "[2 rows x 43 columns]"
      ]
     },
     "execution_count": 6,
     "metadata": {},
     "output_type": "execute_result"
    }
   ],
   "source": [
    "train.head(2)"
   ]
  },
  {
   "cell_type": "code",
   "execution_count": 7,
   "metadata": {},
   "outputs": [
    {
     "data": {
      "text/plain": [
       "0    98868\n",
       "2    36854\n",
       "1    33585\n",
       "Name: target, dtype: int64"
      ]
     },
     "execution_count": 7,
     "metadata": {},
     "output_type": "execute_result"
    }
   ],
   "source": [
    "train['target'].value_counts()"
   ]
  },
  {
   "cell_type": "code",
   "execution_count": 8,
   "metadata": {},
   "outputs": [
    {
     "data": {
      "text/plain": [
       "<matplotlib.axes._subplots.AxesSubplot at 0xafe1130>"
      ]
     },
     "execution_count": 8,
     "metadata": {},
     "output_type": "execute_result"
    },
    {
     "data": {
      "image/png": "[encoded data removed]",
      "text/plain": [
       "<matplotlib.figure.Figure at 0xafe1770>"
      ]
     },
     "metadata": {},
     "output_type": "display_data"
    }
   ],
   "source": [
    "sns.distplot(train['target'], kde=False)"
   ]
  },
  {
   "cell_type": "code",
   "execution_count": 9,
   "metadata": {},
   "outputs": [
    {
     "data": {
      "text/plain": [
       "(91166, 42)"
      ]
     },
     "execution_count": 9,
     "metadata": {},
     "output_type": "execute_result"
    }
   ],
   "source": [
    "test.shape"
   ]
  },
  {
   "cell_type": "code",
   "execution_count": null,
   "metadata": {
    "collapsed": true
   },
   "outputs": [],
   "source": [
    "train_features = [x for x in train.columns if x not in ['connection_id','target']]\n",
    "\n",
    "X = train[train_features].values\n",
    "y = train.loc[:,'target'].values\n",
    "T = test[train_features].values\n",
    "\n",
    "#create the models\n",
    "# LightGBM params\n",
    "lgb_params_1 = {\n",
    "    'learning_rate': 0.01,\n",
    "    'n_estimators': 1250,\n",
    "    'max_bin': 10,\n",
    "    'subsample': 0.8,\n",
    "    'subsample_freq': 10,\n",
    "    'colsample_bytree': 0.8, \n",
    "    'min_child_samples': 500\n",
    "}\n",
    "\n",
    "lgb_params_2 = {\n",
    "    'learning_rate': 0.005,\n",
    "    'n_estimators': 3700,\n",
    "    'subsample': 0.7,\n",
    "    'subsample_freq': 2,\n",
    "    'colsample_bytree': 0.3,  \n",
    "    'num_leaves': 16\n",
    "}\n",
    "\n",
    "lgb_params_3 = {\n",
    "   'objective':'binary:logistic',\n",
    "   'learning_rate':0.02,\n",
    "    'n_estimators':1000,\n",
    "    'max_depth':4,\n",
    "    'subsample':0.9,\n",
    "    'colsample_bytree':0.9,  \n",
    "    'min_child_weight':10\n",
    "}\n",
    "\n",
    "lgb_model_1 = LGBMClassifier(**lgb_params_1)\n",
    "lgb_model_2 = LGBMClassifier(**lgb_params_2)\n",
    "lgb_model_3 = XGBClassifier(**lgb_params_3)\n",
    "#base_models = (lgb_model_1, lgb_model_2, lgb_model_3)\n",
    "base_models = (lgb_model_1, lgb_model_2)\n",
    "\n",
    "log_model = LogisticRegression()\n",
    "stacker = log_model\n",
    "print(\"models created\")"
   ]
  },
  {
   "cell_type": "code",
   "execution_count": 60,
   "metadata": {},
   "outputs": [
    {
     "name": "stdout",
     "output_type": "stream",
     "text": [
      "models created\n"
     ]
    }
   ],
   "source": [
    "train_features = [x for x in train.columns if x not in ['connection_id','target']]\n",
    "\n",
    "X = train[train_features].values\n",
    "y = train.loc[:,'target'].values\n",
    "T = test[train_features].values\n",
    "\n",
    "clf1 = RandomForestClassifier()\n",
    "clf2 = RandomForestClassifier()\n",
    "\n",
    "base_models = (clf1, clf2)\n",
    "\n",
    "log_model = LogisticRegression()\n",
    "stacker = log_model\n",
    "print(\"models created\")"
   ]
  },
  {
   "cell_type": "code",
   "execution_count": 69,
   "metadata": {},
   "outputs": [
    {
     "name": "stdout",
     "output_type": "stream",
     "text": [
      "(112871, 41)\n",
      "Fit RandomForestClassifier fold 1\n",
      "(112871, 41)\n",
      "Fit RandomForestClassifier fold 2\n",
      "(112872, 41)\n",
      "Fit RandomForestClassifier fold 3\n",
      "(112871, 41)\n",
      "Fit RandomForestClassifier fold 1\n",
      "(112871, 41)\n",
      "Fit RandomForestClassifier fold 2\n",
      "(112872, 41)\n",
      "Fit RandomForestClassifier fold 3\n"
     ]
    },
    {
     "data": {
      "image/png": "[encoded data removed]",
      "text/plain": [
       "<matplotlib.figure.Figure at 0xbf4eaf0>"
      ]
     },
     "metadata": {},
     "output_type": "display_data"
    }
   ],
   "source": [
    "#now we have the data with equal set of positives and negatives\n",
    "#lets check cross validation scores\n",
    "from scipy.stats import mode\n",
    "n_splits=3\n",
    "folds = list(StratifiedKFold(n_splits, shuffle=True, random_state=10).split(X, y))\n",
    "S_train = np.zeros((X.shape[0], len(base_models)))\n",
    "S_test = np.zeros((T.shape[0], len(base_models)))\n",
    "\n",
    "for i, clf in enumerate(base_models):\n",
    "    S_test_i = np.zeros((T.shape[0], n_splits))\n",
    "    for j, (train_idx, test_idx) in enumerate(folds):\n",
    "        X_train = X[train_idx]\n",
    "        y_train = y[train_idx]\n",
    "        X_holdout = X[test_idx]\n",
    "        print(X_train.shape)\n",
    "        \n",
    "        \"\"\"# Get positive examples\n",
    "        pos_1 = pd.Series(y_train == 1)\n",
    "        pos_2 = pd.Series(y_train == 2)\n",
    "        # Add positive examples - 1\n",
    "        X_train = pd.concat([pd.DataFrame(X_train), pd.DataFrame(X_train[pos_1])])\n",
    "        y_train = pd.concat([pd.DataFrame(y_train), pd.DataFrame(y_train[pos_1])])\n",
    "        # Add positive examples - 2\n",
    "        X_train = pd.concat([pd.DataFrame(X_train), pd.DataFrame(X_train[pos_2])])\n",
    "        y_train = pd.concat([pd.DataFrame(y_train), pd.DataFrame(y_train[pos_2])])\n",
    "        \n",
    "        # Shuffle data\n",
    "        idx = np.arange(len(X_train))\n",
    "        np.random.shuffle(idx)\n",
    "        X_train = X_train.iloc[idx]\n",
    "        y_train = y_train.iloc[idx]\"\"\"\n",
    "\n",
    "        print (\"Fit %s fold %d\" % (str(clf).split('(')[0], j+1))\n",
    "        clf.fit(X_train, y_train)\n",
    "        #y_pred = clf.predict(X_holdout)\n",
    "        y_pred = clf.predict_proba(X_holdout)[:,1]  \n",
    "        \n",
    "        S_train[test_idx, i] = y_pred\n",
    "        #S_test_i[:, j] = clf.predict(T)\n",
    "        S_test_i[:, j] = clf.predict_proba(T)[:,1]\n",
    "    \n",
    "    #print(S_test_i)\n",
    "    #print(mode(S_test_i, axis=1)[0].flatten())\n",
    "    #print(S_test_i.mean(axis=1))\n",
    "    #S_test[:, i] = mode(S_test_i, axis=1)[0].flatten()\n",
    "    S_test[:, i] = S_test_i.mean(axis=1)\n",
    "    sns.distplot(S_test[:, i],kde=False)"
   ]
  },
  {
   "cell_type": "code",
   "execution_count": 61,
   "metadata": {},
   "outputs": [
    {
     "name": "stdout",
     "output_type": "stream",
     "text": [
      "Stacker score: 0.77322\n",
      "[ 0.7737582   0.7748804   0.7713366   0.7717433   0.77436503]\n",
      "S train size is :  (169307, 2)\n",
      "[1 0 0 ..., 0 0 1]\n"
     ]
    }
   ],
   "source": [
    "results = cross_val_score(stacker, X, y, cv=5)\n",
    "print(\"Stacker score: %.5f\" % (results.mean()))\n",
    "print(results)\n",
    "\n",
    "print(\"S train size is : \", S_train.shape)\n",
    "stacker.fit(X, y)\n",
    "res = stacker.predict(T)\n",
    "\n",
    "print(res)"
   ]
  },
  {
   "cell_type": "code",
   "execution_count": 29,
   "metadata": {},
   "outputs": [
    {
     "name": "stdout",
     "output_type": "stream",
     "text": [
      "91166\n",
      "91166\n"
     ]
    }
   ],
   "source": [
    "print(len(res))\n",
    "print(len(id_test))"
   ]
  },
  {
   "cell_type": "code",
   "execution_count": 62,
   "metadata": {},
   "outputs": [
    {
     "data": {
      "text/plain": [
       "<matplotlib.axes._subplots.AxesSubplot at 0x6776d50>"
      ]
     },
     "execution_count": 62,
     "metadata": {},
     "output_type": "execute_result"
    },
    {
     "data": {
      "image/png": "[encoded data removed]",
      "text/plain": [
       "<matplotlib.figure.Figure at 0xbb173b0>"
      ]
     },
     "metadata": {},
     "output_type": "display_data"
    }
   ],
   "source": [
    "sns.distplot(res,kde=False)"
   ]
  },
  {
   "cell_type": "code",
   "execution_count": null,
   "metadata": {
    "collapsed": true
   },
   "outputs": [],
   "source": [
    "print(results)\n",
    "print(res)\n",
    "\n",
    "sub = pd.DataFrame()\n",
    "sub['id'] = id_test\n",
    "sub['target'] = res\n",
    "sub.to_csv('stacked_result_strat_upsample.csv', index=False)\n",
    "\n",
    "print('completed')"
   ]
  },
  {
   "cell_type": "code",
   "execution_count": null,
   "metadata": {},
   "outputs": [],
   "source": []
  },
  {
   "cell_type": "code",
   "execution_count": null,
   "metadata": {
    "collapsed": true
   },
   "outputs": [],
   "source": []
  },
  {
   "cell_type": "code",
   "execution_count": null,
   "metadata": {
    "collapsed": true
   },
   "outputs": [],
   "source": []
  }
 ],
 "metadata": {
  "celltoolbar": "Raw Cell Format",
  "kernelspec": {
   "display_name": "Python 3",
   "language": "python",
   "name": "python3"
  },
  "language_info": {
   "codemirror_mode": {
    "name": "ipython",
    "version": 3
   },
   "file_extension": ".py",
   "mimetype": "text/x-python",
   "name": "python",
   "nbconvert_exporter": "python",
   "pygments_lexer": "ipython3",
   "version": "3.6.3"
  }
 },
 "nbformat": 4,
 "nbformat_minor": 2
}
