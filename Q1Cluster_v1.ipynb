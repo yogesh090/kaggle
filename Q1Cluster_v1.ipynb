{
 "cells": [
  {
   "cell_type": "code",
   "execution_count": 6,
   "metadata": {
    "collapsed": true
   },
   "outputs": [],
   "source": [
    "import pandas as pd\n",
    "import numpy as np\n",
    "from sklearn.cluster import KMeans\n",
    "from sklearn.metrics import silhouette_score\n",
    "from sklearn.preprocessing import LabelEncoder, RobustScaler"
   ]
  },
  {
   "cell_type": "code",
   "execution_count": 7,
   "metadata": {},
   "outputs": [
    {
     "data": {
      "text/plain": [
       "'C:\\\\Users\\\\635718\\\\Desktop\\\\DataScience\\\\HackerEarth\\\\FutureDatathon'"
      ]
     },
     "execution_count": 7,
     "metadata": {},
     "output_type": "execute_result"
    }
   ],
   "source": [
    "pwd"
   ]
  },
  {
   "cell_type": "code",
   "execution_count": 8,
   "metadata": {
    "collapsed": true
   },
   "outputs": [],
   "source": [
    "## load data\n",
    "products = pd.read_csv('./Q1ClData/cproducts.csv')\n",
    "payment = pd.read_csv('./Q1ClData/ctender.csv')\n",
    "\n",
    "#products = products.head(2000)\n",
    "#payment = payment.head(2000)"
   ]
  },
  {
   "cell_type": "code",
   "execution_count": 9,
   "metadata": {},
   "outputs": [
    {
     "data": {
      "text/html": [
       "<div>\n",
       "<style>\n",
       "    .dataframe thead tr:only-child th {\n",
       "        text-align: right;\n",
       "    }\n",
       "\n",
       "    .dataframe thead th {\n",
       "        text-align: left;\n",
       "    }\n",
       "\n",
       "    .dataframe tbody tr th {\n",
       "        vertical-align: top;\n",
       "    }\n",
       "</style>\n",
       "<table border=\"1\" class=\"dataframe\">\n",
       "  <thead>\n",
       "    <tr style=\"text-align: right;\">\n",
       "      <th></th>\n",
       "      <th>customerID</th>\n",
       "      <th>DOB</th>\n",
       "      <th>Gender</th>\n",
       "      <th>State</th>\n",
       "      <th>PinCode</th>\n",
       "      <th>transactionDate</th>\n",
       "      <th>store_code</th>\n",
       "      <th>store_description</th>\n",
       "      <th>till_no</th>\n",
       "      <th>transaction_number_by_till</th>\n",
       "      <th>promo_code</th>\n",
       "      <th>promotion_description</th>\n",
       "      <th>product_code</th>\n",
       "      <th>product_description</th>\n",
       "      <th>sale_price_after_promo</th>\n",
       "      <th>discountUsed</th>\n",
       "    </tr>\n",
       "  </thead>\n",
       "  <tbody>\n",
       "    <tr>\n",
       "      <th>0</th>\n",
       "      <td>BBID_20482</td>\n",
       "      <td>1975-10-20</td>\n",
       "      <td>male</td>\n",
       "      <td>MADHYA PRADESH</td>\n",
       "      <td>453441.0</td>\n",
       "      <td>2016-05-01</td>\n",
       "      <td>2655</td>\n",
       "      <td>BB-INDORE-MALHAR MEGA MALL</td>\n",
       "      <td>2</td>\n",
       "      <td>85246</td>\n",
       "      <td>NONPROMO</td>\n",
       "      <td>NaN</td>\n",
       "      <td>1000446431</td>\n",
       "      <td>PATANJALI CHOCOS 125g</td>\n",
       "      <td>55.0</td>\n",
       "      <td>Payback</td>\n",
       "    </tr>\n",
       "    <tr>\n",
       "      <th>1</th>\n",
       "      <td>BBID_20485</td>\n",
       "      <td>1955-07-21</td>\n",
       "      <td>female</td>\n",
       "      <td>NaN</td>\n",
       "      <td>999999.0</td>\n",
       "      <td>2017-03-09</td>\n",
       "      <td>2655</td>\n",
       "      <td>BB-INDORE-MALHAR MEGA MALL</td>\n",
       "      <td>8</td>\n",
       "      <td>78829</td>\n",
       "      <td>NONPROMO</td>\n",
       "      <td>NaN</td>\n",
       "      <td>1000010431</td>\n",
       "      <td>SOO FRESH ROLLS HOT DOG 4P</td>\n",
       "      <td>30.0</td>\n",
       "      <td>Payback</td>\n",
       "    </tr>\n",
       "  </tbody>\n",
       "</table>\n",
       "</div>"
      ],
      "text/plain": [
       "   customerID         DOB  Gender           State   PinCode transactionDate  \\\n",
       "0  BBID_20482  1975-10-20    male  MADHYA PRADESH  453441.0      2016-05-01   \n",
       "1  BBID_20485  1955-07-21  female             NaN  999999.0      2017-03-09   \n",
       "\n",
       "   store_code           store_description  till_no  \\\n",
       "0        2655  BB-INDORE-MALHAR MEGA MALL        2   \n",
       "1        2655  BB-INDORE-MALHAR MEGA MALL        8   \n",
       "\n",
       "   transaction_number_by_till promo_code promotion_description  product_code  \\\n",
       "0                       85246   NONPROMO                   NaN    1000446431   \n",
       "1                       78829   NONPROMO                   NaN    1000010431   \n",
       "\n",
       "          product_description  sale_price_after_promo discountUsed  \n",
       "0       PATANJALI CHOCOS 125g                    55.0      Payback  \n",
       "1  SOO FRESH ROLLS HOT DOG 4P                    30.0      Payback  "
      ]
     },
     "execution_count": 9,
     "metadata": {},
     "output_type": "execute_result"
    }
   ],
   "source": [
    "products.head(2)"
   ]
  },
  {
   "cell_type": "code",
   "execution_count": 10,
   "metadata": {},
   "outputs": [
    {
     "name": "stdout",
     "output_type": "stream",
     "text": [
      "<class 'pandas.core.frame.DataFrame'>\n",
      "RangeIndex: 11972 entries, 0 to 11971\n",
      "Data columns (total 16 columns):\n",
      "customerID                    11972 non-null object\n",
      "DOB                           11653 non-null object\n",
      "Gender                        10944 non-null object\n",
      "State                         10389 non-null object\n",
      "PinCode                       11155 non-null float64\n",
      "transactionDate               11972 non-null object\n",
      "store_code                    11972 non-null int64\n",
      "store_description             11972 non-null object\n",
      "till_no                       11972 non-null int64\n",
      "transaction_number_by_till    11972 non-null int64\n",
      "promo_code                    11972 non-null object\n",
      "promotion_description         3462 non-null object\n",
      "product_code                  11972 non-null int64\n",
      "product_description           11972 non-null object\n",
      "sale_price_after_promo        11972 non-null float64\n",
      "discountUsed                  11972 non-null object\n",
      "dtypes: float64(2), int64(4), object(10)\n",
      "memory usage: 1.0+ MB\n"
     ]
    }
   ],
   "source": [
    "products.info()"
   ]
  },
  {
   "cell_type": "code",
   "execution_count": 11,
   "metadata": {
    "scrolled": true
   },
   "outputs": [
    {
     "data": {
      "text/html": [
       "<div>\n",
       "<style>\n",
       "    .dataframe thead tr:only-child th {\n",
       "        text-align: right;\n",
       "    }\n",
       "\n",
       "    .dataframe thead th {\n",
       "        text-align: left;\n",
       "    }\n",
       "\n",
       "    .dataframe tbody tr th {\n",
       "        vertical-align: top;\n",
       "    }\n",
       "</style>\n",
       "<table border=\"1\" class=\"dataframe\">\n",
       "  <thead>\n",
       "    <tr style=\"text-align: right;\">\n",
       "      <th></th>\n",
       "      <th>customerID</th>\n",
       "      <th>DOB</th>\n",
       "      <th>Gender</th>\n",
       "      <th>State</th>\n",
       "      <th>PinCode</th>\n",
       "      <th>transactionDate</th>\n",
       "      <th>store_code</th>\n",
       "      <th>store_description</th>\n",
       "      <th>till_no</th>\n",
       "      <th>tender_type</th>\n",
       "      <th>transaction_number_by_till</th>\n",
       "      <th>payment_amount_by_tender</th>\n",
       "      <th>PaymentUsed</th>\n",
       "    </tr>\n",
       "  </thead>\n",
       "  <tbody>\n",
       "    <tr>\n",
       "      <th>0</th>\n",
       "      <td>BBID_2044</td>\n",
       "      <td>1984-04-02</td>\n",
       "      <td>male</td>\n",
       "      <td>NaN</td>\n",
       "      <td>626125.0</td>\n",
       "      <td>2015-09-03</td>\n",
       "      <td>4986</td>\n",
       "      <td>BB-MADURAI-KOCHADAI VILLAGE</td>\n",
       "      <td>22</td>\n",
       "      <td>GVOWN</td>\n",
       "      <td>9208</td>\n",
       "      <td>1000.00</td>\n",
       "      <td>GiftVoucher</td>\n",
       "    </tr>\n",
       "    <tr>\n",
       "      <th>1</th>\n",
       "      <td>BBID_2044</td>\n",
       "      <td>1984-04-02</td>\n",
       "      <td>male</td>\n",
       "      <td>NaN</td>\n",
       "      <td>626125.0</td>\n",
       "      <td>2015-09-03</td>\n",
       "      <td>4986</td>\n",
       "      <td>BB-MADURAI-KOCHADAI VILLAGE</td>\n",
       "      <td>22</td>\n",
       "      <td>CASH</td>\n",
       "      <td>9208</td>\n",
       "      <td>10.46</td>\n",
       "      <td>CASH</td>\n",
       "    </tr>\n",
       "  </tbody>\n",
       "</table>\n",
       "</div>"
      ],
      "text/plain": [
       "  customerID         DOB Gender State   PinCode transactionDate  store_code  \\\n",
       "0  BBID_2044  1984-04-02   male   NaN  626125.0      2015-09-03        4986   \n",
       "1  BBID_2044  1984-04-02   male   NaN  626125.0      2015-09-03        4986   \n",
       "\n",
       "             store_description  till_no tender_type  \\\n",
       "0  BB-MADURAI-KOCHADAI VILLAGE       22       GVOWN   \n",
       "1  BB-MADURAI-KOCHADAI VILLAGE       22        CASH   \n",
       "\n",
       "   transaction_number_by_till  payment_amount_by_tender  PaymentUsed  \n",
       "0                        9208                   1000.00  GiftVoucher  \n",
       "1                        9208                     10.46         CASH  "
      ]
     },
     "execution_count": 11,
     "metadata": {},
     "output_type": "execute_result"
    }
   ],
   "source": [
    "payment.head(2)"
   ]
  },
  {
   "cell_type": "code",
   "execution_count": 12,
   "metadata": {},
   "outputs": [
    {
     "data": {
      "text/plain": [
       "(149752, 13)"
      ]
     },
     "execution_count": 12,
     "metadata": {},
     "output_type": "execute_result"
    }
   ],
   "source": [
    "payment.shape"
   ]
  },
  {
   "cell_type": "code",
   "execution_count": 13,
   "metadata": {},
   "outputs": [
    {
     "data": {
      "text/plain": [
       "Index(['customerID', 'DOB', 'Gender', 'State', 'PinCode', 'transactionDate',\n",
       "       'store_code', 'store_description', 'till_no',\n",
       "       'transaction_number_by_till', 'promo_code', 'promotion_description',\n",
       "       'product_code', 'product_description', 'sale_price_after_promo',\n",
       "       'discountUsed'],\n",
       "      dtype='object')"
      ]
     },
     "execution_count": 13,
     "metadata": {},
     "output_type": "execute_result"
    }
   ],
   "source": [
    "products.columns"
   ]
  },
  {
   "cell_type": "code",
   "execution_count": 14,
   "metadata": {},
   "outputs": [
    {
     "data": {
      "text/html": [
       "<div>\n",
       "<style>\n",
       "    .dataframe thead tr:only-child th {\n",
       "        text-align: right;\n",
       "    }\n",
       "\n",
       "    .dataframe thead th {\n",
       "        text-align: left;\n",
       "    }\n",
       "\n",
       "    .dataframe tbody tr th {\n",
       "        vertical-align: top;\n",
       "    }\n",
       "</style>\n",
       "<table border=\"1\" class=\"dataframe\">\n",
       "  <thead>\n",
       "    <tr style=\"text-align: right;\">\n",
       "      <th></th>\n",
       "      <th>Total</th>\n",
       "      <th>Percent</th>\n",
       "    </tr>\n",
       "  </thead>\n",
       "  <tbody>\n",
       "    <tr>\n",
       "      <th>promotion_description</th>\n",
       "      <td>8510</td>\n",
       "      <td>0.710825</td>\n",
       "    </tr>\n",
       "    <tr>\n",
       "      <th>State</th>\n",
       "      <td>1583</td>\n",
       "      <td>0.132225</td>\n",
       "    </tr>\n",
       "    <tr>\n",
       "      <th>Gender</th>\n",
       "      <td>1028</td>\n",
       "      <td>0.085867</td>\n",
       "    </tr>\n",
       "    <tr>\n",
       "      <th>PinCode</th>\n",
       "      <td>817</td>\n",
       "      <td>0.068243</td>\n",
       "    </tr>\n",
       "    <tr>\n",
       "      <th>DOB</th>\n",
       "      <td>319</td>\n",
       "      <td>0.026646</td>\n",
       "    </tr>\n",
       "    <tr>\n",
       "      <th>discountUsed</th>\n",
       "      <td>0</td>\n",
       "      <td>0.000000</td>\n",
       "    </tr>\n",
       "  </tbody>\n",
       "</table>\n",
       "</div>"
      ],
      "text/plain": [
       "                       Total   Percent\n",
       "promotion_description   8510  0.710825\n",
       "State                   1583  0.132225\n",
       "Gender                  1028  0.085867\n",
       "PinCode                  817  0.068243\n",
       "DOB                      319  0.026646\n",
       "discountUsed               0  0.000000"
      ]
     },
     "execution_count": 14,
     "metadata": {},
     "output_type": "execute_result"
    }
   ],
   "source": [
    "#Product Missing Data\n",
    "#Missing Data\n",
    "total = products.isnull().sum().sort_values(ascending=False)\n",
    "percent = (products.isnull().sum()/products.isnull().count()).sort_values(ascending=False)\n",
    "missing_data = pd.concat([total, percent], axis=1, keys=['Total', 'Percent'])\n",
    "missing_data.head(6)"
   ]
  },
  {
   "cell_type": "code",
   "execution_count": 15,
   "metadata": {},
   "outputs": [
    {
     "data": {
      "text/plain": [
       "customerID                    10410\n",
       "DOB                            7026\n",
       "Gender                            2\n",
       "State                            37\n",
       "PinCode                        1353\n",
       "transactionDate                 790\n",
       "store_code                        7\n",
       "store_description                 7\n",
       "till_no                          25\n",
       "transaction_number_by_till    11127\n",
       "promo_code                     2214\n",
       "promotion_description          2010\n",
       "product_code                   6000\n",
       "product_description            5997\n",
       "sale_price_after_promo         2945\n",
       "discountUsed                     28\n",
       "dtype: int64"
      ]
     },
     "execution_count": 15,
     "metadata": {},
     "output_type": "execute_result"
    }
   ],
   "source": [
    "products.nunique()"
   ]
  },
  {
   "cell_type": "code",
   "execution_count": 16,
   "metadata": {},
   "outputs": [
    {
     "data": {
      "text/plain": [
       "Payback            6683\n",
       "T24Club,Payback    2085\n",
       "Name: discountUsed, dtype: int64"
      ]
     },
     "execution_count": 16,
     "metadata": {},
     "output_type": "execute_result"
    }
   ],
   "source": [
    "products['discountUsed'].value_counts().head(2)"
   ]
  },
  {
   "cell_type": "code",
   "execution_count": 17,
   "metadata": {},
   "outputs": [
    {
     "data": {
      "text/html": [
       "<div>\n",
       "<style>\n",
       "    .dataframe thead tr:only-child th {\n",
       "        text-align: right;\n",
       "    }\n",
       "\n",
       "    .dataframe thead th {\n",
       "        text-align: left;\n",
       "    }\n",
       "\n",
       "    .dataframe tbody tr th {\n",
       "        vertical-align: top;\n",
       "    }\n",
       "</style>\n",
       "<table border=\"1\" class=\"dataframe\">\n",
       "  <thead>\n",
       "    <tr style=\"text-align: right;\">\n",
       "      <th></th>\n",
       "      <th>customerID</th>\n",
       "      <th>DOB</th>\n",
       "      <th>Gender</th>\n",
       "      <th>State</th>\n",
       "      <th>PinCode</th>\n",
       "      <th>transactionDate</th>\n",
       "      <th>store_code</th>\n",
       "      <th>store_description</th>\n",
       "      <th>till_no</th>\n",
       "      <th>transaction_number_by_till</th>\n",
       "      <th>promo_code</th>\n",
       "      <th>promotion_description</th>\n",
       "      <th>product_code</th>\n",
       "      <th>product_description</th>\n",
       "      <th>sale_price_after_promo</th>\n",
       "      <th>discountUsed</th>\n",
       "    </tr>\n",
       "  </thead>\n",
       "  <tbody>\n",
       "    <tr>\n",
       "      <th>1</th>\n",
       "      <td>BBID_20485</td>\n",
       "      <td>1955-07-21</td>\n",
       "      <td>female</td>\n",
       "      <td>NaN</td>\n",
       "      <td>999999.0</td>\n",
       "      <td>2017-03-09</td>\n",
       "      <td>2655</td>\n",
       "      <td>BB-INDORE-MALHAR MEGA MALL</td>\n",
       "      <td>8</td>\n",
       "      <td>78829</td>\n",
       "      <td>NONPROMO</td>\n",
       "      <td>NaN</td>\n",
       "      <td>1000010431</td>\n",
       "      <td>SOO FRESH ROLLS HOT DOG 4P</td>\n",
       "      <td>30.0</td>\n",
       "      <td>Payback</td>\n",
       "    </tr>\n",
       "  </tbody>\n",
       "</table>\n",
       "</div>"
      ],
      "text/plain": [
       "   customerID         DOB  Gender State   PinCode transactionDate  store_code  \\\n",
       "1  BBID_20485  1955-07-21  female   NaN  999999.0      2017-03-09        2655   \n",
       "\n",
       "            store_description  till_no  transaction_number_by_till promo_code  \\\n",
       "1  BB-INDORE-MALHAR MEGA MALL        8                       78829   NONPROMO   \n",
       "\n",
       "  promotion_description  product_code         product_description  \\\n",
       "1                   NaN    1000010431  SOO FRESH ROLLS HOT DOG 4P   \n",
       "\n",
       "   sale_price_after_promo discountUsed  \n",
       "1                    30.0      Payback  "
      ]
     },
     "execution_count": 17,
     "metadata": {},
     "output_type": "execute_result"
    }
   ],
   "source": [
    "products[products['customerID'] == 'BBID_20485']"
   ]
  },
  {
   "cell_type": "code",
   "execution_count": 18,
   "metadata": {},
   "outputs": [
    {
     "data": {
      "text/html": [
       "<div>\n",
       "<style>\n",
       "    .dataframe thead tr:only-child th {\n",
       "        text-align: right;\n",
       "    }\n",
       "\n",
       "    .dataframe thead th {\n",
       "        text-align: left;\n",
       "    }\n",
       "\n",
       "    .dataframe tbody tr th {\n",
       "        vertical-align: top;\n",
       "    }\n",
       "</style>\n",
       "<table border=\"1\" class=\"dataframe\">\n",
       "  <thead>\n",
       "    <tr style=\"text-align: right;\">\n",
       "      <th></th>\n",
       "      <th>customerID</th>\n",
       "      <th>DOB</th>\n",
       "      <th>Gender</th>\n",
       "      <th>State</th>\n",
       "      <th>PinCode</th>\n",
       "      <th>transactionDate</th>\n",
       "      <th>store_code</th>\n",
       "      <th>store_description</th>\n",
       "      <th>till_no</th>\n",
       "      <th>tender_type</th>\n",
       "      <th>transaction_number_by_till</th>\n",
       "      <th>payment_amount_by_tender</th>\n",
       "      <th>PaymentUsed</th>\n",
       "    </tr>\n",
       "  </thead>\n",
       "  <tbody>\n",
       "  </tbody>\n",
       "</table>\n",
       "</div>"
      ],
      "text/plain": [
       "Empty DataFrame\n",
       "Columns: [customerID, DOB, Gender, State, PinCode, transactionDate, store_code, store_description, till_no, tender_type, transaction_number_by_till, payment_amount_by_tender, PaymentUsed]\n",
       "Index: []"
      ]
     },
     "execution_count": 18,
     "metadata": {},
     "output_type": "execute_result"
    }
   ],
   "source": [
    "payment[payment['customerID'] == 'BBID_20485']"
   ]
  },
  {
   "cell_type": "code",
   "execution_count": null,
   "metadata": {
    "collapsed": true
   },
   "outputs": [],
   "source": []
  },
  {
   "cell_type": "code",
   "execution_count": 20,
   "metadata": {
    "collapsed": true
   },
   "outputs": [],
   "source": [
    "drop_columns_products = ['State','PinCode','store_description','till_no','promo_code','promotion_description',\n",
    "                         'product_description','discountUsed','sale_price_after_promo']\n",
    "products_cleaned = products.drop(drop_columns_products, axis=1)"
   ]
  },
  {
   "cell_type": "code",
   "execution_count": 21,
   "metadata": {},
   "outputs": [
    {
     "data": {
      "text/plain": [
       "Index(['customerID', 'DOB', 'Gender', 'State', 'PinCode', 'transactionDate',\n",
       "       'store_code', 'store_description', 'till_no', 'tender_type',\n",
       "       'transaction_number_by_till', 'payment_amount_by_tender',\n",
       "       'PaymentUsed'],\n",
       "      dtype='object')"
      ]
     },
     "execution_count": 21,
     "metadata": {},
     "output_type": "execute_result"
    }
   ],
   "source": [
    "payment.columns"
   ]
  },
  {
   "cell_type": "code",
   "execution_count": 22,
   "metadata": {},
   "outputs": [
    {
     "data": {
      "text/html": [
       "<div>\n",
       "<style>\n",
       "    .dataframe thead tr:only-child th {\n",
       "        text-align: right;\n",
       "    }\n",
       "\n",
       "    .dataframe thead th {\n",
       "        text-align: left;\n",
       "    }\n",
       "\n",
       "    .dataframe tbody tr th {\n",
       "        vertical-align: top;\n",
       "    }\n",
       "</style>\n",
       "<table border=\"1\" class=\"dataframe\">\n",
       "  <thead>\n",
       "    <tr style=\"text-align: right;\">\n",
       "      <th></th>\n",
       "      <th>Total</th>\n",
       "      <th>Percent</th>\n",
       "    </tr>\n",
       "  </thead>\n",
       "  <tbody>\n",
       "    <tr>\n",
       "      <th>State</th>\n",
       "      <td>11650</td>\n",
       "      <td>0.077795</td>\n",
       "    </tr>\n",
       "    <tr>\n",
       "      <th>Gender</th>\n",
       "      <td>6663</td>\n",
       "      <td>0.044494</td>\n",
       "    </tr>\n",
       "    <tr>\n",
       "      <th>PinCode</th>\n",
       "      <td>5564</td>\n",
       "      <td>0.037155</td>\n",
       "    </tr>\n",
       "    <tr>\n",
       "      <th>DOB</th>\n",
       "      <td>4596</td>\n",
       "      <td>0.030691</td>\n",
       "    </tr>\n",
       "    <tr>\n",
       "      <th>PaymentUsed</th>\n",
       "      <td>1223</td>\n",
       "      <td>0.008167</td>\n",
       "    </tr>\n",
       "    <tr>\n",
       "      <th>payment_amount_by_tender</th>\n",
       "      <td>0</td>\n",
       "      <td>0.000000</td>\n",
       "    </tr>\n",
       "  </tbody>\n",
       "</table>\n",
       "</div>"
      ],
      "text/plain": [
       "                          Total   Percent\n",
       "State                     11650  0.077795\n",
       "Gender                     6663  0.044494\n",
       "PinCode                    5564  0.037155\n",
       "DOB                        4596  0.030691\n",
       "PaymentUsed                1223  0.008167\n",
       "payment_amount_by_tender      0  0.000000"
      ]
     },
     "execution_count": 22,
     "metadata": {},
     "output_type": "execute_result"
    }
   ],
   "source": [
    "#Payment Missing Data\n",
    "total = payment.isnull().sum().sort_values(ascending=False)\n",
    "percent = (payment.isnull().sum()/payment.isnull().count()).sort_values(ascending=False)\n",
    "missing_data = pd.concat([total, percent], axis=1, keys=['Total', 'Percent'])\n",
    "missing_data.head(6)"
   ]
  },
  {
   "cell_type": "code",
   "execution_count": 23,
   "metadata": {},
   "outputs": [
    {
     "data": {
      "text/plain": [
       "33"
      ]
     },
     "execution_count": 23,
     "metadata": {},
     "output_type": "execute_result"
    }
   ],
   "source": [
    "payment['PaymentUsed'].nunique()"
   ]
  },
  {
   "cell_type": "code",
   "execution_count": null,
   "metadata": {
    "collapsed": true
   },
   "outputs": [],
   "source": []
  },
  {
   "cell_type": "code",
   "execution_count": 25,
   "metadata": {},
   "outputs": [
    {
     "data": {
      "text/plain": [
       "customerID                     9380\n",
       "DOB                            6561\n",
       "Gender                            2\n",
       "State                            37\n",
       "PinCode                        1219\n",
       "transactionDate                 792\n",
       "store_code                        7\n",
       "store_description                 7\n",
       "till_no                          25\n",
       "tender_type                      45\n",
       "transaction_number_by_till    69460\n",
       "payment_amount_by_tender      74237\n",
       "PaymentUsed                      33\n",
       "dtype: int64"
      ]
     },
     "execution_count": 25,
     "metadata": {},
     "output_type": "execute_result"
    }
   ],
   "source": [
    "payment.nunique()"
   ]
  },
  {
   "cell_type": "code",
   "execution_count": 26,
   "metadata": {},
   "outputs": [
    {
     "data": {
      "text/plain": [
       "array(['GVOWN', 'CASH', 'EDCAXIS', 'MOBI', 'EDCSBI', 'EDCUTI', 'EDCICICI',\n",
       "       'EDCUBI', 'PYOC', 'FUTP', 'CR-NOTE(I)', 'EDCHDFC', 'PATM', 'SPCD',\n",
       "       'MVSODEXHO', 'SFOC', 'CSBK', 'CR-NOTE(R)', '5% Debit Card Disc',\n",
       "       'GVSUPP', 'Less-VISA 5% Disc', 'CASH-CASHrency', 'PARKCOUP', 'BFBB',\n",
       "       'EDCAMEX', 'BAJAJ FINANCE', 'CHEQUE', 'CASH-CASHrencyDebitsu',\n",
       "       'Less-5% Axis Discnt', 'CNIS-Credit Note Issu', 'SOMC', 'MVACCOR',\n",
       "       'Less -5% Axis Discnt', 'AXISWEDBZR', 'FUTM',\n",
       "       '5% Debit Card Discnt', 'PCLB', 'FUTP - Oxigen Wallet', 'CCNREDEEM',\n",
       "       'BHIM', 'FOODCPN', 'Cent CN Redeem', 'FGSC',\n",
       "       'CASH-CASHrencyDebitar', 'UBCC'], dtype=object)"
      ]
     },
     "execution_count": 26,
     "metadata": {},
     "output_type": "execute_result"
    }
   ],
   "source": [
    "payment['tender_type'].unique()"
   ]
  },
  {
   "cell_type": "code",
   "execution_count": 27,
   "metadata": {},
   "outputs": [
    {
     "data": {
      "text/plain": [
       "array(['GiftVoucher', 'CASH', 'AXIS', 'One MobiKwik Systems',\n",
       "       'SBI CREDIT CARD', 'UTI', 'ICICI CREDIT CARD', 'UBI CREDIT CARD',\n",
       "       'Payback', 'FuturePay', 'CREDIT NOTE (ISSUES)', 'HDFC CREDIT CARD',\n",
       "       'PATM-PAYTM WALLET', 'Store Privilage Card', 'FoodCoupon',\n",
       "       'SBI Youth Card', 'Cash Back', 'CreditNote', nan, 'SUPPLIER GV',\n",
       "       'ParkingCoupon', 'BAJAJ FINSERVE', 'AMEX CREDIT CARD', 'CHEQUE',\n",
       "       'SOMC', 'ACCOR MEAL VOUCHER', '5% Debit Card Discnt',\n",
       "       'Future Money', 'BBProfitClub', 'CREDIT NOTE (RECEIPTS)',\n",
       "       'BHIM-AXIS UPI', 'FOOD COUPON', 'FGShoppingFest', 'UBCC'], dtype=object)"
      ]
     },
     "execution_count": 27,
     "metadata": {},
     "output_type": "execute_result"
    }
   ],
   "source": [
    "payment['PaymentUsed'].unique()"
   ]
  },
  {
   "cell_type": "code",
   "execution_count": 28,
   "metadata": {},
   "outputs": [
    {
     "data": {
      "text/plain": [
       "CASH            56838\n",
       "BBProfitClub    15599\n",
       "Name: PaymentUsed, dtype: int64"
      ]
     },
     "execution_count": 28,
     "metadata": {},
     "output_type": "execute_result"
    }
   ],
   "source": [
    "payment['PaymentUsed'].value_counts().head(2)"
   ]
  },
  {
   "cell_type": "code",
   "execution_count": 29,
   "metadata": {
    "collapsed": true
   },
   "outputs": [],
   "source": [
    "drop_columns_payment = ['DOB','Gender','State','PinCode','store_description','till_no','tender_type','PaymentUsed']\n",
    "payment_cleaned = payment.drop(drop_columns_payment, axis=1)"
   ]
  },
  {
   "cell_type": "code",
   "execution_count": 30,
   "metadata": {},
   "outputs": [
    {
     "data": {
      "text/plain": [
       "Index(['customerID', 'DOB', 'Gender', 'transactionDate', 'store_code',\n",
       "       'transaction_number_by_till', 'product_code'],\n",
       "      dtype='object')"
      ]
     },
     "execution_count": 30,
     "metadata": {},
     "output_type": "execute_result"
    }
   ],
   "source": [
    "products_cleaned.columns"
   ]
  },
  {
   "cell_type": "code",
   "execution_count": 31,
   "metadata": {},
   "outputs": [
    {
     "data": {
      "text/plain": [
       "(11972, 7)"
      ]
     },
     "execution_count": 31,
     "metadata": {},
     "output_type": "execute_result"
    }
   ],
   "source": [
    "products_cleaned.shape"
   ]
  },
  {
   "cell_type": "code",
   "execution_count": 33,
   "metadata": {},
   "outputs": [
    {
     "data": {
      "text/html": [
       "<div>\n",
       "<style>\n",
       "    .dataframe thead tr:only-child th {\n",
       "        text-align: right;\n",
       "    }\n",
       "\n",
       "    .dataframe thead th {\n",
       "        text-align: left;\n",
       "    }\n",
       "\n",
       "    .dataframe tbody tr th {\n",
       "        vertical-align: top;\n",
       "    }\n",
       "</style>\n",
       "<table border=\"1\" class=\"dataframe\">\n",
       "  <thead>\n",
       "    <tr style=\"text-align: right;\">\n",
       "      <th></th>\n",
       "      <th>customerID</th>\n",
       "      <th>DOB</th>\n",
       "      <th>Gender</th>\n",
       "      <th>transactionDate</th>\n",
       "      <th>store_code</th>\n",
       "      <th>transaction_number_by_till</th>\n",
       "      <th>product_code</th>\n",
       "    </tr>\n",
       "  </thead>\n",
       "  <tbody>\n",
       "    <tr>\n",
       "      <th>0</th>\n",
       "      <td>BBID_20482</td>\n",
       "      <td>1975-10-20</td>\n",
       "      <td>male</td>\n",
       "      <td>2016-05-01</td>\n",
       "      <td>2655</td>\n",
       "      <td>85246</td>\n",
       "      <td>1000446431</td>\n",
       "    </tr>\n",
       "    <tr>\n",
       "      <th>1</th>\n",
       "      <td>BBID_20485</td>\n",
       "      <td>1955-07-21</td>\n",
       "      <td>female</td>\n",
       "      <td>2017-03-09</td>\n",
       "      <td>2655</td>\n",
       "      <td>78829</td>\n",
       "      <td>1000010431</td>\n",
       "    </tr>\n",
       "  </tbody>\n",
       "</table>\n",
       "</div>"
      ],
      "text/plain": [
       "   customerID         DOB  Gender transactionDate  store_code  \\\n",
       "0  BBID_20482  1975-10-20    male      2016-05-01        2655   \n",
       "1  BBID_20485  1955-07-21  female      2017-03-09        2655   \n",
       "\n",
       "   transaction_number_by_till  product_code  \n",
       "0                       85246    1000446431  \n",
       "1                       78829    1000010431  "
      ]
     },
     "execution_count": 33,
     "metadata": {},
     "output_type": "execute_result"
    }
   ],
   "source": [
    "products_cleaned.head(2)"
   ]
  },
  {
   "cell_type": "code",
   "execution_count": 34,
   "metadata": {
    "scrolled": true
   },
   "outputs": [
    {
     "data": {
      "text/html": [
       "<div>\n",
       "<style>\n",
       "    .dataframe thead tr:only-child th {\n",
       "        text-align: right;\n",
       "    }\n",
       "\n",
       "    .dataframe thead th {\n",
       "        text-align: left;\n",
       "    }\n",
       "\n",
       "    .dataframe tbody tr th {\n",
       "        vertical-align: top;\n",
       "    }\n",
       "</style>\n",
       "<table border=\"1\" class=\"dataframe\">\n",
       "  <thead>\n",
       "    <tr style=\"text-align: right;\">\n",
       "      <th></th>\n",
       "      <th>customerID</th>\n",
       "      <th>DOB</th>\n",
       "      <th>Gender</th>\n",
       "      <th>transactionDate</th>\n",
       "      <th>store_code</th>\n",
       "      <th>transaction_number_by_till</th>\n",
       "      <th>product_code</th>\n",
       "    </tr>\n",
       "  </thead>\n",
       "  <tbody>\n",
       "    <tr>\n",
       "      <th>4681</th>\n",
       "      <td>BBID_20486376</td>\n",
       "      <td>1948-08-09</td>\n",
       "      <td>male</td>\n",
       "      <td>2016-02-05</td>\n",
       "      <td>2655</td>\n",
       "      <td>21038</td>\n",
       "      <td>108001116</td>\n",
       "    </tr>\n",
       "    <tr>\n",
       "      <th>4682</th>\n",
       "      <td>BBID_20486376</td>\n",
       "      <td>1948-08-09</td>\n",
       "      <td>male</td>\n",
       "      <td>2016-06-04</td>\n",
       "      <td>2655</td>\n",
       "      <td>97718</td>\n",
       "      <td>300989893</td>\n",
       "    </tr>\n",
       "    <tr>\n",
       "      <th>6555</th>\n",
       "      <td>BBID_20486376</td>\n",
       "      <td>1948-08-09</td>\n",
       "      <td>male</td>\n",
       "      <td>2015-10-19</td>\n",
       "      <td>2655</td>\n",
       "      <td>10573</td>\n",
       "      <td>301018402</td>\n",
       "    </tr>\n",
       "  </tbody>\n",
       "</table>\n",
       "</div>"
      ],
      "text/plain": [
       "         customerID         DOB Gender transactionDate  store_code  \\\n",
       "4681  BBID_20486376  1948-08-09   male      2016-02-05        2655   \n",
       "4682  BBID_20486376  1948-08-09   male      2016-06-04        2655   \n",
       "6555  BBID_20486376  1948-08-09   male      2015-10-19        2655   \n",
       "\n",
       "      transaction_number_by_till  product_code  \n",
       "4681                       21038     108001116  \n",
       "4682                       97718     300989893  \n",
       "6555                       10573     301018402  "
      ]
     },
     "execution_count": 34,
     "metadata": {},
     "output_type": "execute_result"
    }
   ],
   "source": [
    "#BBID_20486376\n",
    "products_cleaned[products_cleaned['customerID'] == 'BBID_20486376']"
   ]
  },
  {
   "cell_type": "code",
   "execution_count": 35,
   "metadata": {},
   "outputs": [
    {
     "data": {
      "text/html": [
       "<div>\n",
       "<style>\n",
       "    .dataframe thead tr:only-child th {\n",
       "        text-align: right;\n",
       "    }\n",
       "\n",
       "    .dataframe thead th {\n",
       "        text-align: left;\n",
       "    }\n",
       "\n",
       "    .dataframe tbody tr th {\n",
       "        vertical-align: top;\n",
       "    }\n",
       "</style>\n",
       "<table border=\"1\" class=\"dataframe\">\n",
       "  <thead>\n",
       "    <tr style=\"text-align: right;\">\n",
       "      <th></th>\n",
       "      <th>customerID</th>\n",
       "      <th>transactionDate</th>\n",
       "      <th>store_code</th>\n",
       "      <th>transaction_number_by_till</th>\n",
       "      <th>payment_amount_by_tender</th>\n",
       "    </tr>\n",
       "  </thead>\n",
       "  <tbody>\n",
       "    <tr>\n",
       "      <th>65319</th>\n",
       "      <td>BBID_20486376</td>\n",
       "      <td>2016-05-04</td>\n",
       "      <td>2655</td>\n",
       "      <td>38847</td>\n",
       "      <td>2083.00</td>\n",
       "    </tr>\n",
       "    <tr>\n",
       "      <th>65320</th>\n",
       "      <td>BBID_20486376</td>\n",
       "      <td>2016-06-04</td>\n",
       "      <td>2655</td>\n",
       "      <td>97718</td>\n",
       "      <td>1500.00</td>\n",
       "    </tr>\n",
       "    <tr>\n",
       "      <th>65321</th>\n",
       "      <td>BBID_20486376</td>\n",
       "      <td>2016-06-04</td>\n",
       "      <td>2655</td>\n",
       "      <td>97718</td>\n",
       "      <td>1599.94</td>\n",
       "    </tr>\n",
       "    <tr>\n",
       "      <th>65322</th>\n",
       "      <td>BBID_20486376</td>\n",
       "      <td>2016-06-04</td>\n",
       "      <td>2655</td>\n",
       "      <td>97718</td>\n",
       "      <td>850.00</td>\n",
       "    </tr>\n",
       "    <tr>\n",
       "      <th>65323</th>\n",
       "      <td>BBID_20486376</td>\n",
       "      <td>2016-02-05</td>\n",
       "      <td>2655</td>\n",
       "      <td>21038</td>\n",
       "      <td>4500.00</td>\n",
       "    </tr>\n",
       "    <tr>\n",
       "      <th>65324</th>\n",
       "      <td>BBID_20486376</td>\n",
       "      <td>2016-02-05</td>\n",
       "      <td>2655</td>\n",
       "      <td>21038</td>\n",
       "      <td>1297.00</td>\n",
       "    </tr>\n",
       "    <tr>\n",
       "      <th>65325</th>\n",
       "      <td>BBID_20486376</td>\n",
       "      <td>2016-02-05</td>\n",
       "      <td>2655</td>\n",
       "      <td>21038</td>\n",
       "      <td>3788.27</td>\n",
       "    </tr>\n",
       "    <tr>\n",
       "      <th>80882</th>\n",
       "      <td>BBID_20486376</td>\n",
       "      <td>2015-10-19</td>\n",
       "      <td>2655</td>\n",
       "      <td>10573</td>\n",
       "      <td>2000.00</td>\n",
       "    </tr>\n",
       "    <tr>\n",
       "      <th>80883</th>\n",
       "      <td>BBID_20486376</td>\n",
       "      <td>2015-10-19</td>\n",
       "      <td>2655</td>\n",
       "      <td>10573</td>\n",
       "      <td>3641.77</td>\n",
       "    </tr>\n",
       "    <tr>\n",
       "      <th>80884</th>\n",
       "      <td>BBID_20486376</td>\n",
       "      <td>2015-10-19</td>\n",
       "      <td>2655</td>\n",
       "      <td>10573</td>\n",
       "      <td>500.00</td>\n",
       "    </tr>\n",
       "  </tbody>\n",
       "</table>\n",
       "</div>"
      ],
      "text/plain": [
       "          customerID transactionDate  store_code  transaction_number_by_till  \\\n",
       "65319  BBID_20486376      2016-05-04        2655                       38847   \n",
       "65320  BBID_20486376      2016-06-04        2655                       97718   \n",
       "65321  BBID_20486376      2016-06-04        2655                       97718   \n",
       "65322  BBID_20486376      2016-06-04        2655                       97718   \n",
       "65323  BBID_20486376      2016-02-05        2655                       21038   \n",
       "65324  BBID_20486376      2016-02-05        2655                       21038   \n",
       "65325  BBID_20486376      2016-02-05        2655                       21038   \n",
       "80882  BBID_20486376      2015-10-19        2655                       10573   \n",
       "80883  BBID_20486376      2015-10-19        2655                       10573   \n",
       "80884  BBID_20486376      2015-10-19        2655                       10573   \n",
       "\n",
       "       payment_amount_by_tender  \n",
       "65319                   2083.00  \n",
       "65320                   1500.00  \n",
       "65321                   1599.94  \n",
       "65322                    850.00  \n",
       "65323                   4500.00  \n",
       "65324                   1297.00  \n",
       "65325                   3788.27  \n",
       "80882                   2000.00  \n",
       "80883                   3641.77  \n",
       "80884                    500.00  "
      ]
     },
     "execution_count": 35,
     "metadata": {},
     "output_type": "execute_result"
    }
   ],
   "source": [
    "payment_cleaned[payment_cleaned['customerID'] == 'BBID_20486376']"
   ]
  },
  {
   "cell_type": "code",
   "execution_count": null,
   "metadata": {
    "collapsed": true
   },
   "outputs": [],
   "source": []
  },
  {
   "cell_type": "code",
   "execution_count": 36,
   "metadata": {},
   "outputs": [
    {
     "data": {
      "text/plain": [
       "Index(['customerID', 'transactionDate', 'store_code',\n",
       "       'transaction_number_by_till', 'payment_amount_by_tender'],\n",
       "      dtype='object')"
      ]
     },
     "execution_count": 36,
     "metadata": {},
     "output_type": "execute_result"
    }
   ],
   "source": [
    "payment_cleaned.columns"
   ]
  },
  {
   "cell_type": "code",
   "execution_count": 37,
   "metadata": {},
   "outputs": [
    {
     "data": {
      "text/plain": [
       "(149752, 5)"
      ]
     },
     "execution_count": 37,
     "metadata": {},
     "output_type": "execute_result"
    }
   ],
   "source": [
    "payment_cleaned.shape"
   ]
  },
  {
   "cell_type": "code",
   "execution_count": 38,
   "metadata": {},
   "outputs": [
    {
     "data": {
      "text/html": [
       "<div>\n",
       "<style>\n",
       "    .dataframe thead tr:only-child th {\n",
       "        text-align: right;\n",
       "    }\n",
       "\n",
       "    .dataframe thead th {\n",
       "        text-align: left;\n",
       "    }\n",
       "\n",
       "    .dataframe tbody tr th {\n",
       "        vertical-align: top;\n",
       "    }\n",
       "</style>\n",
       "<table border=\"1\" class=\"dataframe\">\n",
       "  <thead>\n",
       "    <tr style=\"text-align: right;\">\n",
       "      <th></th>\n",
       "      <th>customerID</th>\n",
       "      <th>transactionDate</th>\n",
       "      <th>store_code</th>\n",
       "      <th>transaction_number_by_till</th>\n",
       "      <th>payment_amount_by_tender</th>\n",
       "    </tr>\n",
       "  </thead>\n",
       "  <tbody>\n",
       "    <tr>\n",
       "      <th>0</th>\n",
       "      <td>BBID_2044</td>\n",
       "      <td>2015-09-03</td>\n",
       "      <td>4986</td>\n",
       "      <td>9208</td>\n",
       "      <td>1000.00</td>\n",
       "    </tr>\n",
       "    <tr>\n",
       "      <th>1</th>\n",
       "      <td>BBID_2044</td>\n",
       "      <td>2015-09-03</td>\n",
       "      <td>4986</td>\n",
       "      <td>9208</td>\n",
       "      <td>10.46</td>\n",
       "    </tr>\n",
       "  </tbody>\n",
       "</table>\n",
       "</div>"
      ],
      "text/plain": [
       "  customerID transactionDate  store_code  transaction_number_by_till  \\\n",
       "0  BBID_2044      2015-09-03        4986                        9208   \n",
       "1  BBID_2044      2015-09-03        4986                        9208   \n",
       "\n",
       "   payment_amount_by_tender  \n",
       "0                   1000.00  \n",
       "1                     10.46  "
      ]
     },
     "execution_count": 38,
     "metadata": {},
     "output_type": "execute_result"
    }
   ],
   "source": [
    "payment_cleaned.head(2)"
   ]
  },
  {
   "cell_type": "code",
   "execution_count": 39,
   "metadata": {
    "collapsed": true
   },
   "outputs": [],
   "source": [
    "#grouping the data in the payment to combine the amount per transaction\n",
    "payment_cleaned['totalSpend'] = payment_cleaned.groupby(['customerID','transactionDate','store_code',\n",
    "                                                         'transaction_number_by_till']).transform('sum')"
   ]
  },
  {
   "cell_type": "code",
   "execution_count": 40,
   "metadata": {},
   "outputs": [
    {
     "data": {
      "text/html": [
       "<div>\n",
       "<style>\n",
       "    .dataframe thead tr:only-child th {\n",
       "        text-align: right;\n",
       "    }\n",
       "\n",
       "    .dataframe thead th {\n",
       "        text-align: left;\n",
       "    }\n",
       "\n",
       "    .dataframe tbody tr th {\n",
       "        vertical-align: top;\n",
       "    }\n",
       "</style>\n",
       "<table border=\"1\" class=\"dataframe\">\n",
       "  <thead>\n",
       "    <tr style=\"text-align: right;\">\n",
       "      <th></th>\n",
       "      <th>customerID</th>\n",
       "      <th>transactionDate</th>\n",
       "      <th>store_code</th>\n",
       "      <th>transaction_number_by_till</th>\n",
       "      <th>payment_amount_by_tender</th>\n",
       "      <th>totalSpend</th>\n",
       "    </tr>\n",
       "  </thead>\n",
       "  <tbody>\n",
       "    <tr>\n",
       "      <th>0</th>\n",
       "      <td>BBID_2044</td>\n",
       "      <td>2015-09-03</td>\n",
       "      <td>4986</td>\n",
       "      <td>9208</td>\n",
       "      <td>1000.00</td>\n",
       "      <td>1010.46</td>\n",
       "    </tr>\n",
       "    <tr>\n",
       "      <th>1</th>\n",
       "      <td>BBID_2044</td>\n",
       "      <td>2015-09-03</td>\n",
       "      <td>4986</td>\n",
       "      <td>9208</td>\n",
       "      <td>10.46</td>\n",
       "      <td>1010.46</td>\n",
       "    </tr>\n",
       "    <tr>\n",
       "      <th>2</th>\n",
       "      <td>BBID_2044</td>\n",
       "      <td>2016-04-17</td>\n",
       "      <td>4986</td>\n",
       "      <td>90269</td>\n",
       "      <td>677.28</td>\n",
       "      <td>1677.28</td>\n",
       "    </tr>\n",
       "    <tr>\n",
       "      <th>3</th>\n",
       "      <td>BBID_2044</td>\n",
       "      <td>2016-04-17</td>\n",
       "      <td>4986</td>\n",
       "      <td>90268</td>\n",
       "      <td>1042.00</td>\n",
       "      <td>1042.00</td>\n",
       "    </tr>\n",
       "    <tr>\n",
       "      <th>4</th>\n",
       "      <td>BBID_2044</td>\n",
       "      <td>2016-04-17</td>\n",
       "      <td>4986</td>\n",
       "      <td>90269</td>\n",
       "      <td>1000.00</td>\n",
       "      <td>1677.28</td>\n",
       "    </tr>\n",
       "  </tbody>\n",
       "</table>\n",
       "</div>"
      ],
      "text/plain": [
       "  customerID transactionDate  store_code  transaction_number_by_till  \\\n",
       "0  BBID_2044      2015-09-03        4986                        9208   \n",
       "1  BBID_2044      2015-09-03        4986                        9208   \n",
       "2  BBID_2044      2016-04-17        4986                       90269   \n",
       "3  BBID_2044      2016-04-17        4986                       90268   \n",
       "4  BBID_2044      2016-04-17        4986                       90269   \n",
       "\n",
       "   payment_amount_by_tender  totalSpend  \n",
       "0                   1000.00     1010.46  \n",
       "1                     10.46     1010.46  \n",
       "2                    677.28     1677.28  \n",
       "3                   1042.00     1042.00  \n",
       "4                   1000.00     1677.28  "
      ]
     },
     "execution_count": 40,
     "metadata": {},
     "output_type": "execute_result"
    }
   ],
   "source": [
    "payment_cleaned.head()"
   ]
  },
  {
   "cell_type": "code",
   "execution_count": 41,
   "metadata": {},
   "outputs": [
    {
     "data": {
      "text/plain": [
       "(149752, 6)"
      ]
     },
     "execution_count": 41,
     "metadata": {},
     "output_type": "execute_result"
    }
   ],
   "source": [
    "payment_cleaned.shape"
   ]
  },
  {
   "cell_type": "code",
   "execution_count": 42,
   "metadata": {
    "collapsed": true
   },
   "outputs": [],
   "source": [
    "payment_cleaned.drop('payment_amount_by_tender', axis=1, inplace=True)"
   ]
  },
  {
   "cell_type": "code",
   "execution_count": 43,
   "metadata": {},
   "outputs": [
    {
     "data": {
      "text/plain": [
       "(149752, 5)"
      ]
     },
     "execution_count": 43,
     "metadata": {},
     "output_type": "execute_result"
    }
   ],
   "source": [
    "payment_cleaned.shape"
   ]
  },
  {
   "cell_type": "code",
   "execution_count": 44,
   "metadata": {
    "collapsed": true
   },
   "outputs": [],
   "source": [
    "payment_cleaned.drop_duplicates(inplace=True)"
   ]
  },
  {
   "cell_type": "code",
   "execution_count": 45,
   "metadata": {},
   "outputs": [
    {
     "data": {
      "text/plain": [
       "(117955, 5)"
      ]
     },
     "execution_count": 45,
     "metadata": {},
     "output_type": "execute_result"
    }
   ],
   "source": [
    "payment_cleaned.shape"
   ]
  },
  {
   "cell_type": "code",
   "execution_count": 47,
   "metadata": {
    "collapsed": true
   },
   "outputs": [],
   "source": [
    "#lets visualize data\n",
    "import seaborn as sns\n",
    "%matplotlib inline"
   ]
  },
  {
   "cell_type": "code",
   "execution_count": 48,
   "metadata": {
    "collapsed": true
   },
   "outputs": [],
   "source": [
    "merge_on = ['customerID','transactionDate','store_code','transaction_number_by_till']\n",
    "merged_data = pd.merge(products_cleaned,payment_cleaned,how='left',on=merge_on)"
   ]
  },
  {
   "cell_type": "code",
   "execution_count": 49,
   "metadata": {},
   "outputs": [
    {
     "data": {
      "text/plain": [
       "(11972, 8)"
      ]
     },
     "execution_count": 49,
     "metadata": {},
     "output_type": "execute_result"
    }
   ],
   "source": [
    "merged_data.shape"
   ]
  },
  {
   "cell_type": "code",
   "execution_count": 50,
   "metadata": {},
   "outputs": [
    {
     "data": {
      "text/html": [
       "<div>\n",
       "<style>\n",
       "    .dataframe thead tr:only-child th {\n",
       "        text-align: right;\n",
       "    }\n",
       "\n",
       "    .dataframe thead th {\n",
       "        text-align: left;\n",
       "    }\n",
       "\n",
       "    .dataframe tbody tr th {\n",
       "        vertical-align: top;\n",
       "    }\n",
       "</style>\n",
       "<table border=\"1\" class=\"dataframe\">\n",
       "  <thead>\n",
       "    <tr style=\"text-align: right;\">\n",
       "      <th></th>\n",
       "      <th>customerID</th>\n",
       "      <th>DOB</th>\n",
       "      <th>Gender</th>\n",
       "      <th>transactionDate</th>\n",
       "      <th>store_code</th>\n",
       "      <th>transaction_number_by_till</th>\n",
       "      <th>product_code</th>\n",
       "      <th>totalSpend</th>\n",
       "    </tr>\n",
       "  </thead>\n",
       "  <tbody>\n",
       "    <tr>\n",
       "      <th>0</th>\n",
       "      <td>BBID_20482</td>\n",
       "      <td>1975-10-20</td>\n",
       "      <td>male</td>\n",
       "      <td>2016-05-01</td>\n",
       "      <td>2655</td>\n",
       "      <td>85246</td>\n",
       "      <td>1000446431</td>\n",
       "      <td>65.00</td>\n",
       "    </tr>\n",
       "    <tr>\n",
       "      <th>1</th>\n",
       "      <td>BBID_20485</td>\n",
       "      <td>1955-07-21</td>\n",
       "      <td>female</td>\n",
       "      <td>2017-03-09</td>\n",
       "      <td>2655</td>\n",
       "      <td>78829</td>\n",
       "      <td>1000010431</td>\n",
       "      <td>NaN</td>\n",
       "    </tr>\n",
       "    <tr>\n",
       "      <th>2</th>\n",
       "      <td>BBID_20498</td>\n",
       "      <td>1981-03-19</td>\n",
       "      <td>female</td>\n",
       "      <td>2015-08-12</td>\n",
       "      <td>2655</td>\n",
       "      <td>1064</td>\n",
       "      <td>1000077851005</td>\n",
       "      <td>768.45</td>\n",
       "    </tr>\n",
       "    <tr>\n",
       "      <th>3</th>\n",
       "      <td>BBID_20499</td>\n",
       "      <td>1986-05-10</td>\n",
       "      <td>male</td>\n",
       "      <td>2016-12-18</td>\n",
       "      <td>2615</td>\n",
       "      <td>51080</td>\n",
       "      <td>1000443231</td>\n",
       "      <td>1701.24</td>\n",
       "    </tr>\n",
       "    <tr>\n",
       "      <th>4</th>\n",
       "      <td>BBID_204110</td>\n",
       "      <td>1988-02-29</td>\n",
       "      <td>male</td>\n",
       "      <td>2015-12-31</td>\n",
       "      <td>2655</td>\n",
       "      <td>21911</td>\n",
       "      <td>300481741</td>\n",
       "      <td>224.89</td>\n",
       "    </tr>\n",
       "  </tbody>\n",
       "</table>\n",
       "</div>"
      ],
      "text/plain": [
       "    customerID         DOB  Gender transactionDate  store_code  \\\n",
       "0   BBID_20482  1975-10-20    male      2016-05-01        2655   \n",
       "1   BBID_20485  1955-07-21  female      2017-03-09        2655   \n",
       "2   BBID_20498  1981-03-19  female      2015-08-12        2655   \n",
       "3   BBID_20499  1986-05-10    male      2016-12-18        2615   \n",
       "4  BBID_204110  1988-02-29    male      2015-12-31        2655   \n",
       "\n",
       "   transaction_number_by_till   product_code  totalSpend  \n",
       "0                       85246     1000446431       65.00  \n",
       "1                       78829     1000010431         NaN  \n",
       "2                        1064  1000077851005      768.45  \n",
       "3                       51080     1000443231     1701.24  \n",
       "4                       21911      300481741      224.89  "
      ]
     },
     "execution_count": 50,
     "metadata": {},
     "output_type": "execute_result"
    }
   ],
   "source": [
    "merged_data.head()"
   ]
  },
  {
   "cell_type": "code",
   "execution_count": 51,
   "metadata": {},
   "outputs": [
    {
     "data": {
      "text/plain": [
       "BBID_211419317    7\n",
       "BBID_20470588     6\n",
       "Name: customerID, dtype: int64"
      ]
     },
     "execution_count": 51,
     "metadata": {},
     "output_type": "execute_result"
    }
   ],
   "source": [
    "merged_data['customerID'].value_counts().head(2)"
   ]
  },
  {
   "cell_type": "code",
   "execution_count": 52,
   "metadata": {},
   "outputs": [
    {
     "data": {
      "text/html": [
       "<div>\n",
       "<style>\n",
       "    .dataframe thead tr:only-child th {\n",
       "        text-align: right;\n",
       "    }\n",
       "\n",
       "    .dataframe thead th {\n",
       "        text-align: left;\n",
       "    }\n",
       "\n",
       "    .dataframe tbody tr th {\n",
       "        vertical-align: top;\n",
       "    }\n",
       "</style>\n",
       "<table border=\"1\" class=\"dataframe\">\n",
       "  <thead>\n",
       "    <tr style=\"text-align: right;\">\n",
       "      <th></th>\n",
       "      <th>customerID</th>\n",
       "      <th>DOB</th>\n",
       "      <th>Gender</th>\n",
       "      <th>transactionDate</th>\n",
       "      <th>store_code</th>\n",
       "      <th>transaction_number_by_till</th>\n",
       "      <th>product_code</th>\n",
       "      <th>totalSpend</th>\n",
       "    </tr>\n",
       "  </thead>\n",
       "  <tbody>\n",
       "    <tr>\n",
       "      <th>5367</th>\n",
       "      <td>BBID_20492878</td>\n",
       "      <td>1963-12-03</td>\n",
       "      <td>male</td>\n",
       "      <td>2016-10-23</td>\n",
       "      <td>4986</td>\n",
       "      <td>92253</td>\n",
       "      <td>108000704</td>\n",
       "      <td>5196.86</td>\n",
       "    </tr>\n",
       "    <tr>\n",
       "      <th>5368</th>\n",
       "      <td>BBID_20492878</td>\n",
       "      <td>1963-12-03</td>\n",
       "      <td>male</td>\n",
       "      <td>2015-07-08</td>\n",
       "      <td>4986</td>\n",
       "      <td>93578</td>\n",
       "      <td>1000040699005</td>\n",
       "      <td>6037.58</td>\n",
       "    </tr>\n",
       "    <tr>\n",
       "      <th>5369</th>\n",
       "      <td>BBID_20492878</td>\n",
       "      <td>1963-12-03</td>\n",
       "      <td>male</td>\n",
       "      <td>2016-07-06</td>\n",
       "      <td>4986</td>\n",
       "      <td>79249</td>\n",
       "      <td>108000666</td>\n",
       "      <td>3833.33</td>\n",
       "    </tr>\n",
       "    <tr>\n",
       "      <th>5370</th>\n",
       "      <td>BBID_20492878</td>\n",
       "      <td>1963-12-03</td>\n",
       "      <td>male</td>\n",
       "      <td>2016-07-06</td>\n",
       "      <td>4986</td>\n",
       "      <td>79248</td>\n",
       "      <td>108013313</td>\n",
       "      <td>2619.40</td>\n",
       "    </tr>\n",
       "  </tbody>\n",
       "</table>\n",
       "</div>"
      ],
      "text/plain": [
       "         customerID         DOB Gender transactionDate  store_code  \\\n",
       "5367  BBID_20492878  1963-12-03   male      2016-10-23        4986   \n",
       "5368  BBID_20492878  1963-12-03   male      2015-07-08        4986   \n",
       "5369  BBID_20492878  1963-12-03   male      2016-07-06        4986   \n",
       "5370  BBID_20492878  1963-12-03   male      2016-07-06        4986   \n",
       "\n",
       "      transaction_number_by_till   product_code  totalSpend  \n",
       "5367                       92253      108000704     5196.86  \n",
       "5368                       93578  1000040699005     6037.58  \n",
       "5369                       79249      108000666     3833.33  \n",
       "5370                       79248      108013313     2619.40  "
      ]
     },
     "execution_count": 52,
     "metadata": {},
     "output_type": "execute_result"
    }
   ],
   "source": [
    "merged_data[merged_data['customerID'] == 'BBID_20492878']"
   ]
  },
  {
   "cell_type": "code",
   "execution_count": 59,
   "metadata": {},
   "outputs": [
    {
     "data": {
      "text/html": [
       "<div>\n",
       "<style>\n",
       "    .dataframe thead tr:only-child th {\n",
       "        text-align: right;\n",
       "    }\n",
       "\n",
       "    .dataframe thead th {\n",
       "        text-align: left;\n",
       "    }\n",
       "\n",
       "    .dataframe tbody tr th {\n",
       "        vertical-align: top;\n",
       "    }\n",
       "</style>\n",
       "<table border=\"1\" class=\"dataframe\">\n",
       "  <thead>\n",
       "    <tr style=\"text-align: right;\">\n",
       "      <th></th>\n",
       "      <th>Total</th>\n",
       "      <th>Percent</th>\n",
       "    </tr>\n",
       "  </thead>\n",
       "  <tbody>\n",
       "    <tr>\n",
       "      <th>totalSpend</th>\n",
       "      <td>0</td>\n",
       "      <td>0.0</td>\n",
       "    </tr>\n",
       "    <tr>\n",
       "      <th>product_code</th>\n",
       "      <td>0</td>\n",
       "      <td>0.0</td>\n",
       "    </tr>\n",
       "    <tr>\n",
       "      <th>transaction_number_by_till</th>\n",
       "      <td>0</td>\n",
       "      <td>0.0</td>\n",
       "    </tr>\n",
       "    <tr>\n",
       "      <th>store_code</th>\n",
       "      <td>0</td>\n",
       "      <td>0.0</td>\n",
       "    </tr>\n",
       "    <tr>\n",
       "      <th>transactionDate</th>\n",
       "      <td>0</td>\n",
       "      <td>0.0</td>\n",
       "    </tr>\n",
       "    <tr>\n",
       "      <th>Gender</th>\n",
       "      <td>0</td>\n",
       "      <td>0.0</td>\n",
       "    </tr>\n",
       "  </tbody>\n",
       "</table>\n",
       "</div>"
      ],
      "text/plain": [
       "                            Total  Percent\n",
       "totalSpend                      0      0.0\n",
       "product_code                    0      0.0\n",
       "transaction_number_by_till      0      0.0\n",
       "store_code                      0      0.0\n",
       "transactionDate                 0      0.0\n",
       "Gender                          0      0.0"
      ]
     },
     "execution_count": 59,
     "metadata": {},
     "output_type": "execute_result"
    }
   ],
   "source": [
    "#Merged Data missing values\n",
    "total = merged_data.isnull().sum().sort_values(ascending=False)\n",
    "percent = (merged_data.isnull().sum()/merged_data.isnull().count()).sort_values(ascending=False)\n",
    "missing_data = pd.concat([total, percent], axis=1, keys=['Total', 'Percent'])\n",
    "missing_data.head(6)"
   ]
  },
  {
   "cell_type": "code",
   "execution_count": 54,
   "metadata": {},
   "outputs": [
    {
     "name": "stdout",
     "output_type": "stream",
     "text": [
      "<class 'pandas.core.frame.DataFrame'>\n",
      "Int64Index: 11972 entries, 0 to 11971\n",
      "Data columns (total 8 columns):\n",
      "customerID                    11972 non-null object\n",
      "DOB                           11653 non-null object\n",
      "Gender                        10944 non-null object\n",
      "transactionDate               11972 non-null object\n",
      "store_code                    11972 non-null int64\n",
      "transaction_number_by_till    11972 non-null int64\n",
      "product_code                  11972 non-null int64\n",
      "totalSpend                    10833 non-null float64\n",
      "dtypes: float64(1), int64(3), object(4)\n",
      "memory usage: 654.7+ KB\n"
     ]
    }
   ],
   "source": [
    "merged_data.info()"
   ]
  },
  {
   "cell_type": "code",
   "execution_count": 55,
   "metadata": {},
   "outputs": [
    {
     "data": {
      "text/plain": [
       "Timestamp('1991-12-03 00:00:00')"
      ]
     },
     "execution_count": 55,
     "metadata": {},
     "output_type": "execute_result"
    }
   ],
   "source": [
    "pd.to_datetime(\"1991-12-03\")"
   ]
  },
  {
   "cell_type": "code",
   "execution_count": 56,
   "metadata": {
    "collapsed": true
   },
   "outputs": [],
   "source": [
    "#add missing data\n",
    "merged_data['totalSpend'].fillna(merged_data['totalSpend'].mean(), inplace=True)\n",
    "merged_data['Gender'].fillna('male', inplace=True)\n",
    "merged_data['DOB'].fillna(pd.to_datetime(\"1991-12-03\"), inplace=True)"
   ]
  },
  {
   "cell_type": "code",
   "execution_count": 57,
   "metadata": {
    "collapsed": true
   },
   "outputs": [],
   "source": [
    "#Change Gender to categorical\n",
    "merged_data['Gender'] = merged_data['Gender'].map( {'female': 0, 'male': 1} ).astype(int)"
   ]
  },
  {
   "cell_type": "code",
   "execution_count": 61,
   "metadata": {},
   "outputs": [],
   "source": [
    "merged_data[merged_data['DOB'] == 'NANA'] = pd.to_datetime(\"1991-12-03\")"
   ]
  },
  {
   "cell_type": "code",
   "execution_count": 62,
   "metadata": {},
   "outputs": [
    {
     "data": {
      "text/html": [
       "<div>\n",
       "<style>\n",
       "    .dataframe thead tr:only-child th {\n",
       "        text-align: right;\n",
       "    }\n",
       "\n",
       "    .dataframe thead th {\n",
       "        text-align: left;\n",
       "    }\n",
       "\n",
       "    .dataframe tbody tr th {\n",
       "        vertical-align: top;\n",
       "    }\n",
       "</style>\n",
       "<table border=\"1\" class=\"dataframe\">\n",
       "  <thead>\n",
       "    <tr style=\"text-align: right;\">\n",
       "      <th></th>\n",
       "      <th>customerID</th>\n",
       "      <th>DOB</th>\n",
       "      <th>Gender</th>\n",
       "      <th>transactionDate</th>\n",
       "      <th>store_code</th>\n",
       "      <th>transaction_number_by_till</th>\n",
       "      <th>product_code</th>\n",
       "      <th>totalSpend</th>\n",
       "    </tr>\n",
       "  </thead>\n",
       "  <tbody>\n",
       "  </tbody>\n",
       "</table>\n",
       "</div>"
      ],
      "text/plain": [
       "Empty DataFrame\n",
       "Columns: [customerID, DOB, Gender, transactionDate, store_code, transaction_number_by_till, product_code, totalSpend]\n",
       "Index: []"
      ]
     },
     "execution_count": 62,
     "metadata": {},
     "output_type": "execute_result"
    }
   ],
   "source": [
    "merged_data[merged_data['DOB'] == 'NANA']"
   ]
  },
  {
   "cell_type": "code",
   "execution_count": 63,
   "metadata": {},
   "outputs": [],
   "source": [
    "#merged_data['MyDOB'] =  pd.to_datetime(merged_data['DOB'], format='%Y-%m-%d')"
   ]
  },
  {
   "cell_type": "code",
   "execution_count": 68,
   "metadata": {},
   "outputs": [],
   "source": [
    "#get Age from DOB\n",
    "merged_data['age'] = pd.to_datetime('today').year - pd.to_datetime(merged_data['DOB']).dt.year"
   ]
  },
  {
   "cell_type": "code",
   "execution_count": 69,
   "metadata": {
    "collapsed": true
   },
   "outputs": [],
   "source": [
    "#get day of purchase from transactionDate\n",
    "merged_data['day_of_transaction'] = pd.to_datetime(merged_data['transactionDate']).dt.weekday"
   ]
  },
  {
   "cell_type": "code",
   "execution_count": 72,
   "metadata": {},
   "outputs": [
    {
     "data": {
      "text/html": [
       "<div>\n",
       "<style>\n",
       "    .dataframe thead tr:only-child th {\n",
       "        text-align: right;\n",
       "    }\n",
       "\n",
       "    .dataframe thead th {\n",
       "        text-align: left;\n",
       "    }\n",
       "\n",
       "    .dataframe tbody tr th {\n",
       "        vertical-align: top;\n",
       "    }\n",
       "</style>\n",
       "<table border=\"1\" class=\"dataframe\">\n",
       "  <thead>\n",
       "    <tr style=\"text-align: right;\">\n",
       "      <th></th>\n",
       "      <th>customerID</th>\n",
       "      <th>Gender</th>\n",
       "      <th>store_code</th>\n",
       "      <th>product_code</th>\n",
       "      <th>totalSpend</th>\n",
       "      <th>age</th>\n",
       "      <th>day_of_transaction</th>\n",
       "    </tr>\n",
       "  </thead>\n",
       "  <tbody>\n",
       "    <tr>\n",
       "      <th>0</th>\n",
       "      <td>BBID_20482</td>\n",
       "      <td>1</td>\n",
       "      <td>2655</td>\n",
       "      <td>1000446431</td>\n",
       "      <td>65</td>\n",
       "      <td>42</td>\n",
       "      <td>6</td>\n",
       "    </tr>\n",
       "    <tr>\n",
       "      <th>1</th>\n",
       "      <td>BBID_20485</td>\n",
       "      <td>0</td>\n",
       "      <td>2655</td>\n",
       "      <td>1000010431</td>\n",
       "      <td>3079.66</td>\n",
       "      <td>62</td>\n",
       "      <td>3</td>\n",
       "    </tr>\n",
       "    <tr>\n",
       "      <th>2</th>\n",
       "      <td>BBID_20498</td>\n",
       "      <td>0</td>\n",
       "      <td>2655</td>\n",
       "      <td>1000077851005</td>\n",
       "      <td>768.45</td>\n",
       "      <td>36</td>\n",
       "      <td>2</td>\n",
       "    </tr>\n",
       "    <tr>\n",
       "      <th>3</th>\n",
       "      <td>BBID_20499</td>\n",
       "      <td>1</td>\n",
       "      <td>2615</td>\n",
       "      <td>1000443231</td>\n",
       "      <td>1701.24</td>\n",
       "      <td>31</td>\n",
       "      <td>6</td>\n",
       "    </tr>\n",
       "    <tr>\n",
       "      <th>4</th>\n",
       "      <td>BBID_204110</td>\n",
       "      <td>1</td>\n",
       "      <td>2655</td>\n",
       "      <td>300481741</td>\n",
       "      <td>224.89</td>\n",
       "      <td>29</td>\n",
       "      <td>3</td>\n",
       "    </tr>\n",
       "  </tbody>\n",
       "</table>\n",
       "</div>"
      ],
      "text/plain": [
       "    customerID Gender store_code   product_code totalSpend  age  \\\n",
       "0   BBID_20482      1       2655     1000446431         65   42   \n",
       "1   BBID_20485      0       2655     1000010431    3079.66   62   \n",
       "2   BBID_20498      0       2655  1000077851005     768.45   36   \n",
       "3   BBID_20499      1       2615     1000443231    1701.24   31   \n",
       "4  BBID_204110      1       2655      300481741     224.89   29   \n",
       "\n",
       "   day_of_transaction  \n",
       "0                   6  \n",
       "1                   3  \n",
       "2                   2  \n",
       "3                   6  \n",
       "4                   3  "
      ]
     },
     "execution_count": 72,
     "metadata": {},
     "output_type": "execute_result"
    }
   ],
   "source": [
    "#Drop the final set of columns\n",
    "merged_data = merged_data.drop(['DOB','transactionDate','transaction_number_by_till','MyDOB'], axis=1)\n",
    "\n",
    "#then start clustering\n",
    "merged_data.head()"
   ]
  },
  {
   "cell_type": "code",
   "execution_count": 75,
   "metadata": {},
   "outputs": [
    {
     "name": "stdout",
     "output_type": "stream",
     "text": [
      "<class 'pandas.core.frame.DataFrame'>\n",
      "Int64Index: 11972 entries, 0 to 11971\n",
      "Data columns (total 7 columns):\n",
      "customerID            11972 non-null object\n",
      "Gender                11972 non-null object\n",
      "store_code            11972 non-null object\n",
      "product_code          11972 non-null object\n",
      "totalSpend            11972 non-null object\n",
      "age                   11972 non-null int64\n",
      "day_of_transaction    11972 non-null int64\n",
      "dtypes: int64(2), object(5)\n",
      "memory usage: 770.4+ KB\n"
     ]
    }
   ],
   "source": [
    "merged_data.info()"
   ]
  },
  {
   "cell_type": "code",
   "execution_count": null,
   "metadata": {
    "collapsed": true
   },
   "outputs": [],
   "source": []
  },
  {
   "cell_type": "code",
   "execution_count": 235,
   "metadata": {
    "collapsed": true
   },
   "outputs": [],
   "source": [
    "## fill missing values\n",
    "\n",
    "products['promotion_description'].fillna('no_promo', inplace=True)\n",
    "products['Gender'].fillna('no_gender', inplace=True)\n",
    "products['State'].fillna('no_state', inplace=True)\n",
    "products['PinCode'].fillna(-1, inplace=True)\n",
    "products['DOB'].fillna(\"1\", inplace=True)"
   ]
  },
  {
   "cell_type": "code",
   "execution_count": 236,
   "metadata": {
    "collapsed": true
   },
   "outputs": [],
   "source": [
    "## convert data into numeric / float\n",
    "\n",
    "for c in products.columns:\n",
    "    lbl = LabelEncoder()\n",
    "    if products[c].dtype == 'object' and c not in ['store_description','customerID','transactionDate']:\n",
    "        products[c] = lbl.fit_transform(products[c])"
   ]
  },
  {
   "cell_type": "code",
   "execution_count": 237,
   "metadata": {},
   "outputs": [
    {
     "name": "stdout",
     "output_type": "stream",
     "text": [
      "[4843, 3692, 2615, 2906, 4796, 4986, 2655]\n"
     ]
    },
    {
     "name": "stderr",
     "output_type": "stream",
     "text": [
      "C:\\ProgramData\\Anaconda3\\lib\\site-packages\\ipykernel_launcher.py:15: SettingWithCopyWarning: \n",
      "A value is trying to be set on a copy of a slice from a DataFrame\n",
      "\n",
      "See the caveats in the documentation: http://pandas.pydata.org/pandas-docs/stable/indexing.html#indexing-view-versus-copy\n",
      "  from ipykernel import kernelapp as app\n"
     ]
    },
    {
     "name": "stdout",
     "output_type": "stream",
     "text": [
      "(2135, 12)\n",
      "       DOB  Gender  State   PinCode  till_no  transaction_number_by_till  \\\n",
      "7071  5870       0     17  560095.0       19                       52921   \n",
      "\n",
      "      promo_code  promotion_description  product_code  product_description  \\\n",
      "7071        2213                   2010     108009899                 2420   \n",
      "\n",
      "      sale_price_after_promo  discountUsed  \n",
      "7071                   219.0            24  \n",
      "(574, 12)\n",
      "    DOB  Gender  State   PinCode  till_no  transaction_number_by_till  \\\n",
      "8  3487       0     10  122002.0        5                       11873   \n",
      "\n",
      "   promo_code  promotion_description  product_code  product_description  \\\n",
      "8        2213                   2010    1000257325                  528   \n",
      "\n",
      "   sale_price_after_promo  discountUsed  \n",
      "8                  113.44            24  \n",
      "(723, 12)\n",
      "    DOB  Gender  State   PinCode  till_no  transaction_number_by_till  \\\n",
      "3  5224       1     21  400099.0       14                       51080   \n",
      "\n",
      "   promo_code  promotion_description  product_code  product_description  \\\n",
      "3        2213                   2010    1000443231                 4364   \n",
      "\n",
      "   sale_price_after_promo  discountUsed  \n",
      "3                    70.0            24  \n",
      "(1257, 12)\n",
      "    DOB  Gender  State   PinCode  till_no  transaction_number_by_till  \\\n",
      "6  3409       1     21  401105.0       11                       33822   \n",
      "\n",
      "   promo_code  promotion_description   product_code  product_description  \\\n",
      "6        1271                    142  1000479429005                 5228   \n",
      "\n",
      "   sale_price_after_promo  discountUsed  \n",
      "6                 1503.75            24  \n",
      "(2768, 12)\n",
      "       DOB  Gender  State   PinCode  till_no  transaction_number_by_till  \\\n",
      "7069  5322       2     17  581305.0        2                       51829   \n",
      "\n",
      "      promo_code  promotion_description  product_code  product_description  \\\n",
      "7069        2213                   2010     300570144                 1158   \n",
      "\n",
      "      sale_price_after_promo  discountUsed  \n",
      "7069                    20.0            24  \n",
      "(1748, 12)\n",
      "    DOB  Gender  State   PinCode  till_no  transaction_number_by_till  \\\n",
      "9  5231       1     30  625011.0       13                       79027   \n",
      "\n",
      "   promo_code  promotion_description  product_code  product_description  \\\n",
      "9        2213                   2010     108014378                 4484   \n",
      "\n",
      "   sale_price_after_promo  discountUsed  \n",
      "9                    72.0            24  \n",
      "(2767, 12)\n",
      "    DOB  Gender  State   PinCode  till_no  transaction_number_by_till  \\\n",
      "0  3108       1     20  453441.0        2                       85246   \n",
      "\n",
      "   promo_code  promotion_description  product_code  product_description  \\\n",
      "0        2213                   2010    1000446431                 4269   \n",
      "\n",
      "   sale_price_after_promo  discountUsed  \n",
      "0                    55.0            24  \n"
     ]
    }
   ],
   "source": [
    "## scaling, creating matrix and running k-means\n",
    "\n",
    "stores = list(set(products['store_code']))\n",
    "print(stores)\n",
    "\n",
    "cluster_labels = []\n",
    "cluster_store = []\n",
    "cluster_data = []\n",
    "cluster_customers = []\n",
    "cluster_score = []\n",
    "\n",
    "for x in stores:\n",
    "    cld = products[products['store_code'] == x]\n",
    "    cluster_customers.append(cld['customerID'])\n",
    "    cld.drop(['store_code','customerID','transactionDate','store_description'], axis=1, inplace=True)\n",
    "    \n",
    "    print(cld.shape)\n",
    "    print(cld.head(1))\n",
    "    \n",
    "    rbs = RobustScaler()\n",
    "    cld2 = rbs.fit_transform(cld)\n",
    "    #print(cld2[0])\n",
    "    \n",
    "    km1 = KMeans(n_clusters=3)\n",
    "    km2 = km1.fit(cld2)\n",
    "    label = km2.predict(cld2)\n",
    "    \n",
    "    s_score = silhouette_score(cld2, label)\n",
    "    cluster_score.append(s_score)\n",
    "    #print(s_score)\n",
    "    \n",
    "    cluster_labels.append(label)\n",
    "    cluster_store.append(np.repeat(x, cld.shape[0]))\n",
    "    cluster_data.append(cld2)"
   ]
  },
  {
   "cell_type": "code",
   "execution_count": 26,
   "metadata": {},
   "outputs": [
    {
     "data": {
      "text/plain": [
       "0.928503444284284"
      ]
     },
     "execution_count": 26,
     "metadata": {},
     "output_type": "execute_result"
    }
   ],
   "source": [
    "# check mean score per store\n",
    "np.mean(cluster_score)"
   ]
  },
  {
   "cell_type": "code",
   "execution_count": 27,
   "metadata": {},
   "outputs": [
    {
     "data": {
      "text/plain": [
       "(11972, 12)"
      ]
     },
     "execution_count": 27,
     "metadata": {},
     "output_type": "execute_result"
    }
   ],
   "source": [
    "## merge list into ndarray\n",
    "cluster_data = np.concatenate(cluster_data)\n",
    "\n",
    "## check if the array has same rows as products file - Yes!\n",
    "cluster_data.shape"
   ]
  },
  {
   "cell_type": "code",
   "execution_count": 28,
   "metadata": {
    "collapsed": true
   },
   "outputs": [],
   "source": [
    "## convert nested lists as 1d array\n",
    "cluster_customers = np.concatenate(cluster_customers)\n",
    "cluster_store = np.concatenate(cluster_store)\n",
    "cluster_labels = np.concatenate(cluster_labels)\n",
    "\n",
    "## create submission files\n",
    "sub1 = pd.DataFrame({'customerID':cluster_customers, 'store_code':cluster_store, 'cluster':cluster_labels})\n",
    "\n",
    "np.savetxt('./Q1ClData/subOne_1.txt', cluster_data)\n",
    "sub1.to_csv('./Q1ClData/subtwo_2.csv', index=False)"
   ]
  },
  {
   "cell_type": "code",
   "execution_count": null,
   "metadata": {
    "collapsed": true
   },
   "outputs": [],
   "source": []
  }
 ],
 "metadata": {
  "kernelspec": {
   "display_name": "Python 3",
   "language": "python",
   "name": "python3"
  },
  "language_info": {
   "codemirror_mode": {
    "name": "ipython",
    "version": 3
   },
   "file_extension": ".py",
   "mimetype": "text/x-python",
   "name": "python",
   "nbconvert_exporter": "python",
   "pygments_lexer": "ipython3",
   "version": "3.6.3"
  }
 },
 "nbformat": 4,
 "nbformat_minor": 2
}
